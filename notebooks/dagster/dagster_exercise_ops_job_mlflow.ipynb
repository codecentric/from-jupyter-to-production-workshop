{
 "cells": [
  {
   "cell_type": "markdown",
   "id": "6ef90d78-209d-4fb2-af61-0b062fc1c48b",
   "metadata": {},
   "source": [
    "## Data Pipeline Orchestration with Dagster Ops\n",
    "\n",
    "In this notebook we will get to know the basics of dagster Ops. Therefore, we will create a simple training pipeline to train an XGBoost classifier.\n",
    "\n",
    "Dagsters definition of Ops:\n",
    "> Ops are the core unit of computation in Dagster. The computational core of a software-defined asset is an op. \n",
    "> An individual op should perform relatively simple tasks, such as:\n",
    "> * Deriving a dataset from other datasets\n",
    "> * Executing a database query\n",
    "> * Initiating a Spark job in a remote cluster\n",
    "> * Querying an API and storing the result in a data warehouse\n",
    "> * Sending an email or Slack message\n",
    "\n",
    "Based on the data created in the dagster assets exercise, we want to derive training and test data, train the classifier, create a prediction for the test data, and finally create an analysis to determine how well the classifier performs on the test data. \n",
    "\n",
    "Therefore, we planned a small training pipeline wich will perform the following steps:\n",
    "\n",
    "1. Split data into subsets -> Create a training and test dataset (`split_data` OP)\n",
    "2. Train classifier -> Fit a XGBoost classifier (`train` OP)\n",
    "3. Create predictions -> Use the classifier to create predictions for the test data (`predict` OP)\n",
    "4. Analyse predictions -> Create a confusion matrix and a classification report for the predictions (`analyze` OP)\n",
    "\n",
    "The code for these tasks is already provided. All you need to do is put their logic together in the form of a dagster op job.\n",
    "\n",
    "After the definitions are complete, we will have a look at the dagster UI and run the op job."
   ]
  },
  {
   "cell_type": "markdown",
   "id": "3391f63a-f5de-40dd-89ed-00f4c439c534",
   "metadata": {},
   "source": [
    "Here are the imports, we will need for the whole task. You can ignore them for now."
   ]
  },
  {
   "cell_type": "code",
   "id": "6d64c230-5973-4cd5-95aa-867e53bc0464",
   "metadata": {},
   "source": [
    "from typing import Tuple\n",
    "\n",
    "import matplotlib.pyplot as plt\n",
    "import mlflow\n",
    "import numpy as np\n",
    "import pandas as pd\n",
    "from dagster import AssetKey, Config, Definitions, In, OpExecutionContext, Out, job, op\n",
    "from dagster_mlflow import end_mlflow_on_run_finished, mlflow_tracking\n",
    "from pydantic import Field\n",
    "from sklearn.metrics import (\n",
    "    ConfusionMatrixDisplay,\n",
    "    classification_report,\n",
    "    confusion_matrix,\n",
    ")\n",
    "from sklearn.model_selection import train_test_split\n",
    "from xgboost import XGBClassifier\n",
    "from xgboost.callback import TrainingCallback"
   ],
   "outputs": [],
   "execution_count": null
  },
  {
   "cell_type": "markdown",
   "id": "f2d24b4f-07b3-4854-a6be-b9883548384b",
   "metadata": {},
   "source": [
    "## 1) Split data into subsets\n",
    " The function 'split_data' contains the logic, with wich the subsets are generated.\n",
    " `SplitDataConfig` is a dagster config class which makes it possible to adjust the configuration of the op. You will see, that this config, can be modified via the dagster UI, without changing the underlying code.\n",
    " \n",
    " By adding the `op` decorator to the `split_data` function, you define it as a dagster op. Please add the decorator.\n",
    " We want to give some more information about the op. As you can see, the function generates a total of four output values. Please define these output values as `Out`s for the op. You can also do this with `out` parameter of the op decorator that is dictionary (e.g. `\"test_value\":Out()`).\n",
    " The output parameter should have the following naming to stay consistent with the following ops:\n",
    " `input_train`, `input_test`, `target_train`, `target_test`, `target_names`.\n",
    " \n",
    "\n",
    "It could also be that the separator (`sep`) used to read the CSV files changes over time. Please add the `separator` as an additional configuration parameter to the `SplitDataConfig` and use the parameter in the `split_data` function. "
   ]
  },
  {
   "cell_type": "code",
   "id": "a3f4214f-1201-4ab5-8b38-565497b14cb3",
   "metadata": {},
   "source": [
    "class SplitDataConfig(Config):\n",
    "    data_path: str = Field(\n",
    "        description=\"File path of the input data\",\n",
    "        default=\"./data/genres_standardized.csv\",\n",
    "    )\n",
    "    target_column: str = Field(\n",
    "        description=\"Column name of the target column\", default=\"genre\"\n",
    "    )\n",
    "    test_set_size: float = Field(\n",
    "        description=\"Size of the test set in percentage\", default=0.2\n",
    "    )\n",
    "    seperator: str = Field(\n",
    "        description=\"Seperator that should be used to load the data as a DataFrame\",\n",
    "        default=\";\",\n",
    "    )"
   ],
   "outputs": [],
   "execution_count": null
  },
  {
   "cell_type": "code",
   "id": "27ce933a-e223-4101-a76d-03de326b59a8",
   "metadata": {},
   "source": [
    "@op(\n",
    "    out={\n",
    "        \"input_train\": Out(),\n",
    "        \"input_test\": Out(),\n",
    "        \"target_train\": Out(),\n",
    "        \"target_test\": Out(),\n",
    "        \"target_names\": Out(),\n",
    "    },\n",
    "    # ...\n",
    ")\n",
    "def split_data(\n",
    "    config: SplitDataConfig,\n",
    ") -> Tuple[pd.DataFrame, pd.DataFrame, pd.Series, pd.Series, pd.Series]:\n",
    "    data = pd.read_csv(config.data_path, sep=config.seperator)\n",
    "    columns = list(data.columns)\n",
    "    columns.remove(config.target_column)\n",
    "    data[config.target_column] = data[config.target_column].astype(\"category\")\n",
    "    mlflow.log_param(key=\"test_size\", value=config.test_set_size)\n",
    "    data[\"target\"] = data[config.target_column].cat.codes\n",
    "    X_train, X_test, y_train, y_test = train_test_split(\n",
    "        data[columns], data[\"target\"], test_size=config.test_set_size\n",
    "    )\n",
    "    return X_train, X_test, y_train, y_test, data[config.target_column]"
   ],
   "outputs": [],
   "execution_count": null
  },
  {
   "cell_type": "markdown",
   "id": "7aa6e0c8-bbbd-4881-b06c-81d231af3aaa",
   "metadata": {},
   "source": [
    "## 2)Train classifier\n",
    "The `train_classifier` method uses the previously created subsets and the associated targets to create an XGBoost classifier. The config class `TrainConfig` is also used here to configure the ‘Train_classifier' op. For a better understanding, please add the inputs (`In`) `input_train` and `target_train` to the op decorator. "
   ]
  },
  {
   "cell_type": "code",
   "id": "66b4fd09-726b-441e-b879-0babca9ddf99",
   "metadata": {},
   "source": [
    "class TrainConfig(Config):\n",
    "    number_of_estimators: int = Field(description=\"Number of boosting rounds\")\n",
    "    learning_rate: float = Field(description=\"Boosting learning rate\", default=0.1)\n",
    "    max_depth: int = Field(\n",
    "        description=\"Maximum tree depth for base learners\", default=8\n",
    "    )\n",
    "    min_child_weight: float = Field(\n",
    "        description=\"Minimum sum of instance weight(hessian) needed in a child\",\n",
    "        default=1,\n",
    "    )\n",
    "    gamma: float = Field(\n",
    "        description=\"Minimum loss reduction required to make a further partition on a leaf node of the tree\",\n",
    "        default=0,\n",
    "    )\n",
    "    number_of_jobs: int = Field(\n",
    "        description=\"Number of parallel threads used to run xgboost\", default=4\n",
    "    )"
   ],
   "outputs": [],
   "execution_count": null
  },
  {
   "cell_type": "code",
   "id": "c969312a-179e-43a1-a0fd-c82ef9e779e6",
   "metadata": {},
   "source": [
    "class MlflowCallback(TrainingCallback):\n",
    "    def after_iteration(self, model, epoch, evals_log) -> bool:\n",
    "        for data, metric in evals_log.items():\n",
    "            for metric_name, log in metric.items():\n",
    "                mlflow.log_metric(\n",
    "                    key=metric_name, value=sum(log) / len(log), step=epoch\n",
    "                )\n",
    "        return False"
   ],
   "outputs": [],
   "execution_count": null
  },
  {
   "cell_type": "code",
   "id": "9672f32b-762d-47a2-b0ec-fca9cb12b0ef",
   "metadata": {},
   "source": [
    "@op(\n",
    "    ins={\n",
    "        \"input_train\": In(),\n",
    "        \"target_train\": In(),\n",
    "    },\n",
    "    out={\"classifier\": Out()},\n",
    "    # ...\n",
    ")\n",
    "def train_classifier(\n",
    "    config: TrainConfig, input_train: pd.DataFrame, target_train: pd.Series\n",
    ") -> XGBClassifier:\n",
    "    model = XGBClassifier(\n",
    "        learning_rate=config.learning_rate,\n",
    "        n_estimators=config.number_of_estimators,\n",
    "        max_depth=config.max_depth,\n",
    "        min_child_weight=config.min_child_weight,\n",
    "        gamma=config.gamma,\n",
    "        n_jobs=config.number_of_jobs,\n",
    "        callbacks=[MlflowCallback()],\n",
    "    )\n",
    "    model.fit(\n",
    "        input_train, target_train, eval_set=[(input_train, target_train)], verbose=False\n",
    "    )\n",
    "    mlflow.xgboost.log_model(model, \"spotify_genre_classifier\")\n",
    "    return model"
   ],
   "outputs": [],
   "execution_count": null
  },
  {
   "cell_type": "markdown",
   "id": "22e2720d-2c50-4909-ad4c-1436dccfc622",
   "metadata": {},
   "source": [
    "## 3) Create predictions\n",
    "The classifier created in the `train_classifier` op is used in the `predict` function to create predictions for `input_test` from the `split_data` op. \n",
    "To make it clear to other users of the pipeline in the Dagster UI what exactly happens in this op, please add a docstring(`\"\"\" \"\"\"`) to the function. \n",
    "\n",
    "The docstring could look like this: \n",
    "\n",
    "`In this project, an XGBoost classifier is used to generate predictions for a test set from the Spotify genres dataset.` "
   ]
  },
  {
   "cell_type": "code",
   "id": "b5ae8e03-102f-4824-a04f-bd79404242de",
   "metadata": {},
   "source": [
    "@op(ins={\"classifier\": In(), \"input_test\": In()}, out={\"predictions\": Out()})\n",
    "def predict(classifier: XGBClassifier, input_test: pd.DataFrame) -> np.ndarray:\n",
    "    \"\"\"In this project, an XGBoost classifier is used to generate predictions for a test set from the Spotify genres dataset.\"\"\"\n",
    "    predictions = classifier.predict(input_test)\n",
    "    return predictions"
   ],
   "outputs": [],
   "execution_count": null
  },
  {
   "cell_type": "code",
   "id": "6f0f81a9-b745-4248-ac9a-e2b62d080dae",
   "metadata": {},
   "source": [
    "class AnalyzeConfig(Config):\n",
    "    confusion_matrix_path: str = Field(default=\"./data/confusion_materix.png\")\n",
    "    report_path: str = Field(default=\"./data/classification_report.csv\")"
   ],
   "outputs": [],
   "execution_count": null
  },
  {
   "cell_type": "markdown",
   "id": "beb8bf20-51b8-43ca-8513-b06eb87ef5d2",
   "metadata": {},
   "source": [
    "## 4) Analyze predictions\n",
    "Finally, the generated predictions must be analyzed so that the classifier can be evaluated. The analysis is performed by the `analyze` function. \n",
    "In contrast to the other op's, this op has a parameter `context` of the type `OpExecutionContext`. It is possible to access values and functions of the execution of the op via this context. A logger (`context.log`) is also available via the context, which can be used to log something during the execution of the op. \n",
    "\n",
    "Please log the accuracy (`df_classification_report.loc[\"accuracy\"].mean()`) via the context logger. \n",
    "\n"
   ]
  },
  {
   "cell_type": "code",
   "id": "6f7a9329-91d3-4f3e-afc6-55a000e0db34",
   "metadata": {},
   "source": [
    "@op(\n",
    "    ins={\"target_test\": In(), \"predictions\": In(), \"target_names\": In()},\n",
    "    # ...\n",
    ")\n",
    "def analyze(\n",
    "    context: OpExecutionContext,\n",
    "    config: AnalyzeConfig,\n",
    "    target_test: pd.Series,\n",
    "    predictions: np.ndarray,\n",
    "    target_names: pd.Series,\n",
    "):\n",
    "    target_test = np.asarray(target_test)\n",
    "    category_labels = target_names.cat.categories\n",
    "    fig, ax = plt.subplots(figsize=(10, 10))\n",
    "    ConfusionMatrixDisplay.from_predictions(\n",
    "        target_test, predictions, ax=ax, display_labels=category_labels\n",
    "    )\n",
    "    ax.tick_params(axis=\"x\", labelrotation=70, labelbottom=True)\n",
    "    fig.savefig(config.confusion_matrix_path, pad_inches=20)\n",
    "    report = classification_report(target_test, predictions, output_dict=True)\n",
    "    df_classification_report = pd.DataFrame(report).transpose()\n",
    "    df_classification_report.to_csv(config.report_path)\n",
    "    context.log.info(\"Accuracy: %s\", df_classification_report.loc[\"accuracy\"].mean())\n",
    "    mlflow.log_artifact(\"./data/classification_report.csv\")\n",
    "    mlflow.log_artifact(\"./data/confusion_materix.png\")"
   ],
   "outputs": [],
   "execution_count": null
  },
  {
   "cell_type": "markdown",
   "id": "8da12836-7720-4c83-8451-65f12ef39a89",
   "metadata": {},
   "source": [
    "## 5) Create a op job\n",
    "To define a job from the individual ops, the ops (functions) must be linked to each other via their return values. \n",
    "Create an op job that uses the previously created ops. \n",
    "\n",
    "> *Note*: The parameters `config` and `context` do not have to be set when calling the ops. dagster will do this for us later. \n",
    "\n",
    "First call the `split_data` op and save the return values in variables so that you know later which subsets and targets are behind which variables. \n",
    "\n",
    "Then call the method \"train_classifier\" and pass the parameters `input_train` and `target_train`. Save the return value (`classifier`) in a variable as well. \n",
    "\n",
    "Proceed in the same way with the ops `predict` and `analyze`. "
   ]
  },
  {
   "cell_type": "code",
   "id": "6702cef1-11f4-4ab6-ba9a-54cc06cbd8fb",
   "metadata": {},
   "source": [
    "# ...\n",
    "@job(# ...)\n",
    "def spotify_genre_classification():\n",
    "    input_train, input_test, target_train, target_test, target_names = split_data()\n",
    "    classifier = train_classifier(input_train=input_train, target_train=target_train)\n",
    "    predictions = predict(classifier=classifier, input_test=input_test)\n",
    "    analyze(target_test=target_test, predictions=predictions, target_names=target_names)"
   ],
   "outputs": [],
   "execution_count": null
  },
  {
   "cell_type": "code",
   "id": "27246268-bfe8-4ca3-acd4-9e57f51dee5c",
   "metadata": {},
   "source": [
    "defs = Definitions(\n",
    "    jobs=[spotify_genre_classification], resources={\"mlflow\": mlflow_tracking}\n",
    ")"
   ],
   "outputs": [],
   "execution_count": null
  },
  {
   "cell_type": "markdown",
   "id": "598aace7-1e11-4f6d-9069-952517dcb99a",
   "metadata": {
    "jp-MarkdownHeadingCollapsed": true
   },
   "source": [
    "## 6) Start the job via the Dagster UI\n",
    "Open the [Dagster UI](http://localhost:3000)\n",
    "> **_NOTE:_** To ensure that the latest code is used, update the code location (Deployment -> `dagster_exercise_ops_jobs.py` -> Reload).\n",
    "\n",
    "\n",
    "You will see the `Overview` page by default. Click on the `Jobs` tab and open the `spotify_genre_classification` job again. In addition to the `Overview` tab, there is also a `Launchpad` tab. Open the Launchpad. You should see something like that: \n",
    "![](./data/assets/dagster_ui_ops_job.png)\n",
    "\n",
    "You can start the job using the `Launch Run` button in the bottom right-hand corner. Start the job. As soon as the job has run successfully, you should also see your logged accuracy relatively far down in the events. You can find the created confusion matrix and the other metrics here in the jupyter lab in the `data` folder. "
   ]
  },
  {
   "cell_type": "markdown",
   "id": "3ac553c0-dd5a-4ecf-9bf1-d6d8b20836b0",
   "metadata": {},
   "source": [
    "## 7) Adjust train config \n",
    "The pipelines can be easily configured via the Dagster UI. \n",
    "\n",
    "First remove any parameter from the configuration (e.g. `seperator`). Then the 'Scaffold all default config' button will be activated. Click that button. The deleted entry is added again with the default value from the source code. \n",
    "\n",
    "Now edit the `TrainConfig` in the source code. \n",
    "Remove the default value for the parameter `number_of_estimators`. Save this notebook.\n",
    "\n",
    "In the Launchpad of the Dagster UI, you will find a small reload button to the right of the job title (`spotify_genre_classification`) with which you can update the code. Update the code and remove the `number_of_estimators` parameter from the Launchpad. \n",
    "\n",
    "![](./data/assets/dagster_ui_ops_job_missing_config.png)\n",
    "\n",
    "You will notice that Dagster displays an error that a configuration entry is missing. Unlike a parameter with a default value, Dagster cannot execute the job without the `number_of_estimators` parameter. If you click on the `Scaffold missing config` button, dagster adds the values to the launchpad and initializes it with the value `0``."
   ]
  }
 ],
 "metadata": {
  "kernelspec": {
   "display_name": "Python 3 (ipykernel)",
   "language": "python",
   "name": "python3"
  },
  "language_info": {
   "codemirror_mode": {
    "name": "ipython",
    "version": 3
   },
   "file_extension": ".py",
   "mimetype": "text/x-python",
   "name": "python",
   "nbconvert_exporter": "python",
   "pygments_lexer": "ipython3",
   "version": "3.11.9"
  }
 },
 "nbformat": 4,
 "nbformat_minor": 5
}
