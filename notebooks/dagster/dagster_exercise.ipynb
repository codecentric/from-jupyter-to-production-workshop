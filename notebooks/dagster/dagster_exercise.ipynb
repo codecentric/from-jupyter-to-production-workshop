{
 "cells": [
  {
   "cell_type": "markdown",
   "source": [
    "# Data Pipeline Orchestration with Dagster\n",
    "\n",
    "In this notebook we will get to know the basics of dagster. Therefore, we will create a simple data pipeline.\n",
    "\n",
    "## Project Setup\n",
    "\n",
    "### Some Preparations\n",
    "\n",
    "Create a new directory `workspace/dagster_exercise`, copy some files and change the cwd."
   ],
   "metadata": {
    "collapsed": false
   },
   "id": "2b9e0459f5dff698"
  },
  {
   "cell_type": "code",
   "execution_count": null,
   "outputs": [],
   "source": [
    "%%bash\n",
    "rm -rf /workshop/workspace/dagster_exercise\n",
    "mkdir -p /workshop/workspace/dagster_exercise\n",
    "cp /workshop/notebooks/dagster/{dagster_exercise_ops.py,dagster_exercise_ops_job.py,params.yaml} /workshop/workspace/dagster_exercise"
   ],
   "metadata": {
    "collapsed": false
   },
   "id": "8836e256ca6a2334"
  },
  {
   "cell_type": "code",
   "execution_count": null,
   "outputs": [],
   "source": [
    "import os\n",
    "os.chdir(\"/workshop/workspace/dagster_exercise\")"
   ],
   "metadata": {
    "collapsed": false
   },
   "id": "efacac0b080accc0"
  },
  {
   "cell_type": "markdown",
   "source": [
    "## Dagster Op Jobs\n",
    "\n",
    "In this exercise we will define a dagster Job using Ops.\n",
    "\n",
    "In the file `dagster_exercise_ops` you will find four functions, which we will use as Ops. Notice, that some of the functions return one or more objects. This will be important when we start to combine the ops later. You don't need to change the function definition here.\n",
    "\n",
    "The Ops should be executed in the following order\n",
    "1. download_data\n",
    "2. split_data\n",
    "3. train_model\n",
    "4. evaluate model\n",
    "\n",
    "Note: The functions are imported to `dagster_exercise_ops_job` for the purpose of making this exercise cleaner. All adjustments could also be done in the original file `dagster_exercise_ops`.\n",
    "\n",
    "### Exercise 1: Define your pipeline\n",
    "\n",
    "Fill the gaps in the `dagster_exercise_ops_job` file to create a dagster job. If you need any help, have a look at the [dagster documentation of Ops](https://docs.dagster.io/_apidocs/ops).\n"
   ],
   "metadata": {
    "collapsed": false
   },
   "id": "21d7aff2efdf99a6"
  },
  {
   "cell_type": "markdown",
   "source": [
    "### Exercise 2: Start the Dagster UI\n",
    "\n",
    "After completing the creation of the pipeline, start the Dagster UI using the following command:"
   ],
   "metadata": {
    "collapsed": false
   },
   "id": "f452c0e86b50ee68"
  },
  {
   "cell_type": "code",
   "execution_count": null,
   "outputs": [],
   "source": [
    "%%bash\n",
    "dagster dev -f notebooks/dagster/dagster_exercise_ops_job.py"
   ],
   "metadata": {
    "collapsed": false,
    "ExecuteTime": {
     "end_time": "2023-11-05T14:23:08.445276Z",
     "start_time": "2023-11-05T14:23:08.439186Z"
    }
   },
   "id": "4327fa44e99d2086"
  },
  {
   "cell_type": "markdown",
   "source": [
    "You will see a graph representing the job `data_pipeline`. All ops should be shown as well as their inputs and outputs and how they are connected.\n",
    "\n",
    "### Exercise 3: Add missing Configs\n",
    "\n",
    "Click on the `Launchpad` tab. Here you can add the missing configurations of your pipeline. You might already noticed, that your first op needs two parameters `url` and `path`. Dagster is also aware of it and does not let you start a new run. It also shows an Error at the bottom left. \n",
    "\n",
    "Let's add the missing config parameters by confirming `Scaffold missing config` underneath the Error message. Fill the empty parameter values as followed:\n",
    "\n",
    "url = 'http://archive.ics.uci.edu/ml/machine-learning-databases/wine-quality/winequality-red.csv'\n",
    "path = 'data/winequality-red.csv'\n",
    "\n",
    "### Exercise 4: Launch the Job run\n",
    "\n",
    "Now Launch a run.\n",
    "\n",
    "While running, you can follow the execution of the pipeline in the dagster UI.\n",
    "\n",
    "Have a look at the UI on your own and see what dagster tracks for you.\n"
   ],
   "metadata": {
    "collapsed": false
   },
   "id": "3a60f6074a8cb10e"
  },
  {
   "cell_type": "code",
   "execution_count": null,
   "outputs": [],
   "source": [],
   "metadata": {
    "collapsed": false
   },
   "id": "30bc84975f29adca"
  }
 ],
 "metadata": {
  "kernelspec": {
   "display_name": "Python 3",
   "language": "python",
   "name": "python3"
  },
  "language_info": {
   "codemirror_mode": {
    "name": "ipython",
    "version": 2
   },
   "file_extension": ".py",
   "mimetype": "text/x-python",
   "name": "python",
   "nbconvert_exporter": "python",
   "pygments_lexer": "ipython2",
   "version": "2.7.6"
  }
 },
 "nbformat": 4,
 "nbformat_minor": 5
}
