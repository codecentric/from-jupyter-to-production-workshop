{
 "cells": [
  {
   "cell_type": "markdown",
   "id": "2b9e0459f5dff698",
   "metadata": {
    "collapsed": false,
    "jupyter": {
     "outputs_hidden": false
    }
   },
   "source": [
    "# Data Pipeline Orchestration with Dagster\n",
    "\n",
    "In this notebook we will get to know the basics of dagster. Therefore, we will create a simple data pipeline.\n",
    "\n",
    "## Project Setup\n",
    "\n",
    "### Some Preparations\n",
    "\n",
    "Change the cwd."
   ]
  },
  {
   "cell_type": "code",
   "execution_count": 1,
   "id": "efacac0b080accc0",
   "metadata": {
    "ExecuteTime": {
     "end_time": "2023-11-06T10:06:08.220265Z",
     "start_time": "2023-11-06T10:06:08.188207Z"
    },
    "collapsed": false,
    "jupyter": {
     "outputs_hidden": false
    }
   },
   "outputs": [],
   "source": [
    "import os\n",
    "os.chdir(\"/workshop\")"
   ]
  },
  {
   "cell_type": "markdown",
   "id": "21d7aff2efdf99a6",
   "metadata": {
    "collapsed": false,
    "jupyter": {
     "outputs_hidden": false
    }
   },
   "source": [
    "## Dagster Op Jobs\n",
    "\n",
    "In this exercise we will define a dagster Job using Ops.\n",
    "\n",
    "In the file `dagster_exercise_ops` you will find four functions, which we will use as Ops. Notice, that some of the functions return one or more objects. This will be important when we start to combine the ops later. You don't need to change the function definition here.\n",
    "\n",
    "The Ops should be executed in the following order\n",
    "1. download_data\n",
    "2. split_data\n",
    "3. train_model\n",
    "4. evaluate model\n",
    "\n",
    "Note: The functions are imported to `dagster_exercise_ops_job` for the purpose of making this exercise cleaner. All adjustments could also be done in the original file `dagster_exercise_ops`.\n",
    "\n",
    "### Exercise 1: Define your pipeline\n",
    "\n",
    "Fill the gaps in the `dagster_exercise_ops_job` file to create a dagster job. If you need any help, have a look at the [dagster documentation of Ops](https://docs.dagster.io/_apidocs/ops).\n"
   ]
  },
  {
   "cell_type": "markdown",
   "id": "f452c0e86b50ee68",
   "metadata": {
    "collapsed": false,
    "jupyter": {
     "outputs_hidden": false
    }
   },
   "source": [
    "### Exercise 2: Start the Dagster UI\n",
    "\n",
    "After completing the creation of the pipeline, start the Dagster UI using the following command:"
   ]
  },
  {
   "cell_type": "code",
   "execution_count": null,
   "id": "4327fa44e99d2086",
   "metadata": {
    "ExecuteTime": {
     "end_time": "2023-11-06T10:05:33.456065Z",
     "start_time": "2023-11-06T10:05:33.445420Z"
    },
    "collapsed": false,
    "jupyter": {
     "outputs_hidden": false
    }
   },
   "outputs": [
    {
     "name": "stdout",
     "output_type": "stream",
     "text": [
      "\u001b[32m2023-11-06 11:22:56 +0000\u001b[0m - dagster - \u001b[34mINFO\u001b[0m - Using temporary directory /workshop/tmptr6e9uj_ for storage. This will be removed when dagster dev exits.\n",
      "\u001b[32m2023-11-06 11:22:56 +0000\u001b[0m - dagster - \u001b[34mINFO\u001b[0m - To persist information across sessions, set the environment variable DAGSTER_HOME to a directory to use.\n",
      "\u001b[32m2023-11-06 11:22:56 +0000\u001b[0m - dagster - \u001b[34mINFO\u001b[0m - Launching Dagster services...\n",
      "\n",
      "  Telemetry:\n",
      "\n",
      "  As an open source project, we collect usage statistics to inform development priorities. For more\n",
      "  information, read https://docs.dagster.io/getting-started/telemetry.\n",
      "\n",
      "  We will not see or store solid definitions, pipeline definitions, modes, resources, context, or\n",
      "  any data that is processed within solids and pipelines.\n",
      "\n",
      "  To opt-out, add the following to $DAGSTER_HOME/dagster.yaml, creating that file if necessary:\n",
      "\n",
      "    telemetry:\n",
      "      enabled: false\n",
      "\n",
      "\n",
      "  Welcome to Dagster!\n",
      "\n",
      "  If you have any questions or would like to engage with the Dagster team, please join us on Slack\n",
      "  (https://bit.ly/39dvSsF).\n",
      "\n"
     ]
    },
    {
     "name": "stderr",
     "output_type": "stream",
     "text": [
      "/opt/pysetup/.venv/lib/python3.11/site-packages/pydantic/_internal/_fields.py:128: UserWarning: Field \"model_server_url\" has conflict with protected namespace \"model_\".\n",
      "\n",
      "You may be able to resolve this warning by setting `model_config['protected_namespaces'] = ()`.\n",
      "  warnings.warn(\n",
      "/opt/pysetup/.venv/lib/python3.11/site-packages/pydantic/_internal/_config.py:317: UserWarning: Valid config keys have changed in V2:\n",
      "* 'schema_extra' has been renamed to 'json_schema_extra'\n",
      "  warnings.warn(message, UserWarning)\n"
     ]
    },
    {
     "name": "stdout",
     "output_type": "stream",
     "text": [
      "\u001b[32m2023-11-06 11:23:07 +0000\u001b[0m - dagster.daemon - \u001b[34mINFO\u001b[0m - Instance is configured with the following daemons: ['AssetDaemon', 'BackfillDaemon', 'SchedulerDaemon', 'SensorDaemon']\n"
     ]
    },
    {
     "name": "stderr",
     "output_type": "stream",
     "text": [
      "/opt/pysetup/.venv/lib/python3.11/site-packages/pydantic/_internal/_fields.py:128: UserWarning: Field \"model_server_url\" has conflict with protected namespace \"model_\".\n",
      "\n",
      "You may be able to resolve this warning by setting `model_config['protected_namespaces'] = ()`.\n",
      "  warnings.warn(\n",
      "/opt/pysetup/.venv/lib/python3.11/site-packages/pydantic/_internal/_config.py:317: UserWarning: Valid config keys have changed in V2:\n",
      "* 'schema_extra' has been renamed to 'json_schema_extra'\n",
      "  warnings.warn(message, UserWarning)\n"
     ]
    },
    {
     "name": "stdout",
     "output_type": "stream",
     "text": [
      "\u001b[32m2023-11-06 11:23:08 +0000\u001b[0m - dagster-webserver - \u001b[34mINFO\u001b[0m - Serving dagster-webserver on http://0.0.0.0:3000 in process 70\n"
     ]
    },
    {
     "name": "stderr",
     "output_type": "stream",
     "text": [
      "/opt/pysetup/.venv/lib/python3.11/site-packages/pydantic/_internal/_fields.py:128: UserWarning: Field \"model_server_url\" has conflict with protected namespace \"model_\".\n",
      "\n",
      "You may be able to resolve this warning by setting `model_config['protected_namespaces'] = ()`.\n",
      "  warnings.warn(\n",
      "/opt/pysetup/.venv/lib/python3.11/site-packages/pydantic/_internal/_config.py:317: UserWarning: Valid config keys have changed in V2:\n",
      "* 'schema_extra' has been renamed to 'json_schema_extra'\n",
      "  warnings.warn(message, UserWarning)\n",
      "/opt/pysetup/.venv/lib/python3.11/site-packages/pydantic/_internal/_fields.py:128: UserWarning: Field \"model_server_url\" has conflict with protected namespace \"model_\".\n",
      "\n",
      "You may be able to resolve this warning by setting `model_config['protected_namespaces'] = ()`.\n",
      "  warnings.warn(\n",
      "/opt/pysetup/.venv/lib/python3.11/site-packages/pydantic/_internal/_config.py:317: UserWarning: Valid config keys have changed in V2:\n",
      "* 'schema_extra' has been renamed to 'json_schema_extra'\n",
      "  warnings.warn(message, UserWarning)\n",
      "2023-11-06 11:24:42 +0000 - dagster - DEBUG - data_pipeline - 3c748465-5987-4fe6-aa67-0c9cae5de16b - 3119 - RUN_START - Started execution of run for \"data_pipeline\".\n",
      "2023-11-06 11:24:42 +0000 - dagster - DEBUG - data_pipeline - 3c748465-5987-4fe6-aa67-0c9cae5de16b - 3119 - ENGINE_EVENT - Executing steps using multiprocess executor: parent process (pid: 3119)\n",
      "2023-11-06 11:24:42 +0000 - dagster - DEBUG - data_pipeline - 3c748465-5987-4fe6-aa67-0c9cae5de16b - 3119 - download_data_op - STEP_WORKER_STARTING - Launching subprocess for \"download_data_op\".\n",
      "/opt/pysetup/.venv/lib/python3.11/site-packages/pydantic/_internal/_fields.py:128: UserWarning: Field \"model_server_url\" has conflict with protected namespace \"model_\".\n",
      "\n",
      "You may be able to resolve this warning by setting `model_config['protected_namespaces'] = ()`.\n",
      "  warnings.warn(\n",
      "/opt/pysetup/.venv/lib/python3.11/site-packages/pydantic/_internal/_config.py:317: UserWarning: Valid config keys have changed in V2:\n",
      "* 'schema_extra' has been renamed to 'json_schema_extra'\n",
      "  warnings.warn(message, UserWarning)\n",
      "2023-11-06 11:24:50 +0000 - dagster - DEBUG - data_pipeline - 3c748465-5987-4fe6-aa67-0c9cae5de16b - 3357 - STEP_WORKER_STARTED - Executing step \"download_data_op\" in subprocess.\n",
      "2023-11-06 11:24:50 +0000 - dagster - DEBUG - data_pipeline - 3c748465-5987-4fe6-aa67-0c9cae5de16b - 3357 - download_data_op - RESOURCE_INIT_STARTED - Starting initialization of resources [io_manager].\n",
      "2023-11-06 11:24:50 +0000 - dagster - DEBUG - data_pipeline - 3c748465-5987-4fe6-aa67-0c9cae5de16b - 3357 - download_data_op - RESOURCE_INIT_SUCCESS - Finished initialization of resources [io_manager].\n",
      "2023-11-06 11:24:50 +0000 - dagster - DEBUG - data_pipeline - 3c748465-5987-4fe6-aa67-0c9cae5de16b - 3357 - LOGS_CAPTURED - Started capturing logs in process (pid: 3357).\n",
      "2023-11-06 11:24:50 +0000 - dagster - DEBUG - data_pipeline - 3c748465-5987-4fe6-aa67-0c9cae5de16b - 3357 - download_data_op - STEP_START - Started execution of step \"download_data_op\".\n",
      "2023-11-06 11:24:50 +0000 - dagster - DEBUG - data_pipeline - 3c748465-5987-4fe6-aa67-0c9cae5de16b - 3357 - download_data_op - STEP_INPUT - Got input \"path\" of type \"String\". (Type check passed).\n",
      "2023-11-06 11:24:50 +0000 - dagster - DEBUG - data_pipeline - 3c748465-5987-4fe6-aa67-0c9cae5de16b - 3357 - download_data_op - STEP_INPUT - Got input \"url\" of type \"String\". (Type check passed).\n",
      "2023-11-06 11:24:52 +0000 - dagster - DEBUG - data_pipeline - 3c748465-5987-4fe6-aa67-0c9cae5de16b - 3119 - split_data_op - STEP_WORKER_STARTING - Launching subprocess for \"split_data_op\".\n",
      "/opt/pysetup/.venv/lib/python3.11/site-packages/pydantic/_internal/_fields.py:128: UserWarning: Field \"model_server_url\" has conflict with protected namespace \"model_\".\n",
      "\n",
      "You may be able to resolve this warning by setting `model_config['protected_namespaces'] = ()`.\n",
      "  warnings.warn(\n",
      "/opt/pysetup/.venv/lib/python3.11/site-packages/pydantic/_internal/_config.py:317: UserWarning: Valid config keys have changed in V2:\n",
      "* 'schema_extra' has been renamed to 'json_schema_extra'\n",
      "  warnings.warn(message, UserWarning)\n",
      "2023-11-06 11:25:00 +0000 - dagster - DEBUG - data_pipeline - 3c748465-5987-4fe6-aa67-0c9cae5de16b - 3731 - STEP_WORKER_STARTED - Executing step \"split_data_op\" in subprocess.\n",
      "2023-11-06 11:25:00 +0000 - dagster - DEBUG - data_pipeline - 3c748465-5987-4fe6-aa67-0c9cae5de16b - 3731 - split_data_op - RESOURCE_INIT_STARTED - Starting initialization of resources [io_manager].\n",
      "2023-11-06 11:25:00 +0000 - dagster - DEBUG - data_pipeline - 3c748465-5987-4fe6-aa67-0c9cae5de16b - 3731 - split_data_op - RESOURCE_INIT_SUCCESS - Finished initialization of resources [io_manager].\n",
      "2023-11-06 11:25:01 +0000 - dagster - DEBUG - data_pipeline - 3c748465-5987-4fe6-aa67-0c9cae5de16b - 3119 - train_model_op - STEP_WORKER_STARTING - Launching subprocess for \"train_model_op\".\n",
      "/opt/pysetup/.venv/lib/python3.11/site-packages/pydantic/_internal/_fields.py:128: UserWarning: Field \"model_server_url\" has conflict with protected namespace \"model_\".\n",
      "\n",
      "You may be able to resolve this warning by setting `model_config['protected_namespaces'] = ()`.\n",
      "  warnings.warn(\n",
      "/opt/pysetup/.venv/lib/python3.11/site-packages/pydantic/_internal/_config.py:317: UserWarning: Valid config keys have changed in V2:\n",
      "* 'schema_extra' has been renamed to 'json_schema_extra'\n",
      "  warnings.warn(message, UserWarning)\n",
      "2023-11-06 11:25:09 +0000 - dagster - DEBUG - data_pipeline - 3c748465-5987-4fe6-aa67-0c9cae5de16b - 4053 - STEP_WORKER_STARTED - Executing step \"train_model_op\" in subprocess.\n",
      "2023-11-06 11:25:09 +0000 - dagster - DEBUG - data_pipeline - 3c748465-5987-4fe6-aa67-0c9cae5de16b - 4053 - train_model_op - RESOURCE_INIT_STARTED - Starting initialization of resources [io_manager].\n",
      "2023-11-06 11:25:09 +0000 - dagster - DEBUG - data_pipeline - 3c748465-5987-4fe6-aa67-0c9cae5de16b - 4053 - train_model_op - RESOURCE_INIT_SUCCESS - Finished initialization of resources [io_manager].\n",
      "2023-11-06 11:25:09 +0000 - dagster - DEBUG - data_pipeline - 3c748465-5987-4fe6-aa67-0c9cae5de16b - 4053 - LOGS_CAPTURED - Started capturing logs in process (pid: 4053).\n",
      "2023-11-06 11:25:09 +0000 - dagster - DEBUG - data_pipeline - 3c748465-5987-4fe6-aa67-0c9cae5de16b - 4053 - train_model_op - STEP_START - Started execution of step \"train_model_op\".\n",
      "2023-11-06 11:25:09 +0000 - dagster - DEBUG - data_pipeline - 3c748465-5987-4fe6-aa67-0c9cae5de16b - train_model_op - Loading file from: /workshop/tmptr6e9uj_/storage/3c748465-5987-4fe6-aa67-0c9cae5de16b/split_data_op/x_train_path using PickledObjectFilesystemIOManager...\n",
      "2023-11-06 11:25:09 +0000 - dagster - DEBUG - data_pipeline - 3c748465-5987-4fe6-aa67-0c9cae5de16b - 4053 - train_model_op - LOADED_INPUT - Loaded input \"x_train_path\" using input manager \"io_manager\", from output \"x_train_path\" of step \"split_data_op\"\n",
      "2023-11-06 11:25:09 +0000 - dagster - DEBUG - data_pipeline - 3c748465-5987-4fe6-aa67-0c9cae5de16b - train_model_op - Loading file from: /workshop/tmptr6e9uj_/storage/3c748465-5987-4fe6-aa67-0c9cae5de16b/split_data_op/y_train_path using PickledObjectFilesystemIOManager...\n",
      "2023-11-06 11:25:09 +0000 - dagster - DEBUG - data_pipeline - 3c748465-5987-4fe6-aa67-0c9cae5de16b - 4053 - train_model_op - LOADED_INPUT - Loaded input \"y_train_path\" using input manager \"io_manager\", from output \"y_train_path\" of step \"split_data_op\"\n",
      "2023-11-06 11:25:09 +0000 - dagster - DEBUG - data_pipeline - 3c748465-5987-4fe6-aa67-0c9cae5de16b - 4053 - train_model_op - STEP_INPUT - Got input \"x_train_path\" of type \"String\". (Type check passed).\n",
      "2023-11-06 11:25:09 +0000 - dagster - DEBUG - data_pipeline - 3c748465-5987-4fe6-aa67-0c9cae5de16b - 4053 - train_model_op - STEP_INPUT - Got input \"y_train_path\" of type \"String\". (Type check passed).\n",
      "2023-11-06 11:25:16 +0000 - dagster - DEBUG - data_pipeline - 3c748465-5987-4fe6-aa67-0c9cae5de16b - 3119 - evaluate_model_op - STEP_WORKER_STARTING - Launching subprocess for \"evaluate_model_op\".\n",
      "/opt/pysetup/.venv/lib/python3.11/site-packages/pydantic/_internal/_fields.py:128: UserWarning: Field \"model_server_url\" has conflict with protected namespace \"model_\".\n",
      "\n",
      "You may be able to resolve this warning by setting `model_config['protected_namespaces'] = ()`.\n",
      "  warnings.warn(\n",
      "/opt/pysetup/.venv/lib/python3.11/site-packages/pydantic/_internal/_config.py:317: UserWarning: Valid config keys have changed in V2:\n",
      "* 'schema_extra' has been renamed to 'json_schema_extra'\n",
      "  warnings.warn(message, UserWarning)\n",
      "/opt/pysetup/.venv/lib/python3.11/site-packages/pydantic/_internal/_fields.py:128: UserWarning: Field \"model_server_url\" has conflict with protected namespace \"model_\".\n",
      "\n",
      "You may be able to resolve this warning by setting `model_config['protected_namespaces'] = ()`.\n",
      "  warnings.warn(\n",
      "/opt/pysetup/.venv/lib/python3.11/site-packages/pydantic/_internal/_config.py:317: UserWarning: Valid config keys have changed in V2:\n",
      "* 'schema_extra' has been renamed to 'json_schema_extra'\n",
      "  warnings.warn(message, UserWarning)\n",
      "2023-11-06 11:25:25 +0000 - dagster - DEBUG - data_pipeline - 3c748465-5987-4fe6-aa67-0c9cae5de16b - 4622 - STEP_WORKER_STARTED - Executing step \"evaluate_model_op\" in subprocess.\n",
      "2023-11-06 11:25:25 +0000 - dagster - DEBUG - data_pipeline - 3c748465-5987-4fe6-aa67-0c9cae5de16b - 4622 - evaluate_model_op - RESOURCE_INIT_STARTED - Starting initialization of resources [io_manager].\n",
      "2023-11-06 11:25:25 +0000 - dagster - DEBUG - data_pipeline - 3c748465-5987-4fe6-aa67-0c9cae5de16b - 4622 - evaluate_model_op - RESOURCE_INIT_SUCCESS - Finished initialization of resources [io_manager].\n",
      "2023-11-06 11:25:25 +0000 - dagster - DEBUG - data_pipeline - 3c748465-5987-4fe6-aa67-0c9cae5de16b - 3119 - ENGINE_EVENT - Multiprocess executor: parent process exiting after 43.31s (pid: 3119)\n",
      "2023-11-06 11:25:25 +0000 - dagster - DEBUG - data_pipeline - 3c748465-5987-4fe6-aa67-0c9cae5de16b - 3119 - RUN_SUCCESS - Finished execution of run for \"data_pipeline\".\n",
      "/opt/pysetup/.venv/lib/python3.11/site-packages/pydantic/_internal/_fields.py:128: UserWarning: Field \"model_server_url\" has conflict with protected namespace \"model_\".\n",
      "\n",
      "You may be able to resolve this warning by setting `model_config['protected_namespaces'] = ()`.\n",
      "  warnings.warn(\n",
      "/opt/pysetup/.venv/lib/python3.11/site-packages/pydantic/_internal/_config.py:317: UserWarning: Valid config keys have changed in V2:\n",
      "* 'schema_extra' has been renamed to 'json_schema_extra'\n",
      "  warnings.warn(message, UserWarning)\n"
     ]
    }
   ],
   "source": [
    "%%bash\n",
    "dagster dev -f notebooks/dagster/dagster_exercise_ops_job.py --host 0.0.0.0"
   ]
  },
  {
   "cell_type": "markdown",
   "id": "3a60f6074a8cb10e",
   "metadata": {
    "collapsed": false,
    "jupyter": {
     "outputs_hidden": false
    }
   },
   "source": [
    "You will see a graph representing the job `data_pipeline`. All ops should be shown as well as their inputs and outputs and how they are connected.\n",
    "\n",
    "### Exercise 3: Add missing Configs\n",
    "\n",
    "Click on the `Launchpad` tab. Here you can add the missing configurations of your pipeline. You might already noticed, that your first op needs two parameters `url` and `path`. Dagster is also aware of it and does not let you start a new run. It also shows an Error at the bottom left. \n",
    "\n",
    "Let's add the missing config parameters by confirming `Scaffold missing config` underneath the Error message. Fill the empty parameter values as followed:\n",
    "\n",
    "url = 'http://archive.ics.uci.edu/ml/machine-learning-databases/wine-quality/winequality-red.csv'\n",
    "path = 'data/winequality-red.csv'\n",
    "\n",
    "### Exercise 4: Launch the Job run\n",
    "\n",
    "Now Launch a run.\n",
    "\n",
    "While running, you can follow the execution of the pipeline in the dagster UI.\n",
    "\n",
    "Have a look at the UI on your own and see what dagster tracks for you.\n"
   ]
  },
  {
   "cell_type": "markdown",
   "id": "ffc7363f5c7ab762",
   "metadata": {
    "collapsed": false,
    "jupyter": {
     "outputs_hidden": false
    }
   },
   "source": [
    "## Dagster Asset Jobs\n",
    "\n",
    "Similar to the Dagster Op Jobs, we now want to define a job using Assets.\n",
    "\n",
    "We prepared the Asset Functions for you in the `dagster_exercise_assets.py` file. The performed tasks are the same as in the dagster op job exercise. But we changed the functions, so they all return an object. These will be later represented by the Assets.\n",
    "\n",
    "### Exercise 1: Define the assets\n",
    "\n",
    "In `dagster_exercise_assets_job` you will find cleaner representations of the tasks to perform.\n",
    "\n",
    "Define the given functions as Dagster Assets as described in the job file.\n",
    "\n",
    "Note that you don't need to define an extra job function. Dagster will know how to assemble the Ops, if your Asset definition is correct.\n",
    "\n",
    "### Exercise 2: Start the dagster UI\n",
    "\n",
    "After completing the creation of the Assets, start the Dagster UI using the following command:"
   ]
  },
  {
   "cell_type": "code",
   "execution_count": null,
   "id": "30bc84975f29adca",
   "metadata": {
    "ExecuteTime": {
     "end_time": "2023-11-06T10:05:44.800243Z",
     "start_time": "2023-11-06T10:05:44.304784Z"
    },
    "collapsed": false,
    "jupyter": {
     "outputs_hidden": false
    }
   },
   "outputs": [],
   "source": [
    "%%bash\n",
    "dagster dev -f notebooks/dagster/dagster_exercise_assets_job.py"
   ]
  },
  {
   "cell_type": "markdown",
   "id": "a53b2dfbf621af00",
   "metadata": {
    "collapsed": false,
    "jupyter": {
     "outputs_hidden": false
    }
   },
   "source": [
    "You will see a graph representing the defined Asset Group. All Assets should be shown as well as their connection to each other.\n",
    "\n",
    "All Assets haven't been materilized, yet.\n",
    "\n",
    "### Exercise 3: Materialize the Assets\n",
    "\n",
    "Run `Materialize all` on the assets and watch them get green.\n",
    "\n",
    "### Exercise 4: Explore the UI\n",
    "\n",
    "Have a look at the information Dagster gives you about the materialized Assets. Also notice, that there are Runs, like you've already seen for the Dagster Op Jobs.\n"
   ]
  },
  {
   "cell_type": "code",
   "execution_count": null,
   "id": "2826d49e8d9826be",
   "metadata": {
    "collapsed": false,
    "jupyter": {
     "outputs_hidden": false
    }
   },
   "outputs": [],
   "source": []
  }
 ],
 "metadata": {
  "kernelspec": {
   "display_name": "Python 3 (ipykernel)",
   "language": "python",
   "name": "python3"
  },
  "language_info": {
   "codemirror_mode": {
    "name": "ipython",
    "version": 3
   },
   "file_extension": ".py",
   "mimetype": "text/x-python",
   "name": "python",
   "nbconvert_exporter": "python",
   "pygments_lexer": "ipython3",
   "version": "3.11.6"
  }
 },
 "nbformat": 4,
 "nbformat_minor": 5
}
