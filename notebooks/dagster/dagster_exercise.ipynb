{
 "cells": [
  {
   "cell_type": "markdown",
   "source": [
    "# Data Pipeline Orchestration with Dagster\n",
    "\n",
    "In this notebook we will get to know the basics of dagster. Therefore, we will create a simple data pipeline.\n",
    "\n",
    "## Project Setup\n",
    "\n",
    "### Some Preparations\n",
    "\n",
    "Create a new directory `workspace/dagster_exercise`, copy some files and change the cwd."
   ],
   "metadata": {
    "collapsed": false
   },
   "id": "2b9e0459f5dff698"
  },
  {
   "cell_type": "code",
   "execution_count": null,
   "outputs": [],
   "source": [
    "%%bash\n",
    "rm -rf /workshop/workspace/dagster_exercise\n",
    "mkdir -p /workshop/workspace/dagster_exercise\n",
    "cp /workshop/notebooks/dagster/{dagster_exercise_ops.py,dagster_exercise_ops_job.py,params.yaml} /workshop/workspace/dagster_exercise"
   ],
   "metadata": {
    "collapsed": false
   },
   "id": "8836e256ca6a2334"
  },
  {
   "cell_type": "code",
   "execution_count": null,
   "outputs": [],
   "source": [
    "import os\n",
    "os.chdir(\"/workshop/workspace/dagster_exercise\")"
   ],
   "metadata": {
    "collapsed": false
   },
   "id": "efacac0b080accc0"
  },
  {
   "cell_type": "markdown",
   "source": [
    "## Dagster Op Jobs\n",
    "\n",
    "In this exercise we will define a dagster Job using Ops.\n",
    "\n",
    "In the file `dagster_exercise_ops` you will find four functions, which we will use as Ops. Notice, that some of the functions return one or more objects. This will be important when we start to combine the ops later. You don't need to change the function definition here.\n",
    "\n",
    "The Ops should be executed in the following order\n",
    "1. download_data\n",
    "2. split_data\n",
    "3. train_model\n",
    "4. evaluate model\n",
    "\n",
    "Note: The functions are imported to `dagster_exercise_ops_job` for the purpose of making this exercise cleaner. All adjustments could also be done in the original file `dagster_exercise_ops`.\n",
    "\n",
    "### Exercise 1: Define your pipeline\n",
    "\n",
    "Fill the gaps in the `dagster_exercise_ops_job` file to create a dagster job. If you need any help, have a look at the [dagster documentation of Ops](https://docs.dagster.io/_apidocs/ops).\n"
   ],
   "metadata": {
    "collapsed": false
   },
   "id": "21d7aff2efdf99a6"
  },
  {
   "cell_type": "markdown",
   "source": [
    "### Exercise 2: Start the Dagster UI\n",
    "\n",
    "After completing the creation of the pipeline, start the Dagster UI using the following command:"
   ],
   "metadata": {
    "collapsed": false
   },
   "id": "f452c0e86b50ee68"
  },
  {
   "cell_type": "code",
   "execution_count": null,
   "outputs": [],
   "source": [
    "%%bash\n",
    "dagster dev -f /workshop/notebooks/dagster/dagster_exercise_ops_job.py"
   ],
   "metadata": {
    "collapsed": false,
    "ExecuteTime": {
     "end_time": "2023-11-05T14:23:08.445276Z",
     "start_time": "2023-11-05T14:23:08.439186Z"
    }
   },
   "id": "4327fa44e99d2086"
  },
  {
   "cell_type": "markdown",
   "source": [
    "You will see a graph representing the job `data_pipeline`. All ops should be shown as well as their inputs and outputs and how they are connected.\n",
    "\n",
    "### Exercise 3: Add missing Configs\n",
    "\n",
    "Click on the `Launchpad` tab. Here you can add the missing configurations of your pipeline. You might already noticed, that your first op needs two parameters `url` and `path`. Dagster is also aware of it and does not let you start a new run. It also shows an Error at the bottom left. \n",
    "\n",
    "Let's add the missing config parameters by confirming `Scaffold missing config` underneath the Error message. Fill the empty parameter values as followed:\n",
    "\n",
    "url = 'http://archive.ics.uci.edu/ml/machine-learning-databases/wine-quality/winequality-red.csv'\n",
    "path = 'data/winequality-red.csv'\n",
    "\n",
    "### Exercise 4: Launch the Job run\n",
    "\n",
    "Now Launch a run.\n",
    "\n",
    "While running, you can follow the execution of the pipeline in the dagster UI.\n",
    "\n",
    "Have a look at the UI on your own and see what dagster tracks for you.\n"
   ],
   "metadata": {
    "collapsed": false
   },
   "id": "3a60f6074a8cb10e"
  },
  {
   "cell_type": "markdown",
   "source": [
    "## Dagster Asset Jobs\n",
    "\n",
    "Similar to the Dagster Op Jobs, we now want to define a job using Assets.\n",
    "\n",
    "We prepared the Asset Functions for you in the `dagster_exercise_assets.py` file. The performed tasks are the same as in the dagster op job exercise. But we changed the functions, so they all return an object. These will be later represented by the Assets.\n",
    "\n",
    "### Exercise 1: Define the assets\n",
    "\n",
    "In `dagster_exercise_assets_job` you will find cleaner representations of the tasks to perform.\n",
    "\n",
    "Define the given functions as Dagster Assets as described in the job file.\n",
    "\n",
    "Note that you don't need to define an extra job function. Dagster will know how to assemble the Ops, if your Asset definition is correct.\n",
    "\n",
    "### Exercise 2: Start the dagster UI\n",
    "\n",
    "After completing the creation of the Assets, start the Dagster UI using the following command:"
   ],
   "metadata": {
    "collapsed": false
   },
   "id": "ffc7363f5c7ab762"
  },
  {
   "cell_type": "code",
   "execution_count": null,
   "outputs": [],
   "source": [
    "%%bash\n",
    "dagster dev -f /workshop/workspace/dagster_exercise/dagster_exercise_assets_job.py"
   ],
   "metadata": {
    "collapsed": false
   },
   "id": "30bc84975f29adca"
  },
  {
   "cell_type": "markdown",
   "source": [
    "You will see a graph representing the defined Asset Group. All Assets should be shown as well as their connection to each other.\n",
    "\n",
    "All Assets haven't been materilized, yet.\n",
    "\n",
    "### Exercise 3: Materialize the Assets\n",
    "\n",
    "Run `Materialize all` on the assets and watch them get green.\n",
    "\n",
    "### Exercise 4: Explore the UI\n",
    "\n",
    "Have a look at the information Dagster gives you about the materialized Assets. Also notice, that there are Runs, like you've already seen for the Dagster Op Jobs.\n"
   ],
   "metadata": {
    "collapsed": false
   },
   "id": "a53b2dfbf621af00"
  },
  {
   "cell_type": "markdown",
   "source": [
    "# Clean-up"
   ],
   "metadata": {
    "collapsed": false
   },
   "id": "3c8ccdd544288a25"
  },
  {
   "cell_type": "code",
   "execution_count": null,
   "outputs": [],
   "source": [
    "import os\n",
    "os.chdir(\"/workshop/notebooks/dagster\")"
   ],
   "metadata": {
    "collapsed": false
   },
   "id": "7b75ac4f17df8cc8"
  },
  {
   "cell_type": "code",
   "execution_count": null,
   "outputs": [],
   "source": [
    "%%sh\n",
    "rm -rf /workshop/workspace/dagster_exercise"
   ],
   "metadata": {
    "collapsed": false
   },
   "id": "698e17a47c321fff"
  }
 ],
 "metadata": {
  "kernelspec": {
   "display_name": "Python 3",
   "language": "python",
   "name": "python3"
  },
  "language_info": {
   "codemirror_mode": {
    "name": "ipython",
    "version": 2
   },
   "file_extension": ".py",
   "mimetype": "text/x-python",
   "name": "python",
   "nbconvert_exporter": "python",
   "pygments_lexer": "ipython2",
   "version": "2.7.6"
  }
 },
 "nbformat": 4,
 "nbformat_minor": 5
}
