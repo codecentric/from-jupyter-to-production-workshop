{
 "cells": [
  {
   "cell_type": "code",
   "execution_count": null,
   "id": "6d64c230-5973-4cd5-95aa-867e53bc0464",
   "metadata": {},
   "outputs": [],
   "source": [
    "from typing import Tuple, Any, Optional\n",
    "\n",
    "import pandas as pd\n",
    "import numpy as np\n",
    "from pydantic import Field\n",
    "from dagster import op, Out, In, job, Definitions,AssetKey, Config\n",
    "from sklearn.model_selection import train_test_split\n",
    "from sklearn.metrics import confusion_matrix, classification_report, ConfusionMatrixDisplay\n",
    "\n",
    "from xgboost import XGBClassifier\n",
    "import matplotlib.pyplot as plt"
   ]
  },
  {
   "cell_type": "code",
   "execution_count": null,
   "id": "a3f4214f-1201-4ab5-8b38-565497b14cb3",
   "metadata": {},
   "outputs": [],
   "source": [
    "class SplitDataConfig(Config):\n",
    "    data_path:str = Field(description=\"File path of the input data\",default=\"./data/genres_standardized.csv\")\n",
    "    target_column:str = Field(description=\"Column name of the target column\",default=\"genre\")"
   ]
  },
  {
   "cell_type": "code",
   "execution_count": null,
   "id": "27ce933a-e223-4101-a76d-03de326b59a8",
   "metadata": {},
   "outputs": [],
   "source": [
    "@op(out={\"input_train\":Out(),\"input_test\":Out(),\"target_train\":Out(),\"target_test\":Out(),\"target_names\":Out()})\n",
    "def split_data(config:SplitDataConfig)->Tuple[pd.DataFrame,pd.DataFrame,pd.Series,pd.Series,pd.Series]:\n",
    "    data = pd.read_csv(\"./data/genres_standardized.csv\",sep=\";\") \n",
    "    columns = list(data.columns)\n",
    "    columns.remove(\"genre\")\n",
    "    data[\"genre\"]=data[\"genre\"].astype(\"category\")\n",
    "    data[\"target\"]=data[\"genre\"].cat.codes\n",
    "    X_train, X_test, y_train, y_test = train_test_split(data[columns], data['target'], test_size=.2)\n",
    "    return X_train,X_test,y_train,y_test, data[\"genre\"]"
   ]
  },
  {
   "cell_type": "code",
   "execution_count": null,
   "id": "66b4fd09-726b-441e-b879-0babca9ddf99",
   "metadata": {},
   "outputs": [],
   "source": [
    "class TrainConfig(Config):\n",
    "    number_of_estimators:int =Field(description=\"Number of boosting rounds\",default=500)\n",
    "    learning_rate:float = Field(description=\"Boosting learning rate\",default=0.1)\n",
    "    max_depth: int = Field(description=\"Maximum tree depth for base learners\",default=8)\n",
    "    min_child_weight: float = Field(description=\"Minimum sum of instance weight(hessian) needed in a child\",default=1)\n",
    "    gamma: float = Field(description=\"Minimum loss reduction required to make a further partition on a leaf node of the tree\", default =0)\n",
    "    number_of_jobs: int = Field(description=\"Number of parallel threads used to run xgboost\",default=4)"
   ]
  },
  {
   "cell_type": "code",
   "execution_count": null,
   "id": "9672f32b-762d-47a2-b0ec-fca9cb12b0ef",
   "metadata": {},
   "outputs": [],
   "source": [
    "@op(ins={\"input_train\":In(),\"target_train\":In()},out={\"classifier\":Out()})\n",
    "def train_classifier(config:TrainConfig,input_train:pd.DataFrame,target_train:pd.Series)->XGBClassifier:\n",
    "    model = XGBClassifier(learning_rate = config.learning_rate,\n",
    "     n_estimators=config.number_of_estimators,\n",
    "     max_depth=config.max_depth,\n",
    "     min_child_weight=config.min_child_weight,\n",
    "     gamma=config.gamma,\n",
    "    n_jobs=config.number_of_jobs)\n",
    "    model.fit(input_train,target_train)\n",
    "    return model"
   ]
  },
  {
   "cell_type": "code",
   "execution_count": null,
   "id": "b5ae8e03-102f-4824-a04f-bd79404242de",
   "metadata": {},
   "outputs": [],
   "source": [
    "@op(ins={\"classifier\":In(),\"input_test\":In()},out={\"predictions\":Out()})\n",
    "def predict(classifier:XGBClassifier,input_test:pd.DataFrame)->np.ndarray:\n",
    "    predictions = classifier.predict(input_test)\n",
    "    return predictions"
   ]
  },
  {
   "cell_type": "code",
   "execution_count": null,
   "id": "6f0f81a9-b745-4248-ac9a-e2b62d080dae",
   "metadata": {},
   "outputs": [],
   "source": [
    "class AnalyzeConfig(Config):\n",
    "    confusion_matrix_path: str = Field(default = \"./data/confusion_materix.png\")\n",
    "    report_path: str = Field(default=\"./data/classification_report.csv\")"
   ]
  },
  {
   "cell_type": "code",
   "execution_count": null,
   "id": "6f7a9329-91d3-4f3e-afc6-55a000e0db34",
   "metadata": {},
   "outputs": [],
   "source": [
    "@op(ins={\"target_test\":In(),\"predictions\":In(),\"target_names\":In()})\n",
    "def analyze(config:AnalyzeConfig,target_test:pd.Series,predictions:np.ndarray,target_names:pd.Series):\n",
    "    category_labels = target_names.cat.categories\n",
    "    fig, ax = plt.subplots(figsize=(10, 10))\n",
    "    ConfusionMatrixDisplay.from_predictions(target_test, predictions, ax=ax, display_labels=category_labels)\n",
    "    ax.tick_params(axis='x',labelrotation=70,labelbottom=True)\n",
    "    fig.savefig(config.confusion_matrix_path,pad_inches=20)\n",
    "    report = classification_report(target_test,predictions,output_dict=True)\n",
    "    df_classification_report = pd.DataFrame(report).transpose()\n",
    "    df_classification_report.to_csv(config.report_path)"
   ]
  },
  {
   "cell_type": "code",
   "execution_count": null,
   "id": "6702cef1-11f4-4ab6-ba9a-54cc06cbd8fb",
   "metadata": {},
   "outputs": [],
   "source": [
    "@job()\n",
    "def spotify_genre_classification():    \n",
    "    input_train,input_test,target_train,target_test,target_names = split_data()\n",
    "    classifier = train_classifier(input_train=input_train,target_train=target_train)\n",
    "    predictions = predict(classifier,input_test)\n",
    "    analyze(target_test,predictions,target_names)"
   ]
  },
  {
   "cell_type": "code",
   "execution_count": null,
   "id": "774ad547-600a-48e5-9e26-9ade3f3004c6",
   "metadata": {},
   "outputs": [],
   "source": [
    "defs = Definitions(jobs=[spotify_genre_classification])"
   ]
  }
 ],
 "metadata": {
  "kernelspec": {
   "display_name": "Python 3 (ipykernel)",
   "language": "python",
   "name": "python3"
  },
  "language_info": {
   "codemirror_mode": {
    "name": "ipython",
    "version": 3
   },
   "file_extension": ".py",
   "mimetype": "text/x-python",
   "name": "python",
   "nbconvert_exporter": "python",
   "pygments_lexer": "ipython3",
   "version": "3.11.9"
  }
 },
 "nbformat": 4,
 "nbformat_minor": 5
}
