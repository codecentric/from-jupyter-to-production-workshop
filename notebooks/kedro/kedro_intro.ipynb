{
 "cells": [
  {
   "cell_type": "markdown",
   "metadata": {},
   "source": [
    "# Data Science Development Workflow\n",
    "In this notebook we show a data science development workflow using **Kedro** and **MLflow**. As a showcase we implement a simple regression pipeline.\n",
    "\n",
    "We will\n",
    "\n",
    "* Set up Kedro Project Template\n",
    "* Create production-ready Kedro Pipeline\n",
    "* MLflow Tracking: Compare different experiments\n",
    "* MLflow Project: Use code packaging convention\n",
    "* MLflow Model Deployment: Deploy the MLflow Model locally to make online predictions\n",
    "* Create Airflow DAG from Kedro pipeline\n",
    "\n",
    "You can find extensive information in the [Kedro Docs](https://kedro.readthedocs.io/en/stable/) and the [MLflow Docs](https://www.mlflow.org/docs/latest/index.html).\n"
   ]
  },
  {
   "cell_type": "markdown",
   "metadata": {},
   "source": [
    "## Kedro Project Template"
   ]
  },
  {
   "cell_type": "markdown",
   "metadata": {},
   "source": [
    "We create a new project based on a config file with following variables:"
   ]
  },
  {
   "cell_type": "code",
   "execution_count": null,
   "metadata": {},
   "outputs": [],
   "source": [
    "!cat config.yml"
   ]
  },
  {
   "cell_type": "code",
   "execution_count": null,
   "metadata": {},
   "outputs": [],
   "source": [
    "# Delete the directory, if you want to start over..\n",
    "\n",
    "#!rm -fr /workshop/workspace/workflow-tutorial"
   ]
  },
  {
   "cell_type": "code",
   "execution_count": null,
   "metadata": {},
   "outputs": [],
   "source": [
    "%%bash\n",
    "cp /workshop/notebooks/kedro/config.yml /workshop/workspace\n",
    "cd /workshop/workspace\n",
    "\n",
    "kedro new --config config.yml"
   ]
  },
  {
   "cell_type": "markdown",
   "metadata": {},
   "source": [
    "In a terminal, we could leave out the `--config` option and kedro asks interactively for the variables.\n",
    "\n",
    "There are additional template options via [starters](https://kedro.readthedocs.io/en/stable/02_get_started/06_starters.html) like `kedro new --starter=pyspark`."
   ]
  },
  {
   "cell_type": "markdown",
   "metadata": {},
   "source": [
    "Let's change the working directory.."
   ]
  },
  {
   "cell_type": "code",
   "execution_count": null,
   "metadata": {},
   "outputs": [],
   "source": [
    "import os\n",
    "os.chdir(\"/workshop/workspace/workflow-tutorial\")"
   ]
  },
  {
   "cell_type": "markdown",
   "metadata": {},
   "source": [
    "As mentioned above, it is best practise to create an environment, we have already done this:\n",
    "\n",
    "`conda env create -f environment.yml`"
   ]
  },
  {
   "cell_type": "code",
   "execution_count": null,
   "metadata": {},
   "outputs": [],
   "source": [
    "!conda env list"
   ]
  },
  {
   "cell_type": "markdown",
   "metadata": {},
   "source": [
    "Optional: Creating a project git repository (`git init`) and version your data with dvc (`dvc init`)."
   ]
  },
  {
   "cell_type": "markdown",
   "metadata": {},
   "source": [
    "### Exploring the project template"
   ]
  },
  {
   "cell_type": "code",
   "execution_count": null,
   "metadata": {},
   "outputs": [],
   "source": [
    "!ls"
   ]
  },
  {
   "cell_type": "markdown",
   "metadata": {},
   "source": [
    "Move credentials to save place.."
   ]
  },
  {
   "cell_type": "code",
   "execution_count": null,
   "metadata": {},
   "outputs": [],
   "source": [
    "!mv conf/base/credentials.yml conf/local/"
   ]
  },
  {
   "cell_type": "markdown",
   "metadata": {},
   "source": [
    "### Install project dependencies\n",
    "Additional project dependencies can be installed using `kedro install`"
   ]
  },
  {
   "cell_type": "code",
   "execution_count": null,
   "metadata": {},
   "outputs": [],
   "source": [
    "%%writefile src/requirements.txt\n",
    "kedro-viz\n",
    "nbstripout"
   ]
  },
  {
   "cell_type": "code",
   "execution_count": null,
   "metadata": {},
   "outputs": [],
   "source": [
    "!kedro install --build-reqs"
   ]
  },
  {
   "cell_type": "markdown",
   "metadata": {},
   "source": [
    "### Ignore notebook output cells in git"
   ]
  },
  {
   "cell_type": "markdown",
   "metadata": {},
   "source": [
    "Output cell from Jupyter notebooks are better not tracked by git. (large images, sensitive information)\n",
    "\n",
    "The following command adds a git hook that removes all notebook output before committing to git."
   ]
  },
  {
   "cell_type": "code",
   "execution_count": null,
   "metadata": {},
   "outputs": [],
   "source": [
    "# !git init\n",
    "# !kedro activate-nbstripout"
   ]
  },
  {
   "cell_type": "markdown",
   "metadata": {},
   "source": [
    "## Set up the data\n",
    "The [Wine Quality Data Set](https://archive.ics.uci.edu/ml/datasets/wine+quality) is used to build a regression model.\n",
    "\n",
    "We download and add the dataset to the `data/` directory."
   ]
  },
  {
   "cell_type": "code",
   "execution_count": null,
   "metadata": {},
   "outputs": [],
   "source": [
    "!wget -O data/01_raw/winequality-red.csv http://archive.ics.uci.edu/ml/machine-learning-databases/wine-quality/winequality-red.csv"
   ]
  },
  {
   "cell_type": "markdown",
   "metadata": {},
   "source": [
    "### Register the datasets\n",
    "We have to register the dataset in the catalog file `notebooks/kedro/workflow-tutorial/conf/base/catalog.yml`.\n",
    "```yaml\n",
    "wines-red:\n",
    "  type: pandas.CSVDataSet\n",
    "  filepath: data/01_raw/winequality-red.csv\n",
    "  load_args:\n",
    "    sep: ';'\n",
    "```\n",
    "With jupyter magic, this could be done like this:"
   ]
  },
  {
   "cell_type": "code",
   "execution_count": null,
   "metadata": {},
   "outputs": [],
   "source": [
    "%%writefile conf/base/catalog.yml\n",
    "\n",
    "wines-red:\n",
    "  type: pandas.CSVDataSet\n",
    "  filepath: data/01_raw/winequality-red.csv\n",
    "  load_args:\n",
    "    sep: ';'"
   ]
  },
  {
   "cell_type": "markdown",
   "metadata": {},
   "source": [
    "Kedro supports different data-connectors like `dask.ParquetDataSet`, `pandas.ExcelDataSet`, `pandas.HDFDataSet` any many more. Support for custom datasets can easily be [added](https://kedro.readthedocs.io/en/stable/07_extend_kedro/01_custom_datasets.html).\n",
    "\n",
    "Let's have a look at the data.."
   ]
  },
  {
   "cell_type": "code",
   "execution_count": null,
   "metadata": {},
   "outputs": [],
   "source": [
    "import warnings\n",
    "warnings.simplefilter(action='ignore', category=FutureWarning)\n",
    "warnings.simplefilter(action='ignore', category=DeprecationWarning)\n",
    "\n",
    "from pathlib import Path\n",
    "from kedro.framework.context import load_context\n",
    "\n",
    "context = load_context(Path.cwd())\n",
    "df = context.catalog.load(\"wines-red\")\n",
    "df.head()"
   ]
  },
  {
   "cell_type": "markdown",
   "metadata": {},
   "source": [
    "Note that the kedro context is automatically loaded when starting jupyter with `kedro jupyter notebook`."
   ]
  },
  {
   "cell_type": "markdown",
   "metadata": {},
   "source": [
    "We can also create a report.."
   ]
  },
  {
   "cell_type": "code",
   "execution_count": null,
   "metadata": {},
   "outputs": [],
   "source": [
    "from pandas_profiling import ProfileReport\n",
    "\n",
    "profile = ProfileReport(df, title=\"Pandas Profiling Report\")\n",
    "profile.to_file(\"data/08_reporting/wines-red.html\")"
   ]
  },
  {
   "cell_type": "markdown",
   "metadata": {},
   "source": [
    "## Create the pipeline\n",
    "* Create for each data transformation step a `node` consisting of a Python function and the input / output data\n",
    "* A `pipeline` consists of a list of different `node`s. The dependencies and execution order are determined via inputs and outputs.\n",
    "* The whole project pipeline is registered in `src/workflow_tutorial/hooks.py` and can run via `kedro run`"
   ]
  },
  {
   "cell_type": "markdown",
   "metadata": {},
   "source": [
    "### Python `node` functions\n",
    "Note that we use **MLflow tracking** of the parameters and the model."
   ]
  },
  {
   "cell_type": "code",
   "execution_count": null,
   "metadata": {
    "tags": [
     "node"
    ]
   },
   "outputs": [],
   "source": [
    "%%writefile src/workflow_tutorial/pipelines/nodes.py\n",
    "\n",
    "import logging\n",
    "\n",
    "from typing import Dict, List\n",
    "\n",
    "import numpy as np\n",
    "import pandas as pd\n",
    "from sklearn.preprocessing import StandardScaler\n",
    "from sklearn.linear_model import ElasticNet\n",
    "from sklearn.pipeline import Pipeline\n",
    "from sklearn.model_selection import train_test_split\n",
    "from urllib.parse import urlparse\n",
    "\n",
    "import mlflow\n",
    "import mlflow.sklearn\n",
    "\n",
    "def split_data(data: pd.DataFrame, parameters: Dict) -> List:\n",
    "    \"\"\"Splits data into training and test sets.\n",
    "\n",
    "        Args:\n",
    "            data: Source data.\n",
    "            parameters: Parameters defined in parameters.yml.\n",
    "\n",
    "        Returns:\n",
    "            A list containing split data.\n",
    "\n",
    "    \"\"\"\n",
    "    x = data.drop([\"quality\"], axis=1).values\n",
    "\n",
    "    y = data[\"quality\"].values\n",
    "    \n",
    "    x_train, x_test, y_train, y_test = train_test_split(\n",
    "        x, y, test_size=parameters[\"test_size\"], random_state=parameters[\"random_state\"]\n",
    "    )\n",
    "\n",
    "    return [x_train, x_test, y_train, y_test]\n",
    "\n",
    "def train_model(x_train: np.ndarray, y_train: np.ndarray, parameters: Dict) -> Pipeline:\n",
    "    \"\"\"Train the linear regression model.\n",
    "\n",
    "        Args:\n",
    "            x_train: Training data of independent features.\n",
    "            y_train: Target.\n",
    "            parameters: Parameters defined in parameters.yml.\n",
    "\n",
    "        Returns:\n",
    "            Trained model.\n",
    "\n",
    "    \"\"\"\n",
    "    pipe = Pipeline([('scaler', StandardScaler()),\n",
    "                     ('regressor', ElasticNet(alpha=parameters[\"alpha\"],\n",
    "                                              l1_ratio=parameters[\"l1_ratio\"],\n",
    "                                              random_state=parameters[\"random_state\"]))])\n",
    "    \n",
    "    pipe.fit(x_train, y_train)\n",
    "\n",
    "    mlflow.log_param(\"alpha\", parameters[\"alpha\"])\n",
    "    mlflow.log_param(\"l1_ratio\", parameters[\"l1_ratio\"])\n",
    "    \n",
    "    tracking_url_type_store = urlparse(mlflow.get_tracking_uri()).scheme\n",
    "    # Model registry does not work with file store\n",
    "    if tracking_url_type_store != \"file\":\n",
    "        mlflow.sklearn.log_model(pipe, \"model\", registered_model_name=\"ElasticnetModel\")\n",
    "    else:\n",
    "        mlflow.sklearn.log_model(pipe, \"model\")\n",
    "\n",
    "    return pipe"
   ]
  },
  {
   "attachments": {
    "72c5fa16-1650-4c46-b6f4-8e7071067d9b.png": {
     "image/png": "[encoded data removed]"
    }
   },
   "cell_type": "markdown",
   "metadata": {},
   "source": [
    "Alternatively, you can **tag cells as node**\n",
    "\n",
    "![Screenshot 2020-09-28 at 13.24.27.png](attachment:72c5fa16-1650-4c46-b6f4-8e7071067d9b.png)\n",
    "\n",
    "and run `kedro jupyter convert`."
   ]
  },
  {
   "cell_type": "markdown",
   "metadata": {},
   "source": [
    "### Assemble Pipeline"
   ]
  },
  {
   "cell_type": "code",
   "execution_count": null,
   "metadata": {},
   "outputs": [],
   "source": [
    "%%writefile src/workflow_tutorial/pipelines/pipeline.py\n",
    "\n",
    "from kedro.pipeline import Pipeline, node\n",
    "\n",
    "from .nodes import split_data, train_model\n",
    "\n",
    "\n",
    "def create_pipeline(**kwargs):\n",
    "    return Pipeline(\n",
    "        [\n",
    "            node(\n",
    "                func=split_data,\n",
    "                inputs=[\"wines-red\", \"parameters\"],\n",
    "                outputs=[\"x_train\", \"x_test\", \"y_train\", \"y_test\"],\n",
    "                name=\"splitting_data\",\n",
    "            ),\n",
    "            node(\n",
    "                func=train_model,\n",
    "                inputs=[\"x_train\", \"y_train\", \"parameters\"],\n",
    "                outputs=\"model\",\n",
    "                name=\"training_model\",\n",
    "            ),\n",
    "        ]\n",
    "    )"
   ]
  },
  {
   "cell_type": "markdown",
   "metadata": {},
   "source": [
    "### Register Pipeline"
   ]
  },
  {
   "cell_type": "code",
   "execution_count": null,
   "metadata": {},
   "outputs": [],
   "source": [
    "%%writefile src/workflow_tutorial/hooks.py\n",
    "\n",
    "\"\"\"Project hooks.\"\"\"\n",
    "from typing import Any, Dict, Iterable, Optional\n",
    "\n",
    "from kedro.config import ConfigLoader\n",
    "from kedro.framework.hooks import hook_impl\n",
    "from kedro.io import DataCatalog\n",
    "from kedro.pipeline import Pipeline\n",
    "from kedro.versioning import Journal\n",
    "\n",
    "from workflow_tutorial.pipelines import pipeline as default_pipeline\n",
    "\n",
    "class ProjectHooks:\n",
    "    @hook_impl\n",
    "    def register_pipelines(self) -> Dict[str, Pipeline]:\n",
    "        \"\"\"Register the project's pipeline.\n",
    "\n",
    "        Returns:\n",
    "            A mapping from a pipeline name to a ``Pipeline`` object.\n",
    "\n",
    "        \"\"\"\n",
    "        return {\n",
    "            \"__default__\": default_pipeline.create_pipeline(),\n",
    "        }\n",
    "\n",
    "    @hook_impl\n",
    "    def register_config_loader(self, conf_paths: Iterable[str]) -> ConfigLoader:\n",
    "        return ConfigLoader(conf_paths)\n",
    "\n",
    "    @hook_impl\n",
    "    def register_catalog(\n",
    "        self,\n",
    "        catalog: Optional[Dict[str, Dict[str, Any]]],\n",
    "        credentials: Dict[str, Dict[str, Any]],\n",
    "        load_versions: Dict[str, str],\n",
    "        save_version: str,\n",
    "        journal: Journal,\n",
    "    ) -> DataCatalog:\n",
    "        return DataCatalog.from_config(\n",
    "            catalog, credentials, load_versions, save_version, journal\n",
    "        )\n",
    "\n",
    "\n",
    "project_hooks = ProjectHooks()\n",
    "\n"
   ]
  },
  {
   "cell_type": "markdown",
   "metadata": {},
   "source": [
    "#### Set Parameters\n",
    "The configuration includes a `parameters.yml` file, where we set the size of the test set, the random seed and some hyperparameters."
   ]
  },
  {
   "cell_type": "code",
   "execution_count": null,
   "metadata": {},
   "outputs": [],
   "source": [
    "%%writefile conf/base/parameters.yml\n",
    "test_size: 0.25\n",
    "random_state: 42\n",
    "\n",
    "alpha: 0.5\n",
    "l1_ratio: 0.5"
   ]
  },
  {
   "cell_type": "markdown",
   "metadata": {},
   "source": [
    "## Run Pipeline\n",
    "The Kedro pipeline can now be executed with"
   ]
  },
  {
   "cell_type": "code",
   "execution_count": null,
   "metadata": {},
   "outputs": [],
   "source": [
    "!kedro run"
   ]
  },
  {
   "cell_type": "markdown",
   "metadata": {},
   "source": [
    "Having independent nodes, Kedro's `ParallelRunner` can take advantage of multiple CPU cores:\n",
    "`kedro run --parallel`"
   ]
  },
  {
   "cell_type": "markdown",
   "metadata": {},
   "source": [
    "## Kedro Visualization"
   ]
  },
  {
   "cell_type": "code",
   "execution_count": null,
   "metadata": {},
   "outputs": [],
   "source": [
    "!kedro viz --host=0.0.0.0 --no-browser"
   ]
  },
  {
   "cell_type": "markdown",
   "metadata": {},
   "source": [
    "**Interrupt the kernel to go on..**"
   ]
  },
  {
   "cell_type": "markdown",
   "metadata": {},
   "source": [
    "## Documentation and Packaging"
   ]
  },
  {
   "cell_type": "markdown",
   "metadata": {},
   "source": [
    "This command creates documentation based on the code structure of your project including docstrings."
   ]
  },
  {
   "cell_type": "code",
   "execution_count": null,
   "metadata": {},
   "outputs": [],
   "source": [
    "#!kedro build-docs"
   ]
  },
  {
   "cell_type": "markdown",
   "metadata": {},
   "source": [
    "This command creates `.egg` and `.whl` packaging files, which can be used to `pip install` on a target system."
   ]
  },
  {
   "cell_type": "code",
   "execution_count": null,
   "metadata": {},
   "outputs": [],
   "source": [
    "#!kedro package"
   ]
  },
  {
   "cell_type": "markdown",
   "metadata": {},
   "source": [
    "## MLflow Tracking"
   ]
  },
  {
   "cell_type": "markdown",
   "metadata": {},
   "source": [
    "Since we integrated **MLflow tracking** code in the python `node` functions, the parameters and the model are tracked for every run.\n",
    "\n",
    "To compare runs with different parameters, let's run the pipeline again."
   ]
  },
  {
   "cell_type": "code",
   "execution_count": null,
   "metadata": {},
   "outputs": [],
   "source": [
    "!kedro run --params alpha:0,l1_ratio:0"
   ]
  },
  {
   "cell_type": "markdown",
   "metadata": {},
   "source": [
    "Results can be compared with MLflow tracking UI."
   ]
  },
  {
   "cell_type": "code",
   "execution_count": null,
   "metadata": {},
   "outputs": [],
   "source": [
    "!mlflow ui --host=0.0.0.0"
   ]
  },
  {
   "cell_type": "markdown",
   "metadata": {},
   "source": [
    "**Interrupt the kernel to go on..**"
   ]
  },
  {
   "cell_type": "markdown",
   "metadata": {},
   "source": [
    "## MLflow Project"
   ]
  },
  {
   "cell_type": "markdown",
   "metadata": {},
   "source": [
    "The conventions for **MLflow project** packaging include the MLproject file that we can create:"
   ]
  },
  {
   "cell_type": "code",
   "execution_count": null,
   "metadata": {},
   "outputs": [],
   "source": [
    "%%writefile MLproject\n",
    "name: workflow-tutorial\n",
    "\n",
    "conda_env: ../../environment.yml\n",
    "\n",
    "entry_points:\n",
    "  main:\n",
    "    command: \"kedro run\""
   ]
  },
  {
   "cell_type": "markdown",
   "metadata": {},
   "source": [
    "The file specifies the conda environment and command for different entry points (e.g. main, test, ...)\n",
    "\n",
    "Now the project can also be run with the following command. (We do not want to re-create the conda environment, hence the option `--no-conda`)"
   ]
  },
  {
   "cell_type": "code",
   "execution_count": null,
   "metadata": {},
   "outputs": [],
   "source": [
    "!mlflow run . --no-conda"
   ]
  },
  {
   "cell_type": "markdown",
   "metadata": {},
   "source": [
    "## MLflow Model Deployment"
   ]
  },
  {
   "cell_type": "markdown",
   "metadata": {},
   "source": [
    "We want to deploy an **MLflow Model** that has been created as an artifact for each run (`mlruns` directory)."
   ]
  },
  {
   "cell_type": "markdown",
   "metadata": {},
   "source": [
    "We will pick one of the models.."
   ]
  },
  {
   "cell_type": "code",
   "execution_count": null,
   "metadata": {},
   "outputs": [],
   "source": [
    "ids = os.listdir( 'mlruns/0/' )\n",
    "ids.remove('meta.yaml')\n",
    "model_path = '/workshop/workspace/workflow-tutorial/mlruns/0/' + ids[0] + '/artifacts/model'\n",
    "model_path"
   ]
  },
  {
   "cell_type": "markdown",
   "metadata": {},
   "source": [
    "And get some sample data.."
   ]
  },
  {
   "cell_type": "code",
   "execution_count": null,
   "metadata": {},
   "outputs": [],
   "source": [
    "df_sample = df.sample(2, random_state = 0)\n",
    "# file for batch prediction\n",
    "df_sample.drop('quality', axis=1).to_json('/tmp/wine_sample.json', orient='split')\n",
    "# json for api \n",
    "payload = \"'\" + df_sample.drop('quality', axis=1).to_json(orient='split')+ \"'\"\n",
    "df_sample"
   ]
  },
  {
   "cell_type": "markdown",
   "metadata": {},
   "source": [
    "### Batch predictions"
   ]
  },
  {
   "cell_type": "markdown",
   "metadata": {},
   "source": [
    "First we make batch predictions on the sample data file.."
   ]
  },
  {
   "cell_type": "code",
   "execution_count": null,
   "metadata": {},
   "outputs": [],
   "source": [
    "%%bash -s $model_path\n",
    "mlflow models predict -m $1 -i '/tmp/wine_sample.json' --no-conda"
   ]
  },
  {
   "cell_type": "markdown",
   "metadata": {},
   "source": [
    "### Online predictions"
   ]
  },
  {
   "cell_type": "markdown",
   "metadata": {},
   "source": [
    "In order to deploy the model locally, use a terminal to execute following command.\n",
    "\n",
    "`mlflow models serve --no-conda -m {{ model_path }}`\n",
    "\n",
    "The path to the model file should be changed."
   ]
  },
  {
   "cell_type": "code",
   "execution_count": null,
   "metadata": {},
   "outputs": [],
   "source": [
    "%%bash -s $model_path\n",
    "echo mlflow models serve --no-conda -m $1"
   ]
  },
  {
   "cell_type": "markdown",
   "metadata": {},
   "source": [
    "Now you get can online predictions using the REST API."
   ]
  },
  {
   "cell_type": "code",
   "execution_count": null,
   "metadata": {},
   "outputs": [],
   "source": [
    "%%bash -s $payload\n",
    "curl http://127.0.0.1:5000/invocations -H 'Content-Type: application/json; format=pandas-split' -d \"$1\""
   ]
  },
  {
   "cell_type": "markdown",
   "metadata": {},
   "source": [
    "### Docker\n",
    "Alternative: Package a REST API endpoint serving the model as a docker image.\n",
    "\n",
    "`mlflow models build-docker`"
   ]
  },
  {
   "cell_type": "markdown",
   "metadata": {},
   "source": [
    "## Create Airflow DAG from Kedro pipeline\n",
    "### Install more project dependencies\n",
    "We want to use the *kedro-airflow* plugin. Please install this new project dependency using `kedro install`.\n",
    "Note that to further update the project requirements, you should modify `src/requirements.in` (not `src/requirements.txt`)."
   ]
  },
  {
   "cell_type": "code",
   "execution_count": null,
   "metadata": {},
   "outputs": [],
   "source": [
    "%%writefile src/requirements.in\n",
    "kedro-airflow"
   ]
  },
  {
   "cell_type": "code",
   "execution_count": null,
   "metadata": {},
   "outputs": [],
   "source": [
    "!kedro install --build-reqs"
   ]
  },
  {
   "cell_type": "markdown",
   "metadata": {},
   "source": [
    "### Create and deploy airflow DAG.\n",
    "\n",
    "Important:\n",
    "* All data sets must have an entry in the data catalog, otherwise there are only MemoryDataSets.\n",
    "* All local paths in both the data catalog and log config must be absolute paths."
   ]
  },
  {
   "cell_type": "code",
   "execution_count": null,
   "metadata": {},
   "outputs": [],
   "source": [
    "%%writefile conf/base/catalog.yml\n",
    "\n",
    "wines-red:\n",
    "  type: pandas.CSVDataSet\n",
    "  filepath: /workshop/workspace/workflow-tutorial/data/01_raw/winequality-red.csv\n",
    "  load_args:\n",
    "    sep: ';'\n",
    "\n",
    "x_train:\n",
    "  type: pickle.PickleDataSet\n",
    "  filepath: /workshop/workspace/workflow-tutorial/data/05_model_input/x_train.pickle\n",
    "\n",
    "y_train:\n",
    "  type: pickle.PickleDataSet\n",
    "  filepath: /workshop/workspace/workflow-tutorial/data/05_model_input/y_train.pickle\n",
    "\n",
    "x_test:\n",
    "  type: pickle.PickleDataSet\n",
    "  filepath: /workshop/workspace/workflow-tutorial/data/05_model_input/x_test.pickle\n",
    "\n",
    "y_test:\n",
    "  type: pickle.PickleDataSet\n",
    "  filepath: /workshop/workspace/workflow-tutorial/data/05_model_input/y_test.pickle\n",
    "\n",
    "model:\n",
    "  type: pickle.PickleDataSet\n",
    "  filepath: /workshop/workspace/workflow-tutorial/data/06_models/model.pickle"
   ]
  },
  {
   "cell_type": "markdown",
   "metadata": {},
   "source": [
    "We need to run the project again in order to create the intermediate data sets."
   ]
  },
  {
   "cell_type": "code",
   "execution_count": null,
   "metadata": {},
   "outputs": [],
   "source": [
    "!kedro run"
   ]
  },
  {
   "cell_type": "code",
   "execution_count": null,
   "metadata": {},
   "outputs": [],
   "source": [
    "!kedro airflow create"
   ]
  },
  {
   "cell_type": "code",
   "execution_count": null,
   "metadata": {},
   "outputs": [],
   "source": [
    "#!kedro airflow deploy\n",
    "#!cp /workshop/workspace/workflow-tutorial/airflow_dags/workflow_tutorial_dag.py /workshop/notebooks/airflow/dags/"
   ]
  },
  {
   "cell_type": "raw",
   "metadata": {},
   "source": [
    "%%bash\n",
    "curl -X POST \\\n",
    "  http://airflow:8080/api/experimental/dags/workflow-tutorial/dag_runs \\\n",
    "  -H 'Cache-Control: no-cache' \\\n",
    "  -H 'Content-Type: application/json' \\\n",
    "  -d '{\"conf\":\"{\\\"key\\\":\\\"value\\\"}\"}'"
   ]
  },
  {
   "cell_type": "code",
   "execution_count": null,
   "metadata": {},
   "outputs": [],
   "source": []
  }
 ],
 "metadata": {
  "kernelspec": {
   "display_name": "Python 3",
   "language": "python",
   "name": "python3"
  },
  "language_info": {
   "codemirror_mode": {
    "name": "ipython",
    "version": 3
   },
   "file_extension": ".py",
   "mimetype": "text/x-python",
   "name": "python",
   "nbconvert_exporter": "python",
   "pygments_lexer": "ipython3",
   "version": "3.7.9"
  }
 },
 "nbformat": 4,
 "nbformat_minor": 4
}
