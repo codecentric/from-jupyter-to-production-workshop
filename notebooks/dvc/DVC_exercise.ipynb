{
 "cells": [
  {
   "cell_type": "markdown",
   "metadata": {},
   "source": [
    "# Task: Build a simple pipeline with DVC"
   ]
  },
  {
   "cell_type": "markdown",
   "metadata": {},
   "source": [
    "In this task we want to build a simple DVC pipeline. The elements of the pipeline will classify images into either *lemons* or *bananas*.\n",
    "\n",
    "The pipelines consists of 2 python functions and one shell command for deployment:\n",
    "\n",
    "1. `preprocess(inputpath, outputpath)`, that processes images (convert to grayscale, resize to (100, 100)). `inputpath` is the location of the input image, and `outputpath` the location of the preprocessed image. \n",
    "2. `classify(inputpath, outputpath)`, that classifies images and write the results into a JSON file. `inputpath` is the location of the preprocessed image, and `outputpath` the location of the JSON file.\n",
    "3. `\"cat deployment_location | xargs cp jsonfile\"`. `deployment_location` is a file containing the location we want to deploy to, and `jsonfile` should be the location of the JSON file.\n",
    "\n",
    "We have already provided the python functions for you. You can find them in the file `dvc_exercise.py`. Your mission is to wrap a pipeline around them using DVC.\n",
    "\n",
    "You can call the functions from the shell via `python <file> <function name> <input params>`.\n",
    "\n",
    "Remember that you can run shell commands in a Jupyter notebook by starting a line in a cell with `!` or putting `%%sh` at the beginning of a cell."
   ]
  },
  {
   "cell_type": "markdown",
   "metadata": {},
   "source": [
    "#### Initialise DVC\n",
    "\n",
    "Please use the option `--no-scm` to avoid problems with this git repository."
   ]
  },
  {
   "cell_type": "code",
   "execution_count": null,
   "metadata": {},
   "outputs": [],
   "source": []
  },
  {
   "cell_type": "markdown",
   "metadata": {},
   "source": [
    "#### Define first pipeline stage"
   ]
  },
  {
   "cell_type": "code",
   "execution_count": 1,
   "metadata": {},
   "outputs": [],
   "source": [
    "# image_path = \"exercise-dataset-dvc/image.jpg\""
   ]
  },
  {
   "cell_type": "code",
   "execution_count": null,
   "metadata": {},
   "outputs": [],
   "source": []
  },
  {
   "cell_type": "markdown",
   "metadata": {},
   "source": [
    "#### Define second pipeline stage"
   ]
  },
  {
   "cell_type": "code",
   "execution_count": null,
   "metadata": {},
   "outputs": [],
   "source": []
  },
  {
   "cell_type": "markdown",
   "metadata": {},
   "source": [
    "#### Define third pipeline stage"
   ]
  },
  {
   "cell_type": "code",
   "execution_count": null,
   "metadata": {},
   "outputs": [],
   "source": []
  },
  {
   "cell_type": "markdown",
   "metadata": {},
   "source": [
    "#### Check your pipeline here:"
   ]
  },
  {
   "cell_type": "code",
   "execution_count": null,
   "metadata": {},
   "outputs": [],
   "source": []
  },
  {
   "cell_type": "markdown",
   "metadata": {},
   "source": [
    "#### Modify the deployment location and reproduce the pipeline\n",
    "We want to change our pipeline slightly. Our customer would like the classified fruit to be deployed (copied) to `./output-exercise-2` now."
   ]
  },
  {
   "cell_type": "code",
   "execution_count": 2,
   "metadata": {},
   "outputs": [],
   "source": [
    "# change desired deployment location\n",
    "!echo output-exercise-2 > deployment_location\n",
    "# check dvc status\n"
   ]
  },
  {
   "cell_type": "code",
   "execution_count": 3,
   "metadata": {},
   "outputs": [],
   "source": [
    "# rerun pipeline"
   ]
  },
  {
   "cell_type": "code",
   "execution_count": null,
   "metadata": {},
   "outputs": [],
   "source": []
  }
 ],
 "metadata": {
  "kernelspec": {
   "display_name": "Python 3",
   "language": "python",
   "name": "python3"
  },
  "language_info": {
   "codemirror_mode": {
    "name": "ipython",
    "version": 3
   },
   "file_extension": ".py",
   "mimetype": "text/x-python",
   "name": "python",
   "nbconvert_exporter": "python",
   "pygments_lexer": "ipython3",
   "version": "3.7.9"
  }
 },
 "nbformat": 4,
 "nbformat_minor": 4
}
