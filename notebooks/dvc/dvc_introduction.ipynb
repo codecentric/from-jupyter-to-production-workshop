{
 "cells": [
  {
   "cell_type": "markdown",
   "metadata": {},
   "source": [
    "# Lightweight Development Pipelines with DVC\n",
    "\n",
    "In this notebook we will highlight important elements of DVC. You can find extensive information on their [website](https://dvc.org).\n",
    "\n",
    "As a showcase we will implement a simple regression pipeline."
   ]
  },
  {
   "cell_type": "markdown",
   "metadata": {},
   "source": [
    "### Some Preparations\n",
    "We create a new directory, copy some files and change the cwd."
   ]
  },
  {
   "cell_type": "code",
   "execution_count": 34,
   "metadata": {},
   "outputs": [],
   "source": [
    "%%bash\n",
    "rm -rf /workshop/workspace/dvc_intro\n",
    "mkdir /workshop/workspace/dvc_intro -p\n",
    "cp /workshop/notebooks/dvc/{dvc_exercise.py,deployment_location,dvc_introduction.py,params.yaml} /workshop/workspace/dvc_intro\n",
    "cp -r /workshop/notebooks/dvc/data /workshop/workspace/dvc_intro"
   ]
  },
  {
   "cell_type": "code",
   "execution_count": 35,
   "metadata": {},
   "outputs": [],
   "source": [
    "import os\n",
    "os.chdir(\"/workshop/workspace/dvc_intro\")"
   ]
  },
  {
   "cell_type": "markdown",
   "metadata": {},
   "source": [
    "### Initialize Git"
   ]
  },
  {
   "cell_type": "markdown",
   "metadata": {},
   "source": [
    "DVC works on top of git.."
   ]
  },
  {
   "cell_type": "code",
   "execution_count": 36,
   "metadata": {},
   "outputs": [
    {
     "name": "stdout",
     "output_type": "stream",
     "text": [
      "\u001b[33mhint: Using 'master' as the name for the initial branch. This default branch name\u001b[m\n",
      "\u001b[33mhint: is subject to change. To configure the initial branch name to use in all\u001b[m\n",
      "\u001b[33mhint: of your new repositories, which will suppress this warning, call:\u001b[m\n",
      "\u001b[33mhint: \u001b[m\n",
      "\u001b[33mhint: \tgit config --global init.defaultBranch <name>\u001b[m\n",
      "\u001b[33mhint: \u001b[m\n",
      "\u001b[33mhint: Names commonly chosen instead of 'master' are 'main', 'trunk' and\u001b[m\n",
      "\u001b[33mhint: 'development'. The just-created branch can be renamed via this command:\u001b[m\n",
      "\u001b[33mhint: \u001b[m\n",
      "\u001b[33mhint: \tgit branch -m <name>\u001b[m\n",
      "Initialized empty Git repository in /workshop/workspace/dvc_intro/.git/\n"
     ]
    }
   ],
   "source": [
    "!git init"
   ]
  },
  {
   "cell_type": "markdown",
   "metadata": {},
   "source": [
    "You might want to set your git configuration."
   ]
  },
  {
   "cell_type": "code",
   "execution_count": 37,
   "metadata": {},
   "outputs": [],
   "source": [
    "!git config --global user.email \"you@example.com\"\n",
    "!git config --global user.name \"Your Name\""
   ]
  },
  {
   "cell_type": "markdown",
   "metadata": {},
   "source": [
    "### Initialize DVC"
   ]
  },
  {
   "cell_type": "code",
   "execution_count": 38,
   "metadata": {},
   "outputs": [
    {
     "name": "stdout",
     "output_type": "stream",
     "text": [
      "Initialized DVC repository.\n",
      "\n",
      "You can now commit the changes to git.\n",
      "\n",
      "\u001b[31m+---------------------------------------------------------------------+\n",
      "\u001b[0m\u001b[31m|\u001b[0m                                                                     \u001b[31m|\u001b[0m\n",
      "\u001b[31m|\u001b[0m        DVC has enabled anonymous aggregate usage analytics.         \u001b[31m|\u001b[0m\n",
      "\u001b[31m|\u001b[0m     Read the analytics documentation (and how to opt-out) here:     \u001b[31m|\u001b[0m\n",
      "\u001b[31m|\u001b[0m             <\u001b[36mhttps://dvc.org/doc/user-guide/analytics\u001b[39m>              \u001b[31m|\u001b[0m\n",
      "\u001b[31m|\u001b[0m                                                                     \u001b[31m|\u001b[0m\n",
      "\u001b[31m+---------------------------------------------------------------------+\n",
      "\u001b[0m\n",
      "\u001b[33mWhat's next?\u001b[39m\n",
      "\u001b[33m------------\u001b[39m\n",
      "- Check out the documentation: <\u001b[36mhttps://dvc.org/doc\u001b[39m>\n",
      "- Get help and share ideas: <\u001b[36mhttps://dvc.org/chat\u001b[39m>\n",
      "- Star us on GitHub: <\u001b[36mhttps://github.com/iterative/dvc\u001b[39m>\n",
      "\u001b[0m"
     ]
    }
   ],
   "source": [
    "!dvc init -f"
   ]
  },
  {
   "cell_type": "markdown",
   "metadata": {},
   "source": [
    "We can either add files to our versioning system by manually adding them or implicitly in a pipeline."
   ]
  },
  {
   "cell_type": "code",
   "execution_count": 39,
   "metadata": {},
   "outputs": [
    {
     "name": "stdout",
     "output_type": "stream",
     "text": [
      "Adding...                                                                       \n",
      "!\u001b[A\n",
      "  0%|          |.GTevWHDSV3xZBGvn9LRPDX.tmp    0.00/4.18k [00:00<?,       ?it/s]\u001b[A\n",
      "100% Add|██████████████████████████████████████████████|1/1 [00:00,  2.99file/s]\u001b[A\n",
      "\n",
      "To track the changes with git, run:\n",
      "\n",
      "\tgit add data/.gitignore data/image.jpg.dvc\n",
      "\u001b[0m"
     ]
    }
   ],
   "source": [
    "!dvc add data/image.jpg"
   ]
  },
  {
   "cell_type": "markdown",
   "metadata": {},
   "source": [
    "Optional: We add a new remote storage (could be S3, GCS, SSH, ...)"
   ]
  },
  {
   "cell_type": "code",
   "execution_count": 40,
   "metadata": {},
   "outputs": [
    {
     "name": "stdout",
     "output_type": "stream",
     "text": [
      "Setting 'local_storage' as a default remote.\n",
      "\u001b[0m"
     ]
    }
   ],
   "source": [
    "!dvc remote add -d -f local_storage /tmp/dvc_introduction"
   ]
  },
  {
   "cell_type": "code",
   "execution_count": 41,
   "metadata": {},
   "outputs": [
    {
     "name": "stdout",
     "output_type": "stream",
     "text": [
      "On branch master\n",
      "\n",
      "No commits yet\n",
      "\n",
      "Changes to be committed:\n",
      "  (use \"git rm --cached <file>...\" to unstage)\n",
      "\t\u001b[32mnew file:   .dvc/.gitignore\u001b[m\n",
      "\t\u001b[32mnew file:   .dvc/config\u001b[m\n",
      "\t\u001b[32mnew file:   .dvc/plots/confusion.json\u001b[m\n",
      "\t\u001b[32mnew file:   .dvc/plots/confusion_normalized.json\u001b[m\n",
      "\t\u001b[32mnew file:   .dvc/plots/default.json\u001b[m\n",
      "\t\u001b[32mnew file:   .dvc/plots/linear.json\u001b[m\n",
      "\t\u001b[32mnew file:   .dvc/plots/scatter.json\u001b[m\n",
      "\t\u001b[32mnew file:   .dvc/plots/smooth.json\u001b[m\n",
      "\t\u001b[32mnew file:   .dvcignore\u001b[m\n",
      "\n",
      "Changes not staged for commit:\n",
      "  (use \"git add <file>...\" to update what will be committed)\n",
      "  (use \"git restore <file>...\" to discard changes in working directory)\n",
      "\t\u001b[31mmodified:   .dvc/config\u001b[m\n",
      "\n",
      "Untracked files:\n",
      "  (use \"git add <file>...\" to include in what will be committed)\n",
      "\t\u001b[31mdata/\u001b[m\n",
      "\t\u001b[31mdeployment_location\u001b[m\n",
      "\t\u001b[31mdvc_exercise.py\u001b[m\n",
      "\t\u001b[31mdvc_introduction.py\u001b[m\n",
      "\t\u001b[31mparams.yaml\u001b[m\n",
      "\n"
     ]
    }
   ],
   "source": [
    "!git status"
   ]
  },
  {
   "cell_type": "code",
   "execution_count": 42,
   "metadata": {},
   "outputs": [],
   "source": [
    "!git add ."
   ]
  },
  {
   "cell_type": "code",
   "execution_count": 43,
   "metadata": {},
   "outputs": [
    {
     "name": "stdout",
     "output_type": "stream",
     "text": [
      "[master (root-commit) 305ac0f] initial commit\n",
      " 15 files changed, 635 insertions(+)\n",
      " create mode 100644 .dvc/.gitignore\n",
      " create mode 100644 .dvc/config\n",
      " create mode 100644 .dvc/plots/confusion.json\n",
      " create mode 100644 .dvc/plots/confusion_normalized.json\n",
      " create mode 100644 .dvc/plots/default.json\n",
      " create mode 100644 .dvc/plots/linear.json\n",
      " create mode 100644 .dvc/plots/scatter.json\n",
      " create mode 100644 .dvc/plots/smooth.json\n",
      " create mode 100644 .dvcignore\n",
      " create mode 100644 data/.gitignore\n",
      " create mode 100644 data/image.jpg.dvc\n",
      " create mode 100644 deployment_location\n",
      " create mode 100644 dvc_exercise.py\n",
      " create mode 100644 dvc_introduction.py\n",
      " create mode 100644 params.yaml\n"
     ]
    }
   ],
   "source": [
    "!git commit -m \"initial commit\""
   ]
  },
  {
   "cell_type": "markdown",
   "metadata": {},
   "source": [
    "Let's check our current status. Attention: DVC does not have a sophisticated git-like `stage area`, but a cache-directory, that is being synced with the remote."
   ]
  },
  {
   "cell_type": "code",
   "execution_count": 44,
   "metadata": {},
   "outputs": [
    {
     "name": "stdout",
     "output_type": "stream",
     "text": [
      "Cache and remote 'local_storage' are in sync.                                   \n",
      "\u001b[0m"
     ]
    }
   ],
   "source": [
    "!dvc status -c"
   ]
  },
  {
   "cell_type": "code",
   "execution_count": 45,
   "metadata": {},
   "outputs": [
    {
     "name": "stdout",
     "output_type": "stream",
     "text": [
      "Everything is up to date.                                                       \n",
      "\u001b[0m"
     ]
    }
   ],
   "source": [
    "!dvc push"
   ]
  },
  {
   "cell_type": "markdown",
   "metadata": {},
   "source": [
    "### Building a Pipeline"
   ]
  },
  {
   "cell_type": "code",
   "execution_count": 46,
   "metadata": {},
   "outputs": [
    {
     "name": "stdout",
     "output_type": "stream",
     "text": [
      "Creating 'dvc.yaml'\n",
      "Adding stage 'download' in 'dvc.yaml'\n",
      "\n",
      "To track the changes with git, run:\n",
      "\n",
      "\tgit add dvc.yaml data/.gitignore\n"
     ]
    }
   ],
   "source": [
    "%%sh\n",
    "dvc stage add -n download \\\n",
    " -d dvc_introduction.py \\\n",
    " -d http://archive.ics.uci.edu/ml/machine-learning-databases/wine-quality/winequality-red.csv \\\n",
    " -o data/winequality-red.csv \\\n",
    "python dvc_introduction.py download_data http://archive.ics.uci.edu/ml/machine-learning-databases/wine-quality/winequality-red.csv data/winequality-red.csv"
   ]
  },
  {
   "cell_type": "code",
   "execution_count": 47,
   "metadata": {},
   "outputs": [
    {
     "name": "stdout",
     "output_type": "stream",
     "text": [
      "Adding stage 'split' in 'dvc.yaml'\n",
      "\n",
      "To track the changes with git, run:\n",
      "\n",
      "\tgit add dvc.yaml data/.gitignore\n"
     ]
    }
   ],
   "source": [
    "%%sh \n",
    "dvc stage add -n split \\\n",
    "-d dvc_introduction.py \\\n",
    "-d data/winequality-red.csv \\\n",
    "-o data/x_train.csv -o data/y_train.csv -o data/x_test.csv -o data/y_test.csv \\\n",
    "python dvc_introduction.py split_data data/winequality-red.csv"
   ]
  },
  {
   "cell_type": "code",
   "execution_count": 48,
   "metadata": {},
   "outputs": [
    {
     "name": "stdout",
     "output_type": "stream",
     "text": [
      "Adding stage 'train' in 'dvc.yaml'\n",
      "\n",
      "To track the changes with git, run:\n",
      "\n",
      "\tgit add dvc.yaml data/.gitignore\n"
     ]
    }
   ],
   "source": [
    "%%sh \n",
    "dvc stage add -n train \\\n",
    "-d dvc_introduction.py \\\n",
    "-d data/x_train.csv -d data/y_train.csv \\\n",
    "-o data/model \\\n",
    "-p alpha,l1_ratio \\\n",
    "python dvc_introduction.py train_model data/x_train.csv data/y_train.csv"
   ]
  },
  {
   "cell_type": "code",
   "execution_count": 49,
   "metadata": {},
   "outputs": [
    {
     "name": "stdout",
     "output_type": "stream",
     "text": [
      "Adding stage 'evaluate' in 'dvc.yaml'\n",
      "\n",
      "To track the changes with git, run:\n",
      "\n",
      "\tgit add data/.gitignore dvc.yaml\n"
     ]
    }
   ],
   "source": [
    "%%sh\n",
    "dvc stage add -n evaluate \\\n",
    "-d dvc_introduction.py \\\n",
    "-d data/model -d data/x_test.csv -d data/y_test.csv \\\n",
    "-m data/result.json \\\n",
    "python dvc_introduction.py evaluate_model data/model data/x_test.csv data/y_test.csv"
   ]
  },
  {
   "cell_type": "code",
   "execution_count": 50,
   "metadata": {},
   "outputs": [
    {
     "name": "stdout",
     "output_type": "stream",
     "text": [
      "Running stage 'download':                                             core\u001b[39m>\n",
      "> python dvc_introduction.py download_data http://archive.ics.uci.edu/ml/machine-learning-databases/wine-quality/winequality-red.csv data/winequality-red.csv\n",
      "Generating lock file 'dvc.lock'                                                 \n",
      "Updating lock file 'dvc.lock'\n",
      "\n",
      "Running stage 'split':\n",
      "> python dvc_introduction.py split_data data/winequality-red.csv\n",
      "Updating lock file 'dvc.lock'                                                   \n",
      "\n",
      "Running stage 'train':\n",
      "> python dvc_introduction.py train_model data/x_train.csv data/y_train.csv\n",
      "Updating lock file 'dvc.lock'                                                   \n",
      "\n",
      "Running stage 'evaluate':\n",
      "> python dvc_introduction.py evaluate_model data/model data/x_test.csv data/y_test.csv\n",
      "Updating lock file 'dvc.lock'                                                   \n",
      "\n",
      "To track the changes with git, run:\n",
      "\n",
      "\tgit add dvc.lock\n",
      "Use `dvc push` to send your updates to remote storage.\n",
      "\u001b[0m"
     ]
    }
   ],
   "source": [
    "!dvc repro"
   ]
  },
  {
   "cell_type": "code",
   "execution_count": 51,
   "metadata": {},
   "outputs": [
    {
     "name": "stdout",
     "output_type": "stream",
     "text": [
      "[master 5e5c659] Add pipeline\n",
      " 3 files changed, 125 insertions(+)\n",
      " create mode 100644 dvc.lock\n",
      " create mode 100644 dvc.yaml\n"
     ]
    }
   ],
   "source": [
    "!git add .\n",
    "!git commit -m \"Add pipeline\""
   ]
  },
  {
   "cell_type": "markdown",
   "metadata": {},
   "source": [
    "### Inspecting and Modifying a Pipeline "
   ]
  },
  {
   "cell_type": "code",
   "execution_count": 52,
   "metadata": {},
   "outputs": [
    {
     "name": "stdout",
     "output_type": "stream",
     "text": [
      "\u001b[33mWARNING\u001b[39m: Unable to find `less` in the PATH. Check out <\u001b[36mhttps://man.dvc.org/pipeline/show\u001b[39m> for more info.\n",
      "        +----------+      \n",
      "        | download |      \n",
      "        +----------+      \n",
      "              *           \n",
      "              *           \n",
      "              *           \n",
      "          +-------+       \n",
      "          | split |       \n",
      "          +-------+       \n",
      "         **        **     \n",
      "       **            *    \n",
      "      *               **  \n",
      "+-------+               * \n",
      "| train |             **  \n",
      "+-------+            *    \n",
      "         **        **     \n",
      "           **    **       \n",
      "             *  *         \n",
      "        +----------+      \n",
      "        | evaluate |      \n",
      "        +----------+      \n",
      "+--------------------+ \n",
      "| data/image.jpg.dvc | \n",
      "+--------------------+ \u001b[0m"
     ]
    }
   ],
   "source": [
    "!dvc dag"
   ]
  },
  {
   "cell_type": "code",
   "execution_count": 53,
   "metadata": {},
   "outputs": [
    {
     "name": "stdout",
     "output_type": "stream",
     "text": [
      "\tnew:                data/model                                                 \n",
      "\tnew:                data/winequality-red.csv\n",
      "\tnew:                data/x_test.csv\n",
      "\tnew:                data/x_train.csv\n",
      "\tnew:                data/y_test.csv\n",
      "\tnew:                data/y_train.csv\n",
      "\tnew:                data/model/MLmodel\n",
      "\tnew:                data/model/conda.yaml\n",
      "\tnew:                data/model/model.pkl\n",
      "\tnew:                data/result.json\n",
      "\u001b[0m"
     ]
    }
   ],
   "source": [
    "!dvc status -c"
   ]
  },
  {
   "cell_type": "code",
   "execution_count": 54,
   "metadata": {},
   "outputs": [
    {
     "name": "stdout",
     "output_type": "stream",
     "text": [
      "  0% Uploading|                                     |0/10 [00:00<?,     ?file/s]\n",
      "!\u001b[A\n",
      "  0%|          |data/model/MLmodel                  0/287 [00:00<?,       ?it/s]\u001b[A\n",
      "                                                                                \u001b[A\n",
      "!\u001b[A\n",
      "  0%|          |data/model/conda.yaml               0/153 [00:00<?,       ?it/s]\u001b[A\n",
      "\n",
      "!\u001b[A\u001b[A\n",
      "\n",
      "  0%|          |data/model/model.pkl           0.00/1.29k [00:00<?,       ?it/s]\u001b[A\u001b[A\n",
      "                                                                                \u001b[A\n",
      "\n",
      "                                                                                \u001b[A\u001b[A\n",
      "!\u001b[A\n",
      "  0%|          |data/model                          0/206 [00:00<?,       ?it/s]\u001b[A\n",
      "                                                                                \u001b[A\n",
      "!\u001b[A\n",
      "  0%|          |data/x_test.csv                0.00/17.9k [00:00<?,       ?it/s]\u001b[A\n",
      "\n",
      "!\u001b[A\u001b[A\n",
      "\n",
      "  0%|          |data/x_train.csv               0.00/71.1k [00:00<?,       ?it/s]\u001b[A\u001b[A\n",
      "\n",
      "\n",
      "!\u001b[A\u001b[A\u001b[A\n",
      "\n",
      "\n",
      "  0%|          |data/winequality-red.csv       0.00/92.0k [00:00<?,       ?it/s]\u001b[A\u001b[A\u001b[A\n",
      "\n",
      "                                                                                \u001b[A\u001b[A\n",
      "\n",
      "!\u001b[A\u001b[A\n",
      "\n",
      "  0%|          |data/y_test.csv                     0/648 [00:00<?,       ?it/s]\u001b[A\u001b[A\n",
      "\n",
      "\n",
      "                                                                                \u001b[A\u001b[A\u001b[A\n",
      "\n",
      "\n",
      "!\u001b[A\u001b[A\u001b[A\n",
      "                                                                                \u001b[A\n",
      "\n",
      "                                                                                \u001b[A\u001b[A\n",
      "!\u001b[A\n",
      "  0%|          |data/y_train.csv               0.00/2.57k [00:00<?,       ?it/s]\u001b[A\n",
      "\n",
      "\n",
      "  0%|          |data/result.json                     0/68 [00:00<?,       ?it/s]\u001b[A\u001b[A\u001b[A\n",
      "                                                                                \u001b[A\n",
      "\n",
      "\n",
      "10 files pushed                                                                 \u001b[A\u001b[A\u001b[A\n",
      "\u001b[0m"
     ]
    }
   ],
   "source": [
    "!dvc push"
   ]
  },
  {
   "cell_type": "code",
   "execution_count": 55,
   "metadata": {},
   "outputs": [
    {
     "name": "stdout",
     "output_type": "stream",
     "text": [
      "Cache and remote 'local_storage' are in sync.                                   \n",
      "\u001b[0m"
     ]
    }
   ],
   "source": [
    "!dvc status -c"
   ]
  },
  {
   "cell_type": "markdown",
   "metadata": {},
   "source": [
    "Let's modify a file and reproduce our pipeline!"
   ]
  },
  {
   "cell_type": "code",
   "execution_count": 56,
   "metadata": {},
   "outputs": [
    {
     "name": "stdout",
     "output_type": "stream",
     "text": [
      "Data and pipelines are up to date.                                    core\u001b[39m>\n",
      "\u001b[0m"
     ]
    }
   ],
   "source": [
    "!dvc status"
   ]
  },
  {
   "cell_type": "code",
   "execution_count": 57,
   "metadata": {},
   "outputs": [
    {
     "name": "stdout",
     "output_type": "stream",
     "text": [
      "Stage 'download' didn't change, skipping                              core\u001b[39m>\n",
      "Stage 'split' didn't change, skipping\n",
      "Stage 'train' didn't change, skipping\n",
      "Stage 'evaluate' didn't change, skipping\n",
      "Data and pipelines are up to date.\n",
      "\u001b[0m"
     ]
    }
   ],
   "source": [
    "!dvc repro"
   ]
  },
  {
   "cell_type": "markdown",
   "metadata": {},
   "source": [
    "### Compare Experiments"
   ]
  },
  {
   "cell_type": "code",
   "execution_count": 58,
   "metadata": {},
   "outputs": [],
   "source": [
    "!sed -i -e \"s/alpha:\\s0.5/alpha: 0.6/g\" params.yaml"
   ]
  },
  {
   "cell_type": "code",
   "execution_count": 64,
   "metadata": {},
   "outputs": [
    {
     "name": "stdout",
     "output_type": "stream",
     "text": [
      "Path         Param    Old    New                                      core\u001b[39m>\n",
      "params.yaml  alpha    0.5    0.6\n",
      "\u001b[0m"
     ]
    }
   ],
   "source": [
    "!dvc params diff"
   ]
  },
  {
   "cell_type": "code",
   "execution_count": 59,
   "metadata": {},
   "outputs": [
    {
     "name": "stdout",
     "output_type": "stream",
     "text": [
      "Stage 'download' didn't change, skipping                              core\u001b[39m>\n",
      "Stage 'split' didn't change, skipping\n",
      "Running stage 'train':\n",
      "> python dvc_introduction.py train_model data/x_train.csv data/y_train.csv\n",
      "Updating lock file 'dvc.lock'                                                   \n",
      "\n",
      "Running stage 'evaluate':\n",
      "> python dvc_introduction.py evaluate_model data/model data/x_test.csv data/y_test.csv\n",
      "Updating lock file 'dvc.lock'                                                   \n",
      "\n",
      "To track the changes with git, run:\n",
      "\n",
      "\tgit add dvc.lock\n",
      "Use `dvc push` to send your updates to remote storage.\n",
      "Path              Metric      Old      New      Change                core\u001b[39m>\n",
      "data/result.json  train.mae   0.63139  0.65773  0.02635\n",
      "data/result.json  train.r2    0.13344  0.06825  -0.06519\n",
      "data/result.json  train.rmse  0.75253  0.78032  0.02779\n",
      "\u001b[0m"
     ]
    }
   ],
   "source": [
    "!dvc repro"
   ]
  },
  {
   "cell_type": "code",
   "execution_count": 60,
   "metadata": {},
   "outputs": [
    {
     "name": "stdout",
     "output_type": "stream",
     "text": [
      "Path              train.mae    train.r2    train.rmse                 core\u001b[39m>\n",
      "data/result.json  0.65773      0.06825     0.78032\n",
      "\u001b[0m"
     ]
    }
   ],
   "source": [
    "!dvc metrics show"
   ]
  },
  {
   "cell_type": "code",
   "execution_count": 61,
   "metadata": {},
   "outputs": [
    {
     "name": "stdout",
     "output_type": "stream",
     "text": [
      "Path              Metric      Old      New      Change                core\u001b[39m>\n",
      "data/result.json  train.mae   0.63139  0.65773  0.02635\n",
      "data/result.json  train.r2    0.13344  0.06825  -0.06519\n",
      "data/result.json  train.rmse  0.75253  0.78032  0.02779\n",
      "\u001b[0m"
     ]
    }
   ],
   "source": [
    "!dvc metrics diff"
   ]
  },
  {
   "cell_type": "markdown",
   "metadata": {},
   "source": [
    "It is also possible to compare results from different branches."
   ]
  },
  {
   "cell_type": "code",
   "execution_count": null,
   "metadata": {},
   "outputs": [],
   "source": [
    "%%bash\n",
    "git checkout -b experiment_1\n",
    "git add .\n",
    "git commit -m \"changed parameter alpha\"\n",
    "\n",
    "dvc metrics diff master experiment_1"
   ]
  },
  {
   "cell_type": "markdown",
   "metadata": {},
   "source": [
    "### More Features"
   ]
  },
  {
   "cell_type": "markdown",
   "metadata": {},
   "source": [
    "Get a file from another (external) git+DVC repository."
   ]
  },
  {
   "cell_type": "code",
   "execution_count": null,
   "metadata": {},
   "outputs": [],
   "source": [
    "!dvc get https://github.com/iterative/example-get-started model.pkl"
   ]
  },
  {
   "cell_type": "code",
   "execution_count": null,
   "metadata": {},
   "outputs": [],
   "source": [
    "!rm model.pkl"
   ]
  },
  {
   "cell_type": "markdown",
   "metadata": {},
   "source": [
    "Get a file *including* its .dvc file from another (external) git+DVC repository."
   ]
  },
  {
   "cell_type": "code",
   "execution_count": null,
   "metadata": {},
   "outputs": [],
   "source": [
    "!dvc import https://github.com/iterative/example-get-started model.pkl"
   ]
  },
  {
   "cell_type": "code",
   "execution_count": null,
   "metadata": {},
   "outputs": [],
   "source": [
    "!cat model.pkl.dvc"
   ]
  },
  {
   "cell_type": "markdown",
   "metadata": {},
   "source": [
    "### Experiment Tracking"
   ]
  },
  {
   "cell_type": "markdown",
   "metadata": {},
   "source": [
    "New in dvc2: Experiment tracking, based on git: https://dvc.org/doc/start/experiments"
   ]
  },
  {
   "cell_type": "markdown",
   "metadata": {},
   "source": [
    "### Clean-up"
   ]
  },
  {
   "cell_type": "code",
   "execution_count": null,
   "metadata": {},
   "outputs": [],
   "source": [
    "import os\n",
    "os.chdir(\"/workshop/notebooks/dvc\")"
   ]
  },
  {
   "cell_type": "code",
   "execution_count": null,
   "metadata": {},
   "outputs": [],
   "source": [
    "%%sh\n",
    "rm -rf /workshop/workspace/dvc_intro\n",
    "rm -rf /tmp/dvc_introduction"
   ]
  }
 ],
 "metadata": {
  "kernelspec": {
   "display_name": "Python 3",
   "language": "python",
   "name": "python3"
  },
  "language_info": {
   "codemirror_mode": {
    "name": "ipython",
    "version": 3
   },
   "file_extension": ".py",
   "mimetype": "text/x-python",
   "name": "python",
   "nbconvert_exporter": "python",
   "pygments_lexer": "ipython3",
   "version": "3.7.9"
  }
 },
 "nbformat": 4,
 "nbformat_minor": 4
}
