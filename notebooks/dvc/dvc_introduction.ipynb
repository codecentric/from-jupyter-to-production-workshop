{
 "cells": [
  {
   "cell_type": "markdown",
   "metadata": {},
   "source": [
    "# Lightweight Development Pipelines with DVC\n",
    "\n",
    "In this notebook we will highlight important elements of DVC. You can find extensive information on their [website](https://dvc.org).\n",
    "\n",
    "As a showcase we will implement a simple regression pipeline to predict the quality of red wine.\n",
    "\n",
    "## Project Setup\n",
    "\n",
    "### Some Preparations\n",
    "We will do the exercise using a dedicated 'dvc' folder in the 'workspace' directory.\n",
    "Therefore, we will copy all necessary files to the workspace and change our current working directory to the new directory."
   ]
  },
  {
   "cell_type": "code",
   "execution_count": 18,
   "metadata": {},
   "outputs": [],
   "source": [
    "%%bash\n",
    "rm -rf /workshop/workspace/dvc\n",
    "mkdir -p /workshop/workspace/dvc\n",
    "cp /workshop/notebooks/dvc/{deployment_location,params.yaml} /workshop/workspace/dvc\n",
    "cp -r /workshop/notebooks/dvc/data /workshop/workspace/dvc\n",
    "cp -r /workshop/notebooks/dvc/pipeline_scripts /workshop/workspace/dvc"
   ]
  },
  {
   "cell_type": "code",
   "execution_count": 19,
   "metadata": {},
   "outputs": [],
   "source": [
    "import os\n",
    "os.chdir(\"/workshop/workspace/dvc\")"
   ]
  },
  {
   "cell_type": "markdown",
   "metadata": {},
   "source": [
    "### Initialize Git\n",
    "\n",
    "First initialize Git, as DVC works on top of it."
   ]
  },
  {
   "cell_type": "code",
   "execution_count": 3,
   "metadata": {},
   "outputs": [
    {
     "name": "stdout",
     "output_type": "stream",
     "text": [
      "\u001b[33mhint: Using 'master' as the name for the initial branch. This default branch name\u001b[m\n",
      "\u001b[33mhint: is subject to change. To configure the initial branch name to use in all\u001b[m\n",
      "\u001b[33mhint: of your new repositories, which will suppress this warning, call:\u001b[m\n",
      "\u001b[33mhint: \u001b[m\n",
      "\u001b[33mhint: \tgit config --global init.defaultBranch <name>\u001b[m\n",
      "\u001b[33mhint: \u001b[m\n",
      "\u001b[33mhint: Names commonly chosen instead of 'master' are 'main', 'trunk' and\u001b[m\n",
      "\u001b[33mhint: 'development'. The just-created branch can be renamed via this command:\u001b[m\n",
      "\u001b[33mhint: \u001b[m\n",
      "\u001b[33mhint: \tgit branch -m <name>\u001b[m\n",
      "Initialized empty Git repository in /workshop/workspace/dvc/.git/\n"
     ]
    }
   ],
   "source": [
    "!git init"
   ]
  },
  {
   "cell_type": "markdown",
   "metadata": {},
   "source": [
    "**Optional:** Set your git configuration."
   ]
  },
  {
   "cell_type": "code",
   "execution_count": 4,
   "metadata": {},
   "outputs": [],
   "source": [
    "!git config --global user.email \"you@example.com\"\n",
    "!git config --global user.name \"Your Name\""
   ]
  },
  {
   "cell_type": "markdown",
   "metadata": {},
   "source": [
    "Add all copied files to your git repository, so we can see the dvc\n",
    "changes of the next steps."
   ]
  },
  {
   "cell_type": "code",
   "execution_count": 11,
   "metadata": {},
   "outputs": [
    {
     "name": "stdout",
     "output_type": "stream",
     "text": [
      "On branch master\n",
      "nothing to commit, working tree clean\n"
     ]
    }
   ],
   "source": [
    "!git status"
   ]
  },
  {
   "cell_type": "code",
   "execution_count": 6,
   "metadata": {},
   "outputs": [],
   "source": [
    "!git add ."
   ]
  },
  {
   "cell_type": "code",
   "execution_count": 10,
   "metadata": {},
   "outputs": [
    {
     "name": "stdout",
     "output_type": "stream",
     "text": [
      "[master (root-commit) 1df6e86] initial commit\n",
      " 10 files changed, 44017 insertions(+)\n",
      " create mode 100644 data/genres_v2.csv\n",
      " create mode 100644 data/image.jpg\n",
      " create mode 100644 data/text.txt\n",
      " create mode 100644 data/winequality-red.csv\n",
      " create mode 100644 deployment_location\n",
      " create mode 100644 params.yaml\n",
      " create mode 100644 pipeline_scripts/download_data.py\n",
      " create mode 100644 pipeline_scripts/evaluate_model.py\n",
      " create mode 100644 pipeline_scripts/split_data.py\n",
      " create mode 100644 pipeline_scripts/train_model.py\n"
     ]
    }
   ],
   "source": [
    "!git commit -m 'initial commit'"
   ]
  },
  {
   "cell_type": "code",
   "execution_count": 12,
   "metadata": {},
   "outputs": [
    {
     "name": "stdout",
     "output_type": "stream",
     "text": [
      "On branch master\n",
      "nothing to commit, working tree clean\n"
     ]
    }
   ],
   "source": [
    "!git status"
   ]
  },
  {
   "cell_type": "markdown",
   "metadata": {},
   "source": [
    "### Initialize DVC\n",
    "\n",
    "Similar to initializing a git repository, we have to initialize a dvc repository first.\n",
    "The '-f' flag makes sure you have a fresh dvc repo. It overwrites any existing dvc repo in the given directory.\n",
    "\n",
    "**Optional:** If you want to know what dvc is doing, you can add the '-v' flag. This will run the command in 'verbose' mode and shows what steps lay beneath it."
   ]
  },
  {
   "cell_type": "code",
   "execution_count": 13,
   "metadata": {},
   "outputs": [
    {
     "name": "stdout",
     "output_type": "stream",
     "text": [
      "Initialized DVC repository.\n",
      "\n",
      "You can now commit the changes to git.\n",
      "\n",
      "\u001b[31m+---------------------------------------------------------------------+\n",
      "\u001b[0m\u001b[31m|\u001b[0m                                                                     \u001b[31m|\u001b[0m\n",
      "\u001b[31m|\u001b[0m        DVC has enabled anonymous aggregate usage analytics.         \u001b[31m|\u001b[0m\n",
      "\u001b[31m|\u001b[0m     Read the analytics documentation (and how to opt-out) here:     \u001b[31m|\u001b[0m\n",
      "\u001b[31m|\u001b[0m             <\u001b[36mhttps://dvc.org/doc/user-guide/analytics\u001b[39m>              \u001b[31m|\u001b[0m\n",
      "\u001b[31m|\u001b[0m                                                                     \u001b[31m|\u001b[0m\n",
      "\u001b[31m+---------------------------------------------------------------------+\n",
      "\u001b[0m\n",
      "\u001b[33mWhat's next?\u001b[39m\n",
      "\u001b[33m------------\u001b[39m\n",
      "- Check out the documentation: <\u001b[36mhttps://dvc.org/doc\u001b[39m>\n",
      "- Get help and share ideas: <\u001b[36mhttps://dvc.org/chat\u001b[39m>\n",
      "- Star us on GitHub: <\u001b[36mhttps://github.com/iterative/dvc\u001b[39m>\n",
      "\u001b[0m"
     ]
    }
   ],
   "source": [
    "!dvc init -f"
   ]
  },
  {
   "cell_type": "code",
   "execution_count": 14,
   "metadata": {},
   "outputs": [
    {
     "name": "stdout",
     "output_type": "stream",
     "text": [
      "There are no data or pipelines tracked in this project yet.           core\u001b[39m>\n",
      "See <\u001b[36mhttps://dvc.org/doc/start\u001b[39m> to get started!\n",
      "\u001b[0m"
     ]
    }
   ],
   "source": [
    "!dvc status -c"
   ]
  },
  {
   "cell_type": "code",
   "execution_count": 15,
   "metadata": {},
   "outputs": [
    {
     "name": "stdout",
     "output_type": "stream",
     "text": [
      "On branch master\n",
      "Changes to be committed:\n",
      "  (use \"git restore --staged <file>...\" to unstage)\n",
      "\t\u001b[32mnew file:   .dvc/.gitignore\u001b[m\n",
      "\t\u001b[32mnew file:   .dvc/config\u001b[m\n",
      "\t\u001b[32mnew file:   .dvcignore\u001b[m\n",
      "\n"
     ]
    }
   ],
   "source": [
    "!git status"
   ]
  },
  {
   "cell_type": "markdown",
   "metadata": {},
   "source": [
    "dvc itself does not track any data or pipeline yet. But git recognized three new files, created and staged by dvc. Similar to git, dvc stores some meta information inside the '.dvc' folder. \n",
    "\n",
    "*Git-tracked dvc Files*\n",
    "\n",
    "- The '.dvc/.gitignore' file makes sure no unwanted files are added to the git repo.\n",
    "- The '.dvc/config' file can store configs of the dvc project (global or local). E.g. if you add a remote location, it will be noted in this file.\n",
    "- The '.dvcignore' file works similar to '.gitignore' files but for dvc file tracking."
   ]
  },
  {
   "cell_type": "markdown",
   "metadata": {},
   "source": [
    "**Add remote data storage**\n",
    "\n",
    "We want to add a remote data storage, which we could use to share and back up copies of our data. This can be done via the `dvc add remote` command.\n",
    "We could add a new remote storage (could be S3, GCS, SSH, ...) or use a local storage.\n",
    "For now, a local storage is sufficient.\n",
    "\n",
    "- '-d' makes sure this will be our default remote storage\n",
    "- '-f' overwrites the existing remote storage\n",
    "- 'local_storage' is the name of our new remote storage\n",
    "- '/tmp/dvc/' is the path to our new remote storage"
   ]
  },
  {
   "cell_type": "code",
   "execution_count": 16,
   "metadata": {},
   "outputs": [
    {
     "name": "stdout",
     "output_type": "stream",
     "text": [
      "Setting 'local_storage' as a default remote.\n",
      "\u001b[0m"
     ]
    }
   ],
   "source": [
    "!dvc remote add -d -f local_storage /tmp/dvc"
   ]
  },
  {
   "cell_type": "markdown",
   "metadata": {
    "collapsed": false,
    "jupyter": {
     "outputs_hidden": false
    }
   },
   "source": [
    "Great! We now have set up our dvc project and remote storage. Let's track some files.\n",
    "\n",
    "Files can be added to our versioning system manually or implicitly in a pipeline.\n",
    "We will implement a pipeline later. For now, add the first files manually."
   ]
  },
  {
   "cell_type": "code",
   "execution_count": 17,
   "metadata": {
    "collapsed": false,
    "jupyter": {
     "outputs_hidden": false
    }
   },
   "outputs": [
    {
     "name": "stdout",
     "output_type": "stream",
     "text": [
      "\u001b[?25l\u001b[32m⠋\u001b[0m Checking graph                                       core\u001b[39m>\n",
      "Adding...                                                                       \n",
      "!\u001b[A\n",
      "Collecting files and computing hashes in data/image.jpg |0.00 [00:00,     ?file/\u001b[A\n",
      "Adding...                                                                       \u001b[A\n",
      "\u001b[31mERROR\u001b[39m:  output 'data/image.jpg' is already tracked by SCM (e.g. Git).\n",
      "    You can remove it from Git, then add to DVC.\n",
      "        To stop tracking from Git:\n",
      "            git rm -r --cached 'data/image.jpg'\n",
      "            git commit -m \"stop tracking data/image.jpg\" \n",
      "\u001b[?25l\u001b[32m⠋\u001b[0m Checking graph                                       core\u001b[39m>\n",
      "Adding...                                                                       \n",
      "!\u001b[A\n",
      "Collecting files and computing hashes in data/text.txt |0.00 [00:00,     ?file/s\u001b[A\n",
      "Adding...                                                                       \u001b[A\n",
      "\u001b[31mERROR\u001b[39m:  output 'data/text.txt' is already tracked by SCM (e.g. Git).\n",
      "    You can remove it from Git, then add to DVC.\n",
      "        To stop tracking from Git:\n",
      "            git rm -r --cached 'data/text.txt'\n",
      "            git commit -m \"stop tracking data/text.txt\" \n",
      "\u001b[0m"
     ]
    }
   ],
   "source": [
    "!dvc add data/image.jpg\n",
    "!dvc add data/text.txt"
   ]
  },
  {
   "cell_type": "markdown",
   "metadata": {
    "collapsed": false,
    "jupyter": {
     "outputs_hidden": false
    }
   },
   "source": [
    "In the logs you can see that dvc creates hashes of the files and adds them to its cache.\n",
    "\n",
    "Let's check what has changed."
   ]
  },
  {
   "cell_type": "code",
   "execution_count": 33,
   "metadata": {},
   "outputs": [
    {
     "name": "stdout",
     "output_type": "stream",
     "text": [
      "This is an example text file.\n"
     ]
    }
   ],
   "source": [
    "!cat .dvc/cache/files/md5/bf/3b8d17dc6b65d4270af15d5babb851"
   ]
  },
  {
   "cell_type": "code",
   "execution_count": 35,
   "metadata": {},
   "outputs": [
    {
     "name": "stdout",
     "output_type": "stream",
     "text": [
      "btime  lock  rwlock  rwlock.lock\n"
     ]
    }
   ],
   "source": [
    "!ls .dvc/tmp/"
   ]
  },
  {
   "cell_type": "code",
   "execution_count": 36,
   "metadata": {},
   "outputs": [
    {
     "name": "stdout",
     "output_type": "stream",
     "text": [
      "On branch master\n",
      "\n",
      "No commits yet\n",
      "\n",
      "Changes to be committed:\n",
      "  (use \"git rm --cached <file>...\" to unstage)\n",
      "\t\u001b[32mnew file:   .dvc/.gitignore\u001b[m\n",
      "\t\u001b[32mnew file:   .dvc/config\u001b[m\n",
      "\t\u001b[32mnew file:   .dvcignore\u001b[m\n",
      "\n",
      "Untracked files:\n",
      "  (use \"git add <file>...\" to include in what will be committed)\n",
      "\t\u001b[31mdata/\u001b[m\n",
      "\t\u001b[31mdeployment_location\u001b[m\n",
      "\t\u001b[31mparams.yaml\u001b[m\n",
      "\t\u001b[31mpipeline_scripts/\u001b[m\n",
      "\n"
     ]
    }
   ],
   "source": [
    "!git status"
   ]
  },
  {
   "cell_type": "markdown",
   "metadata": {
    "collapsed": false,
    "jupyter": {
     "outputs_hidden": false
    }
   },
   "source": [
    "The `dvc add` command created two new files called `image.jpg.dvc` and `text.txt.dvc` inside the `data` folder.\n",
    "\n",
    "To track the changes of the added files, we will commit all dvc files to Git."
   ]
  },
  {
   "cell_type": "code",
   "execution_count": null,
   "metadata": {},
   "outputs": [],
   "source": [
    "!git add ."
   ]
  },
  {
   "cell_type": "code",
   "execution_count": null,
   "metadata": {},
   "outputs": [],
   "source": [
    "!git commit -m \"initial commit\""
   ]
  },
  {
   "cell_type": "markdown",
   "metadata": {},
   "source": [
    "Let's check our current status compared to the status of the defined remote.\n",
    "Attention: DVC does not have a sophisticated git-like `stage area`, but a cache-directory, that is being synced with the remote."
   ]
  },
  {
   "cell_type": "code",
   "execution_count": null,
   "metadata": {},
   "outputs": [],
   "source": [
    "!dvc status -c"
   ]
  },
  {
   "cell_type": "code",
   "execution_count": null,
   "metadata": {
    "collapsed": false,
    "jupyter": {
     "outputs_hidden": false
    }
   },
   "outputs": [],
   "source": []
  },
  {
   "cell_type": "markdown",
   "metadata": {
    "collapsed": false,
    "jupyter": {
     "outputs_hidden": false
    }
   },
   "source": [
    "You can see, that the two new files are not stored on the remote storage, yet."
   ]
  },
  {
   "cell_type": "markdown",
   "metadata": {
    "collapsed": false,
    "jupyter": {
     "outputs_hidden": false
    }
   },
   "source": [
    "### Push the recent changes to the dvc remote storage."
   ]
  },
  {
   "cell_type": "code",
   "execution_count": null,
   "metadata": {},
   "outputs": [],
   "source": [
    "!dvc push"
   ]
  },
  {
   "cell_type": "code",
   "execution_count": null,
   "metadata": {},
   "outputs": [],
   "source": [
    "!dvc status -c"
   ]
  },
  {
   "cell_type": "markdown",
   "metadata": {
    "collapsed": false,
    "jupyter": {
     "outputs_hidden": false
    }
   },
   "source": [
    "Now, local and remote storage should be in sync."
   ]
  },
  {
   "cell_type": "markdown",
   "metadata": {
    "collapsed": false,
    "jupyter": {
     "outputs_hidden": false
    }
   },
   "source": [
    "### Optional: Simulate a data update.\n",
    "\n",
    "Make changes in the `data/text.txt` file.\n",
    "Add the changes to dvc.\n",
    "Add and commit the changes via Git.\n",
    "\n",
    "If you need help, have a look what you have done so far."
   ]
  },
  {
   "cell_type": "markdown",
   "metadata": {},
   "source": [
    "## Building a DVC Pipeline\n",
    "\n",
    "For the next excercise, you will build a simple dvc pipeline.\n",
    "\n",
    "The first stept of the pipeline will be the `dowload` step.\n",
    "The pipeline should execute the function `download_data` in the `./pipeline_scripts/download_data.py` file.\n",
    "The data to be used is stored here: `http://archive.ics.uci.edu/ml/machine-learning-databases/wine-quality/winequality-red.csv`.\n",
    "The output should be stored here: `data/winequality-red.csv`.\n",
    "\n",
    "The following command will create a configuration for the data pipeline containing the download stage. "
   ]
  },
  {
   "cell_type": "code",
   "execution_count": null,
   "metadata": {},
   "outputs": [],
   "source": [
    "%%sh\n",
    "dvc stage add -n download \\\n",
    " -d ./pipeline_scripts/download_data.py \\\n",
    " -d http://archive.ics.uci.edu/ml/machine-learning-databases/wine-quality/winequality-red.csv \\\n",
    " -o ./data/winequality-red.csv \\\n",
    "python ./pipeline_scripts/download_data.py http://archive.ics.uci.edu/ml/machine-learning-databases/wine-quality/winequality-red.csv ./data/winequality-red.csv"
   ]
  },
  {
   "cell_type": "markdown",
   "metadata": {
    "collapsed": false,
    "jupyter": {
     "outputs_hidden": false
    }
   },
   "source": [
    "Create the command to add the next stage on your own.\n",
    "\n",
    "The next step should be called `split`.\n",
    "It will execute the `split_data` function of the `./pipeline_scripts/split_data.py` file.\n",
    "The data to be used will be accessible here: `data/winequality-red.csv`.\n",
    "The function will generate four outputs, which should be stored as followed: `data/x_train.csv`,\n",
    " `data/y_train.csv`, `data/x_test.csv` and `data/y_test.csv`."
   ]
  },
  {
   "cell_type": "code",
   "execution_count": null,
   "metadata": {},
   "outputs": [],
   "source": [
    "%%sh \n",
    "dvc stage add -f -n split \\\n",
    "-d pipeline_scripts/split_data.py \\\n",
    "-d data/winequality-red.csv \\\n",
    "-o data/x_train.csv -o data/y_train.csv -o data/x_test.csv -o data/y_test.csv \\\n",
    "python pipeline_scripts/split_data.py data/winequality-red.csv"
   ]
  },
  {
   "cell_type": "markdown",
   "metadata": {
    "collapsed": false,
    "jupyter": {
     "outputs_hidden": false
    }
   },
   "source": [
    "Create a third step for training. This step should be named 'train' and uses the `train_model` \n",
    "function in the `./pipeline_scripts/train_model` file. \n",
    "It will use the two parameters defined in the `params.yaml`.\n",
    "Hint: The `params.yaml` in the root folder will be searched for the named parameters by default.\n",
    "You don't need to include its path in the configuration.\n",
    "\n",
    "name: `train`\n",
    "function: `train_model`\n",
    "skript file: `dvc_introduction.py`\n",
    "data: `data/x_train.csv` and `data/y_train.csv`\n",
    "output: `data/model`\n",
    "parameters (-p): `alpha` and `l1_ratio`"
   ]
  },
  {
   "cell_type": "code",
   "execution_count": null,
   "metadata": {},
   "outputs": [],
   "source": [
    "%%sh \n",
    "dvc stage add -n train \\\n",
    "-d ./pipeline_scripts/train_model.py \\\n",
    "-d data/x_train.csv -d data/y_train.csv \\\n",
    "-o data/model \\\n",
    "-p alpha,l1_ratio \\\n",
    "python ./pipeline_scripts/train_model.py data/x_train.csv data/y_train.csv"
   ]
  },
  {
   "cell_type": "markdown",
   "metadata": {
    "collapsed": false,
    "jupyter": {
     "outputs_hidden": false
    }
   },
   "source": [
    "Create a fourth step for evaluation. Here you will generate a metric file `data/result.json`.\n",
    "It will execute the `evaluate_model` function of the `./pipeline_scripts/evaluate_model.py` file.\n",
    "\n",
    "name: `evaluate`\n",
    "function: `evaluate_model`\n",
    "skript file: `dvc_introduction.py`\n",
    "data: `data/model`, `data/x_test.csv` and `data/y_test.csv`\n",
    "metric (-m): `data/result.json`"
   ]
  },
  {
   "cell_type": "code",
   "execution_count": null,
   "metadata": {},
   "outputs": [],
   "source": [
    "%%sh\n",
    "dvc stage add -n evaluate \\\n",
    "-d ./pipeline_scripts/evaluate_model.py \\\n",
    "-d data/model -d data/x_test.csv -d data/y_test.csv \\\n",
    "-m data/result.json \\\n",
    "python ./pipeline_scripts/evaluate_model.py data/model data/x_test.csv data/y_test.csv"
   ]
  },
  {
   "cell_type": "markdown",
   "metadata": {
    "collapsed": false,
    "jupyter": {
     "outputs_hidden": false
    }
   },
   "source": [
    "Start the pipeline."
   ]
  },
  {
   "cell_type": "code",
   "execution_count": null,
   "metadata": {},
   "outputs": [],
   "source": [
    "!dvc repro"
   ]
  },
  {
   "cell_type": "markdown",
   "metadata": {
    "collapsed": false,
    "jupyter": {
     "outputs_hidden": false
    }
   },
   "source": [
    "With the execution of the pipeline, a new file called `dvc.lock` was created.\n",
    "It stores information about the last run of the pipeline, including data and script file hashes.\n",
    "\n",
    "Commit the file to your git."
   ]
  },
  {
   "cell_type": "code",
   "execution_count": null,
   "metadata": {},
   "outputs": [],
   "source": [
    "!git add .\n",
    "!git commit -m \"Add pipeline\""
   ]
  },
  {
   "cell_type": "markdown",
   "metadata": {
    "collapsed": false,
    "jupyter": {
     "outputs_hidden": false
    }
   },
   "source": [
    "Optional: Try re-executing the pipeline.\n",
    "You will see, that DVC checks if the pipeline steps or the underlying data changed.\n",
    "If you haven't changed anything, the pipeline step will not be executed again. "
   ]
  },
  {
   "cell_type": "markdown",
   "metadata": {},
   "source": [
    "### Additional: Inspecting and Modifying a Pipeline "
   ]
  },
  {
   "cell_type": "code",
   "execution_count": null,
   "metadata": {},
   "outputs": [],
   "source": [
    "!dvc dag"
   ]
  },
  {
   "cell_type": "code",
   "execution_count": null,
   "metadata": {},
   "outputs": [],
   "source": [
    "!dvc status -c"
   ]
  },
  {
   "cell_type": "code",
   "execution_count": null,
   "metadata": {},
   "outputs": [],
   "source": [
    "!dvc push"
   ]
  },
  {
   "cell_type": "code",
   "execution_count": null,
   "metadata": {},
   "outputs": [],
   "source": [
    "!dvc status -c"
   ]
  },
  {
   "cell_type": "markdown",
   "metadata": {},
   "source": [
    "Let's modify a file and reproduce our pipeline!"
   ]
  },
  {
   "cell_type": "code",
   "execution_count": null,
   "metadata": {},
   "outputs": [],
   "source": [
    "!dvc status"
   ]
  },
  {
   "cell_type": "code",
   "execution_count": null,
   "metadata": {},
   "outputs": [],
   "source": [
    "!dvc repro"
   ]
  },
  {
   "cell_type": "markdown",
   "metadata": {},
   "source": [
    "### Additional: Compare Experiments"
   ]
  },
  {
   "cell_type": "markdown",
   "metadata": {},
   "source": [
    "Change alpha parameter and see how dvc tracks the change."
   ]
  },
  {
   "cell_type": "code",
   "execution_count": null,
   "metadata": {},
   "outputs": [],
   "source": [
    "!sed -i -e \"s/alpha:\\s0.5/alpha: 0.6/g\" params.yaml"
   ]
  },
  {
   "cell_type": "code",
   "execution_count": null,
   "metadata": {},
   "outputs": [],
   "source": [
    "!dvc params diff"
   ]
  },
  {
   "cell_type": "code",
   "execution_count": null,
   "metadata": {},
   "outputs": [],
   "source": [
    "!dvc repro"
   ]
  },
  {
   "cell_type": "markdown",
   "metadata": {},
   "source": [
    "Have a look at the main trainings metrics and compare the current state ('workspace') to the state of 'HEAD'."
   ]
  },
  {
   "cell_type": "code",
   "execution_count": null,
   "metadata": {},
   "outputs": [],
   "source": [
    "!dvc metrics show"
   ]
  },
  {
   "cell_type": "code",
   "execution_count": null,
   "metadata": {},
   "outputs": [],
   "source": [
    "!dvc metrics diff"
   ]
  },
  {
   "cell_type": "markdown",
   "metadata": {},
   "source": [
    "It is also possible to compare results from different branches."
   ]
  },
  {
   "cell_type": "code",
   "execution_count": null,
   "metadata": {},
   "outputs": [],
   "source": [
    "%%bash\n",
    "git checkout -b experiment_1\n",
    "git add .\n",
    "git commit -m \"changed parameter alpha\"\n",
    "\n",
    "dvc metrics diff master experiment_1"
   ]
  },
  {
   "cell_type": "markdown",
   "metadata": {},
   "source": [
    "### Additional: More Features\n",
    "\n",
    "Get a file from another (external) git+DVC repository."
   ]
  },
  {
   "cell_type": "code",
   "execution_count": null,
   "metadata": {},
   "outputs": [],
   "source": [
    "!dvc get https://github.com/iterative/example-get-started model.pkl"
   ]
  },
  {
   "cell_type": "code",
   "execution_count": null,
   "metadata": {},
   "outputs": [],
   "source": [
    "!rm model.pkl"
   ]
  },
  {
   "cell_type": "markdown",
   "metadata": {},
   "source": [
    "Get a file *including* its .dvc file from another (external) git+DVC repository."
   ]
  },
  {
   "cell_type": "code",
   "execution_count": null,
   "metadata": {},
   "outputs": [],
   "source": [
    "!dvc import https://github.com/iterative/example-get-started model.pkl"
   ]
  },
  {
   "cell_type": "code",
   "execution_count": null,
   "metadata": {},
   "outputs": [],
   "source": [
    "!cat model.pkl.dvc"
   ]
  },
  {
   "cell_type": "markdown",
   "metadata": {},
   "source": [
    "### Experiment Tracking\n",
    "\n",
    "New in dvc2: Experiment tracking, based on git: https://dvc.org/doc/start/experiments\n",
    "\n",
    "## Clean-up"
   ]
  },
  {
   "cell_type": "code",
   "execution_count": null,
   "metadata": {},
   "outputs": [],
   "source": [
    "import os\n",
    "os.chdir(\"/workshop/notebooks/dvc\")"
   ]
  },
  {
   "cell_type": "code",
   "execution_count": null,
   "metadata": {},
   "outputs": [],
   "source": [
    "%%sh\n",
    "rm -rf /workshop/workspace/dvc_intro\n",
    "rm -rf /tmp/dvc_introduction"
   ]
  },
  {
   "cell_type": "code",
   "execution_count": null,
   "metadata": {},
   "outputs": [],
   "source": []
  }
 ],
 "metadata": {
  "kernelspec": {
   "display_name": "Python 3 (ipykernel)",
   "language": "python",
   "name": "python3"
  },
  "language_info": {
   "codemirror_mode": {
    "name": "ipython",
    "version": 3
   },
   "file_extension": ".py",
   "mimetype": "text/x-python",
   "name": "python",
   "nbconvert_exporter": "python",
   "pygments_lexer": "ipython3",
   "version": "3.11.8"
  }
 },
 "nbformat": 4,
 "nbformat_minor": 4
}
