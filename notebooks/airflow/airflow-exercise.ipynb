{
 "cells": [
  {
   "cell_type": "markdown",
   "metadata": {},
   "source": [
    "## Task: Using a Classifier with Airflow"
   ]
  },
  {
   "cell_type": "markdown",
   "metadata": {},
   "source": [
    "We want to automate the process of classifying fruits. Every day we are provided with a new image that we need to predict. Your task is to write an airflow dag (`dags/airflow_exercise_dag.py`) that performs the following steps:\n",
    "\n",
    "1. Preprocess the image (resize and convert to grayscale)\n",
    "2. Classify the image"
   ]
  },
  {
   "cell_type": "markdown",
   "metadata": {},
   "source": [
    "Some useful hints:\n",
    "- The daily image will be dropped into `/exercise-dataset-airflow/daily/{the_day_as_MM_DD_YYYY}/image.jpg`\n",
    "- We can use the execution_date from the airflow context in the filepaths\n",
    "- Python functions can be executed via the `airflow.operators.python_operator.PythonOperator`.\n",
    "- You can view Airflow DAGs and DAG runs in the UI [localhost:8080](http://localhost:8080)\n",
    "- The Airflow DagBag takes a bit to be filled up again - patience is the key sometimes :-) (or you change the configuration)"
   ]
  },
  {
   "cell_type": "markdown",
   "metadata": {},
   "source": [
    "## Test and run DAG\n",
    "To test your tasks and DAG, you can loggin to the airflow service and use the airflow CLI.\n",
    "```\n",
    "docker-compose exec airflow bash\n",
    "```"
   ]
  },
  {
   "cell_type": "markdown",
   "metadata": {},
   "source": [
    "Using the CLI, you can test a single task like this\n",
    "```code\n",
    "airflow test example print_date 2020-09-13\n",
    "```\n",
    "backfilling is done like this\n",
    "```code\n",
    "airflow backfill file_processing -s 2020-09-13 -e 2020-09-16\n",
    "```\n",
    "\n",
    "Alternatively, you can make use of the REST API."
   ]
  },
  {
   "cell_type": "code",
   "execution_count": null,
   "metadata": {},
   "outputs": [],
   "source": [
    "%%bash\n",
    "# Check if webserver works..\n",
    "curl -X GET http://airflow:8080/api/experimental/test"
   ]
  },
  {
   "cell_type": "code",
   "execution_count": null,
   "metadata": {},
   "outputs": [],
   "source": [
    "%%bash\n",
    "# Unpause DAG..\n",
    "curl -X GET http://airflow:8080/api/experimental/dags/example/paused/false"
   ]
  },
  {
   "cell_type": "code",
   "execution_count": null,
   "metadata": {},
   "outputs": [],
   "source": [
    "%%bash\n",
    "# Trigger execution\n",
    "curl -X POST \\\n",
    "  http://airflow:8080/api/experimental/dags/example/dag_runs \\\n",
    "  -H 'Cache-Control: no-cache' \\\n",
    "  -H 'Content-Type: application/json' \\\n",
    "  -d '{\"conf\":\"{\\\"key\\\":\\\"value\\\"}\"}'"
   ]
  }
 ],
 "metadata": {
  "kernelspec": {
   "display_name": "Python 3",
   "language": "python",
   "name": "python3"
  },
  "language_info": {
   "codemirror_mode": {
    "name": "ipython",
    "version": 3
   },
   "file_extension": ".py",
   "mimetype": "text/x-python",
   "name": "python",
   "nbconvert_exporter": "python",
   "pygments_lexer": "ipython3",
   "version": "3.7.9"
  }
 },
 "nbformat": 4,
 "nbformat_minor": 4
}
