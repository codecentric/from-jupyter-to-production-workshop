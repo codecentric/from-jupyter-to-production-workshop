{
 "cells": [
  {
   "cell_type": "markdown",
   "metadata": {},
   "source": [
    "## Task: Using a Classifier with Airflow"
   ]
  },
  {
   "cell_type": "markdown",
   "metadata": {},
   "source": [
    "We want to automate our process of classifying fruits. Every day we are provided with a new image that we need to predict. Your task is to build a pipeline that performs the following steps:\n",
    "\n",
    "1. Check if the daily image has landed in our data folder\n",
    "2. Preprocess the image (resize and convert to grayscale)\n",
    "3. Classify the image"
   ]
  },
  {
   "cell_type": "markdown",
   "metadata": {},
   "source": [
    "Some useful hints:\n",
    "- The daily image will be dropped into `/exercise-dataset/daily/{the_day_as_MM_DD_YYYY}/image.jpg`\n",
    "- You can mock the day computation to use a fixed day (since we don't receive daily data)\n",
    "- Airflow provides an operator called `airflow.contrib.sensors.file_sensor.FileSensor` to check for the presence of files and directories.\n",
    "- Python functions can be executed via the `airflow.operators.python_operator.PythonOperator`.\n",
    "- You can rerun an Airflow task by clicking `Mark clear` in the UI\n",
    "- The Airflow DagBag takes a bit to be filled up again - patience is the key sometimes :-) (or you change the configuration)"
   ]
  },
  {
   "cell_type": "code",
   "execution_count": 2,
   "metadata": {},
   "outputs": [
    {
     "name": "stdout",
     "output_type": "stream",
     "text": [
      "/bin/bash: docker-compose: command not found\n"
     ]
    }
   ],
   "source": [
    "!docker-compose run airflow 'airflow backfill file_processing -s 2020-10-14 -e 2020-10-16'"
   ]
  },
  {
   "cell_type": "code",
   "execution_count": null,
   "metadata": {},
   "outputs": [],
   "source": []
  }
 ],
 "metadata": {
  "kernelspec": {
   "display_name": "Python 3",
   "language": "python",
   "name": "python3"
  },
  "language_info": {
   "codemirror_mode": {
    "name": "ipython",
    "version": 3
   },
   "file_extension": ".py",
   "mimetype": "text/x-python",
   "name": "python",
   "nbconvert_exporter": "python",
   "pygments_lexer": "ipython3",
   "version": "3.7.9"
  }
 },
 "nbformat": 4,
 "nbformat_minor": 4
}
