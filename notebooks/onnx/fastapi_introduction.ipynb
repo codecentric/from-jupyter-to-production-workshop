{
 "cells": [
  {
   "cell_type": "markdown",
   "metadata": {},
   "source": [
    "# FastAPI - Building fast and scalable REST APIs with Python\n",
    "\n",
    "*COPYRIGHT NOTICE: Parts of this tutorial are from the (amazing) [fastapi docs](fastapi.tiangolo.com)*.\n",
    "\n",
    "*FastAPI is a modern, fast (high-performance), web framework for building APIs with Python based on standard Python type hints.*\n",
    "\n",
    "As data scientists we usually build models that are trained on data and optimised on some metrics. At some point, a model needs to be integrated into existing processes, systems and applications. One way to do this is build a microservice that is running inference. FastAPI is a framework that will help us to build a quick REST API that can be integrated into the existing enterprise landscape. "
   ]
  },
  {
   "cell_type": "markdown",
   "metadata": {},
   "source": [
    "## What is a REST API?\n",
    "If REST APIs are new to you, feel free to read this article [API Guide for Data Scientists](https://www.enjoyalgorithms.com/blog/api-introduction-for-data-science-and-ml).\n",
    "\n",
    "An API is a set of protocols, routines, tools, and standards that **enable software applications to communicate with each other**. In other words, an API defines how software components should interact with each other and provides a way for developers to access the functionality of a particular application or service, without having to understand the underlying code.\n",
    "\n",
    "A **REST API** (Representational State Transfer Application Programming Interface) is a set of rules that allows different applications to communicate over the web using standard HTTP methods like GET, POST, PUT, and DELETE. For data scientists, it provides a way to access and manipulate data from remote servers, enabling seamless integration of data sources and machine learning models into their workflows."
   ]
  },
  {
   "cell_type": "markdown",
   "metadata": {},
   "source": [
    "## Why is FastAPI a great choice for inference?\n",
    "- **Fast**: Very high performance, on par with NodeJS and Go (thanks to Starlette and Pydantic).\n",
    "- **Huge productivity**: It's very fast to code with FastAPI. In the docs they say the following: *Increase the speed to develop features by about 200% to 300%.*\n",
    "- **Fewer bugs**: Reduce about 40% of human (developer) induced errors.\n",
    "- **Intuitive**: Great editor support. Completion everywhere. Less time debugging.\n",
    "- **Easy**: Designed to be easy to use and learn. Less time reading docs.\n",
    "- **Short**: Minimize code duplication. Multiple features from each parameter declaration. Fewer bugs.\n",
    "- **Robust**: Get production-ready code. With automatic interactive documentation.\n",
    "- **Standards-based**: Based on (and fully compatible with) the open standards for APIs: OpenAPI (previously known as Swagger) and JSON Schema."
   ]
  },
  {
   "cell_type": "markdown",
   "metadata": {},
   "source": [
    "## What does an API built with FastAPI look like?"
   ]
  },
  {
   "cell_type": "code",
   "execution_count": null,
   "metadata": {},
   "outputs": [],
   "source": [
    "%%writefile fastapi_example.py\n",
    "from fastapi import FastAPI\n",
    "\n",
    "# FastAPI provides all the functionality for your API.\n",
    "app = FastAPI()\n",
    "\n",
    "\n",
    "# this python function is decorated with a function called `get` provided by the FastAPI object.\n",
    "# it defines a HTTP GET operation in the root path\n",
    "@app.get(\"/\")\n",
    "def root():\n",
    "    return {\"Hello\": \"World\"}\n",
    "\n",
    "\n",
    "# this GET operation retrieves an item_id from the URL path and an optional query parameter 'q'\n",
    "@app.get(\"/items/{item_id}\")\n",
    "def echo_item(item_id: int, q: str | None = None):\n",
    "    return {\"item_id\": item_id, \"q\": q}"
   ]
  },
  {
   "cell_type": "code",
   "execution_count": null,
   "metadata": {},
   "outputs": [],
   "source": [
    "!fastapi dev fastapi_example.py --port 7777 --host 0.0.0.0"
   ]
  },
  {
   "cell_type": "markdown",
   "metadata": {},
   "source": [
    "## Declarative Request and Response Bodies with Pydantic\n",
    "\n",
    "When you need to send data from a client to your API, you send it as a request body. A request body is data sent by the client to your API. A response body is the data your API sends to the client.\n",
    "\n",
    "We can use the library `pydantic` to declare bodies as python classes. FastAPI will be able to parse them correctly."
   ]
  },
  {
   "cell_type": "code",
   "execution_count": null,
   "metadata": {},
   "outputs": [],
   "source": [
    "%%writefile fastapi_example_with_pydantic.py\n",
    "from fastapi import FastAPI\n",
    "from pydantic import BaseModel\n",
    "\n",
    "app = FastAPI()\n",
    "\n",
    "# declare the participant structure by inheriting from BaseModel\n",
    "class Participant(BaseModel):\n",
    "    first_name: str \n",
    "    surname: str\n",
    "    age: int\n",
    "    pets: list[str] | None = None\n",
    "\n",
    "# In-memory list to store participants. In a rela application, this would be a sql database, probably\n",
    "participants = []\n",
    "\n",
    "# POST operation to add a new participant\n",
    "@app.post(\"/participants/\")\n",
    "def add_participant(participant: Participant):\n",
    "    participants.append(participant)\n",
    "    return {\"message\": \"Participant added successfully\", \"participant\": participant}\n",
    "\n",
    "# GET operation to get all participants\n",
    "@app.get(\"/participants/\")\n",
    "def get_participants() -> list[Participant]:\n",
    "    return participants"
   ]
  },
  {
   "cell_type": "code",
   "execution_count": null,
   "metadata": {},
   "outputs": [],
   "source": [
    "!fastapi dev fastapi_example_with_pydantic.py --port 7777 --host 0.0.0.0"
   ]
  }
 ],
 "metadata": {
  "kernelspec": {
   "display_name": "Python 3 (ipykernel)",
   "language": "python",
   "name": "python3"
  },
  "language_info": {
   "codemirror_mode": {
    "name": "ipython",
    "version": 3
   },
   "file_extension": ".py",
   "mimetype": "text/x-python",
   "name": "python",
   "nbconvert_exporter": "python",
   "pygments_lexer": "ipython3",
   "version": "3.11.10"
  }
 },
 "nbformat": 4,
 "nbformat_minor": 4
}
