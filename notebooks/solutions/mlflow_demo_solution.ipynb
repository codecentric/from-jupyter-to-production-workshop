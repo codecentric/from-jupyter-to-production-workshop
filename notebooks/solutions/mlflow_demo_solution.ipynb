{
 "cells": [
  {
   "cell_type": "markdown",
   "id": "7262d11d0db6945c",
   "metadata": {
    "collapsed": false,
    "jupyter": {
     "outputs_hidden": false
    }
   },
   "source": [
    "# MLflow Exercise Tasks\n",
    "MLflow tracking is a powerful tool for logging and organizing machine learning experiments. It provides a centralized repository to log parameters, metrics, artifacts, and code versions. Here are some key concepts:\n",
    "\n",
    "- **Experiment**: A named process, typically representing a machine learning workflow, that can contain multiple runs.\n",
    "- **Run**: A single execution of a script or piece of code within an experiment.\n",
    "- **Parameters**: Input values to a run, such as hyperparameters.\n",
    "- **Metrics**: Output values or performance indicators logged during a run.\n",
    "- **Artifacts**: Output files, such as models or plots, logged during a run.\n",
    "\n",
    "By using MLflow, teams can effectively track and reproduce experiments, facilitating collaboration and model reproducibility.\n",
    "\n",
    "## Exercise Overview\n",
    "Welcome to the MLflow workshop on experiment tracking! In this exercise, we'll explore how to leverage MLflow to log and organize metrics, parameters, and artifacts in the context of machine learning workflows. The exercises are divided into two parts:\n",
    "1. **Logging Metrics** and Parameters with MLflow: This part focuses on using MLflow in a sklearn-based machine learning workflow, specifically with a RandomForestClassifier on the Iris dataset.\n",
    "\n",
    "2. **PyTorch Image Classifier with MLflow**: The second part of the exercise involves creating an image classifier using PyTorch. We'll utilize MLflow to track the training process and log important artifacts, such as the trained model and confusion matrix."
   ]
  },
  {
   "cell_type": "markdown",
   "id": "918f85af9e55a463",
   "metadata": {
    "collapsed": false,
    "jupyter": {
     "outputs_hidden": false
    }
   },
   "source": [
    "##  Exercise 1 - Logging Metrics and Parameters with MLflow\n",
    "> **Objective**: In this exercise, we will practice using MLflow to log metrics and parameters in a machine learning workflow.\n",
    "\n",
    "Code comments starting with an exclamation mark `#!` represent a TODO. The tracking server can be reached via the URL `http://localhost:5001`.\n",
    "**MLflow is already installed as a package.**"
   ]
  },
  {
   "cell_type": "markdown",
   "id": "9c65b4b0566b51d8",
   "metadata": {
    "collapsed": false,
    "jupyter": {
     "outputs_hidden": false
    }
   },
   "source": [
    "### Part 1: Setting Up\n",
    "We begin by importing the necessary libraries and loading a sample dataset (Iris). The dataset is split into training and testing sets."
   ]
  },
  {
   "cell_type": "code",
   "execution_count": null,
   "id": "12f8cd3a139d4d56",
   "metadata": {
    "collapsed": false,
    "is_executing": true,
    "jupyter": {
     "outputs_hidden": false
    }
   },
   "outputs": [],
   "source": [
    "import mlflow\n",
    "import mlflow.sklearn\n",
    "import numpy as np\n",
    "from sklearn.model_selection import train_test_split\n",
    "from sklearn.ensemble import RandomForestClassifier"
   ]
  },
  {
   "cell_type": "code",
   "execution_count": null,
   "id": "5dd9e6d161a1df6e",
   "metadata": {
    "collapsed": false,
    "jupyter": {
     "outputs_hidden": false
    }
   },
   "outputs": [],
   "source": [
    "# Load a Sample Dataset\n",
    "from sklearn.datasets import load_iris\n",
    "data = load_iris()\n",
    "X, y = data.data, data.target\n"
   ]
  },
  {
   "cell_type": "code",
   "execution_count": null,
   "id": "5e6b54c71c2e9515",
   "metadata": {
    "collapsed": false,
    "jupyter": {
     "outputs_hidden": false
    }
   },
   "outputs": [],
   "source": [
    "# Split the Dataset into Training and Testing Sets\n",
    "\n",
    "X_train, X_test, y_train, y_test = train_test_split(X, y, test_size=0.2, random_state=42)"
   ]
  },
  {
   "cell_type": "markdown",
   "id": "4e411c0f24217a4d",
   "metadata": {
    "collapsed": false,
    "jupyter": {
     "outputs_hidden": false
    }
   },
   "source": [
    "## Part 2: Training a RandomForest Classifier\n",
    "In this section, you will train a RandomForest classifier, log hyperparameters (e.g., the number of trees), and record accuracy as a metric. Additionally, you'll perform tasks like changing hyperparameters, viewing runs on the MLflow UI, and comparing experiments."
   ]
  },
  {
   "cell_type": "code",
   "execution_count": null,
   "id": "48f62a6842a61ad6",
   "metadata": {
    "collapsed": false,
    "jupyter": {
     "outputs_hidden": false
    }
   },
   "outputs": [],
   "source": [
    "#! Set the tracking URI to `http://mlflow:5001`\n",
    "mlflow.set_tracking_uri(\"http://mlflow:5001\")"
   ]
  },
  {
   "cell_type": "code",
   "execution_count": null,
   "id": "5d30d47a2c89d8b0",
   "metadata": {
    "collapsed": false,
    "jupyter": {
     "outputs_hidden": false
    }
   },
   "outputs": [],
   "source": [
    "try:\n",
    "    #! Create an experiment with the name `MLflow RandomForest Demo`. Save the experiment_id in the variable `exp_id`.\n",
    "    exp_id = mlflow.create_experiment(name=\"MLflow RandomForest Demo\")\n",
    "except mlflow.exceptions.RestException:\n",
    "   exp_id =  mlflow.get_experiment_by_name(name=\"MLflow RandomForest Demo\").experiment_id\n"
   ]
  },
  {
   "cell_type": "code",
   "execution_count": null,
   "id": "f8289dafc7951ca7",
   "metadata": {
    "collapsed": false,
    "jupyter": {
     "outputs_hidden": false
    }
   },
   "outputs": [],
   "source": [
    "with mlflow.start_run(experiment_id=exp_id):\n",
    "    num_trees = 100\n",
    "    \n",
    "    #! Log the hyperparameter `num_trees` as a parameter\n",
    "    mlflow.log_param(\"num_trees\", num_trees)\n",
    "    dataset_input =mlflow.data.from_numpy(X, source=\"Input.csv\")\n",
    "    mlflow.log_input(dataset_input,context=\"input\")\n",
    "    \n",
    "    clf = RandomForestClassifier(n_estimators=num_trees)\n",
    "    clf.fit(X_train, y_train)\n",
    "\n",
    "    accuracy = clf.score(X_test, y_test)\n",
    "\n",
    "    #! Log the accuracy (`accuracy`) as a metric\n",
    "    mlflow.log_metric(\"accuracy\", accuracy)"
   ]
  },
  {
   "cell_type": "markdown",
   "id": "88151557006ef909",
   "metadata": {
    "collapsed": false,
    "jupyter": {
     "outputs_hidden": false
    }
   },
   "source": [
    "### Part 3: Additional Tasks\n",
    "These tasks encourage you to further explore MLflow functionalities, such as saving datasets as artifacts.\n",
    "\n",
    "1. Set the number of trees num_trees in the previous code block to 200 and run the code block again.\n",
    "2. Visit the URL http://localhost:5001 in your browser. Check both runs of the experiment.\n",
    "3. On the overview page of the runs of the experiment MLflow Regression Demo, check both runs and compare them by clicking Compare.\n",
    "4. Before training, save the datasets X with the context input."
   ]
  },
  {
   "cell_type": "markdown",
   "id": "7fc295dfd1e5881e",
   "metadata": {
    "collapsed": false,
    "jupyter": {
     "outputs_hidden": false
    }
   },
   "source": [
    "## Exercise 2 - PyTorch Image Classifier with MLflow\n",
    "> **Objective**: In this exercise, we'll create an image classifier with PyTorch and use MLflow to monitor the trained model."
   ]
  },
  {
   "cell_type": "markdown",
   "id": "2c80d1f68c97f42",
   "metadata": {
    "collapsed": false,
    "jupyter": {
     "outputs_hidden": false
    }
   },
   "source": [
    "### Part 1: Setting Up\n",
    "The second exercise involves creating a PyTorch-based image classifier using Fashion MNIST. We define a simple Convolutional Neural Network (CNN) architecture."
   ]
  },
  {
   "cell_type": "code",
   "execution_count": null,
   "id": "a30d4cde2deb1716",
   "metadata": {
    "collapsed": false,
    "jupyter": {
     "outputs_hidden": false
    }
   },
   "outputs": [],
   "source": [
    "import mlflow\n",
    "import mlflow.pytorch\n",
    "import torch\n",
    "import torch.nn as nn\n",
    "import torch.nn.functional as F \n",
    "import torch.optim as optim\n",
    "import torchvision\n",
    "import torchvision.transforms as transforms\n",
    "from torchvision.datasets import CIFAR10\n",
    "from tqdm import tqdm\n",
    "from sklearn.metrics import confusion_matrix\n",
    "import seaborn as sn\n",
    "import pandas as pd\n",
    "import matplotlib.pyplot as plt\n",
    "import numpy as np"
   ]
  },
  {
   "cell_type": "code",
   "execution_count": null,
   "id": "c181475a0efeff11",
   "metadata": {
    "collapsed": false,
    "jupyter": {
     "outputs_hidden": false
    }
   },
   "outputs": [],
   "source": [
    "# Load the Fashion MNIST Dataset and Apply Necessary Transformations\n",
    "import pytorch_lightning as pl\n",
    "from torch.utils.data import DataLoader\n",
    "from torchvision import transforms, datasets\n",
    "\n",
    "class FashionMNISTDataModule(pl.LightningDataModule):\n",
    "    def __init__(self, batch_size:int =4, data_path:str = './data/FASHIONMNIST'):\n",
    "        super().__init__()\n",
    "        self.data_path = data_path\n",
    "        self.batch_size = batch_size\n",
    "\n",
    "    def prepare_data(self):\n",
    "        datasets.FashionMNIST(self.data_path, download=True)\n",
    "\n",
    "    def setup(self, stage=None):\n",
    "        transform = transforms.Compose([\n",
    "            transforms.ToTensor(),\n",
    "            transforms.Normalize((0.5,), (0.5,))\n",
    "        ])\n",
    "\n",
    "        if stage == 'fit' or stage is None:\n",
    "            self.train_dataset = datasets.FashionMNIST(\n",
    "                './data/FASHIONMNIST',\n",
    "                train=True,\n",
    "                transform=transform\n",
    "            )\n",
    "\n",
    "        if stage == 'test' or stage is None:\n",
    "            self.test_dataset = datasets.FashionMNIST(\n",
    "                './data/FASHIONMNIST',\n",
    "                train=False,\n",
    "                transform=transform\n",
    "            )\n",
    "\n",
    "    def train_dataloader(self):\n",
    "        return DataLoader(self.train_dataset, batch_size=self.batch_size, shuffle=True, num_workers=2)\n",
    "\n",
    "    def test_dataloader(self):\n",
    "        return DataLoader(self.test_dataset, batch_size=self.batch_size, shuffle=False, num_workers=2)"
   ]
  },
  {
   "cell_type": "code",
   "execution_count": null,
   "id": "a587275a-1fff-4860-b81d-89d2ceb61cac",
   "metadata": {},
   "outputs": [],
   "source": [
    "batch_size = 64\n",
    "learning_rate = 0.001\n",
    "epochs = 2\n",
    "\n",
    "\n",
    "data_module = FashionMNISTDataModule(batch_size=batch_size)\n",
    "data_module.prepare_data()\n",
    "data_module.setup()"
   ]
  },
  {
   "cell_type": "markdown",
   "id": "e481963b40b74c90",
   "metadata": {
    "collapsed": false,
    "jupyter": {
     "outputs_hidden": false
    }
   },
   "source": [
    "### Part 2: Training the Model\n",
    "You will log parameters (e.g., learning rate, batch size, epochs) and the loss per epoch during the training process. Additionally, you'll log the trained model as an artifact."
   ]
  },
  {
   "cell_type": "code",
   "execution_count": null,
   "id": "23149cb0-0017-4025-a3b8-83771d56447c",
   "metadata": {},
   "outputs": [],
   "source": [
    "import pytorch_lightning as pl\n",
    "\n",
    "import torch.nn as nn\n",
    "import torch.nn.functional as F\n",
    "import pytorch_lightning as pl\n",
    "\n",
    "class FashionMNISTModel(pl.LightningModule):\n",
    "    def __init__(self, learning_rate=0.001):\n",
    "        super(FashionMNISTModel, self).__init__()\n",
    "        self.learning_rate = learning_rate\n",
    "        self.conv1 = nn.Conv2d(1, 6, 5)\n",
    "        self.pool = nn.MaxPool2d(2, 2)\n",
    "        self.conv2 = nn.Conv2d(6, 16, 5)\n",
    "        self.fc1 = nn.Linear(16 * 4 * 4, 120)\n",
    "        self.fc2 = nn.Linear(120, 84)\n",
    "        self.fc3 = nn.Linear(84, 10)\n",
    "\n",
    "    def forward(self, x):\n",
    "        x = self.pool(F.relu(self.conv1(x)))\n",
    "        x = self.pool(F.relu(self.conv2(x)))\n",
    "        x = x.view(x.size(0), -1)\n",
    "        x = F.relu(self.fc1(x))\n",
    "        x = F.relu(self.fc2(x))\n",
    "        x = self.fc3(x)\n",
    "        return x\n",
    "\n",
    "    def training_step(self, batch, batch_idx):\n",
    "        x, y = batch\n",
    "        y_hat = self(x)\n",
    "        loss = F.cross_entropy(y_hat, y)\n",
    "        self.log('train_loss', loss)\n",
    "        #! Log the loss per epoch\n",
    "        mlflow.log_metric(\"loss\", loss)\n",
    "\n",
    "        return loss\n",
    "\n",
    "    def configure_optimizers(self):\n",
    "        optimizer = torch.optim.SGD(self.parameters(), lr=self.learning_rate)\n",
    "        return optimizer\n",
    "\n",
    "\n",
    "model = FashionMNISTModel(learning_rate=learning_rate)\n",
    "\n",
    "model.prepare_data = data_module.prepare_data\n",
    "model.setup = data_module.setup"
   ]
  },
  {
   "cell_type": "code",
   "execution_count": null,
   "id": "508b334395c54530",
   "metadata": {
    "collapsed": false,
    "jupyter": {
     "outputs_hidden": false
    }
   },
   "outputs": [],
   "source": [
    "try:\n",
    "    mlflow.set_tracking_uri(\"http://mlflow:5001\")\n",
    "    #! Create an experiment with the name `MLflow Image Classifier Demo`. Save the experiment_id in the variable `exp_id`.\n",
    "    exp_id = mlflow.create_experiment(name=\"MLflow Image Classifier Demo\")\n",
    "except mlflow.exceptions.RestException:\n",
    "   exp_id =  mlflow.get_experiment_by_name(name=\"MLflow Image Classifier Demo\").experiment_id\n"
   ]
  },
  {
   "cell_type": "code",
   "execution_count": null,
   "id": "10ecc029981fdc49",
   "metadata": {
    "collapsed": false,
    "jupyter": {
     "outputs_hidden": false
    }
   },
   "outputs": [],
   "source": [
    "# Train the Model\n",
    "with mlflow.start_run(experiment_id=exp_id):\n",
    "    #! Log the variables `batch_size`, `learning_rate`, and `epochs` as parameters\n",
    "    mlflow.log_params({\n",
    "        \"batch_size\": batch_size,\n",
    "        \"learning_rate\": learning_rate,\n",
    "        \"epochs\": epochs\n",
    "    })\n",
    "\n",
    "    trainer = pl.Trainer(max_epochs=epochs)\n",
    "    trainer.fit(model, data_module)\n",
    "    \n",
    "    model_path = \"model.pth\"\n",
    "    torch.save(model.state_dict(), model_path)\n",
    "    \n",
    "    #! Log the saved model as an artifact \n",
    "    mlflow.log_artifact(model_path)\n",
    "    \n",
    "    mlflow.pytorch.log_model(model, \"model\")\n",
    "\n",
    "    create_confusion_matrix(\"confusion_matrix.png\",model,data_module.test_dataloader())\n",
    "    mlflow.log_artifact(\"confusion_matrix.png\",\"Confusion Matrix\")"
   ]
  },
  {
   "cell_type": "markdown",
   "id": "985a5e10b631af96",
   "metadata": {
    "collapsed": false,
    "jupyter": {
     "outputs_hidden": false
    }
   },
   "source": [
    "### Part 3: Additional Tasks\n",
    "These tasks extend the exercise by logging the trained model using mlflow.pytorch.log_model and incorporating a function to create and log a confusion matrix.\n",
    "1. Log the trained model using `mlflow.pytorch.log_model`.\n",
    "2. Insert the call to the following function `create_confusion_matrix` in the above code block. First, execute the cell with the function. The saved confusion matrix should be logged as an artifact.\n",
    "3. Copy the cell above. Delete all mlflow logging functions and add `mlflow.pytorch.autolog` before you start a mlflow run. Look at the results at the Mlflow Tracking Server"
   ]
  },
  {
   "cell_type": "code",
   "execution_count": null,
   "id": "1b282085-c5c4-4725-b205-ca457a9810ed",
   "metadata": {},
   "outputs": [],
   "source": [
    "def create_confusion_matrix(filename, model, testloader):\n",
    "    y_pred = []\n",
    "    y_true = []\n",
    "    \n",
    "    for inputs, labels in testloader:\n",
    "        output = model(inputs)\n",
    "\n",
    "        output = (torch.max(torch.exp(output), 1)[1]).data.cpu().numpy()\n",
    "        y_pred.extend(output)\n",
    "        \n",
    "        labels = labels.data.cpu().numpy()\n",
    "        y_true.extend(labels)\n",
    "\n",
    "    classes = ('T-shirt/top', 'Trouser', 'Pullover', 'Dress', 'Coat',\n",
    "        'Sandal', 'Shirt', 'Sneaker', 'Bag', 'Ankle Boot')\n",
    "\n",
    "    cf_matrix = confusion_matrix(y_true, y_pred)\n",
    "    df_cm = pd.DataFrame(cf_matrix / np.sum(cf_matrix, axis=1)[:, None], index = [i for i in classes],\n",
    "                         columns = [i for i in classes])\n",
    "    plt.figure(figsize = (12,7))\n",
    "    sn.heatmap(df_cm, annot=True)\n",
    "    plt.savefig(filename)"
   ]
  },
  {
   "cell_type": "code",
   "execution_count": null,
   "id": "7f722fd1-97ff-4c3e-b753-3e8d2bf21ab5",
   "metadata": {},
   "outputs": [],
   "source": [
    "# Train the Model\n",
    "mlflow.pytorch.autolog()\n",
    "with mlflow.start_run(experiment_id=exp_id):\n",
    "    trainer = pl.Trainer(max_epochs=epochs)\n",
    "    trainer.fit(model, data_module)"
   ]
  }
 ],
 "metadata": {
  "kernelspec": {
   "display_name": "Python 3 (ipykernel)",
   "language": "python",
   "name": "python3"
  },
  "language_info": {
   "codemirror_mode": {
    "name": "ipython",
    "version": 3
   },
   "file_extension": ".py",
   "mimetype": "text/x-python",
   "name": "python",
   "nbconvert_exporter": "python",
   "pygments_lexer": "ipython3",
   "version": "3.11.6"
  }
 },
 "nbformat": 4,
 "nbformat_minor": 5
}
