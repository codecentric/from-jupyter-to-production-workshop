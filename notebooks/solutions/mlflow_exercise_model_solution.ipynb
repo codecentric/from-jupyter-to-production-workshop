{
 "cells": [
  {
   "cell_type": "markdown",
   "id": "7262d11d0db6945c",
   "metadata": {
    "collapsed": false,
    "jupyter": {
     "outputs_hidden": false
    }
   },
   "source": [
    "# MLflow Model Management \n",
    "After learning about the basic handling of MLflow in the previous exercise on Experiemnt Tracking, we will now take a look at MLflow's model management in a second, smaller exercise. \n",
    "## Exercise Overview\n",
    "We will use the code and use case from the previous exercise. We will train a model again and add it to the registry via the web UI. We will the customize our code to automatically add a model to the registry when certain criteria are met. We add tags, metadata and an alias to a registered model and finally load a model from the registry\n",
    "## 0) - Execute code again\n",
    "Execute the following cells so that the code we want to use is available again. "
   ]
  },
  {
   "cell_type": "code",
   "execution_count": null,
   "id": "97399b0b77ba370e",
   "metadata": {},
   "outputs": [],
   "source": [
    "import time\n",
    "from typing import Tuple\n",
    "\n",
    "import matplotlib.pyplot as plt\n",
    "import mlflow\n",
    "import numpy as np\n",
    "import pandas as pd\n",
    "from sklearn.metrics import (\n",
    "    ConfusionMatrixDisplay,\n",
    "    classification_report,\n",
    "    confusion_matrix,\n",
    "    precision_score,\n",
    ")\n",
    "from sklearn.model_selection import train_test_split\n",
    "from xgboost import XGBClassifier\n",
    "from xgboost.callback import TrainingCallback"
   ]
  },
  {
   "cell_type": "code",
   "execution_count": null,
   "id": "dfc21655f61614ef",
   "metadata": {},
   "outputs": [],
   "source": [
    "mlflow_tracking_uri = \"http://mlflow:5001\"\n",
    "mlflow.set_tracking_uri(mlflow_tracking_uri)"
   ]
  },
  {
   "cell_type": "code",
   "execution_count": null,
   "id": "432fe0ad1171d93a",
   "metadata": {},
   "outputs": [],
   "source": [
    "try:\n",
    "    exp_id = mlflow.create_experiment(\n",
    "        name=\"Spotify genre classification | Model Management\"\n",
    "    )\n",
    "\n",
    "except mlflow.exceptions.RestException:\n",
    "    exp_id = mlflow.get_experiment_by_name(\n",
    "        name=\"Spotify genre classification | Model Management\"    \n",
    "    ).experiment_id"
   ]
  },
  {
   "cell_type": "code",
   "execution_count": null,
   "id": "1698ace177d50e17",
   "metadata": {},
   "outputs": [],
   "source": [
    "def split_data() -> Tuple[pd.DataFrame, pd.DataFrame, pd.Series, pd.Series, pd.Series]:\n",
    "    data = pd.read_csv(\"./data/genres_standardized.csv\", sep=\";\")\n",
    "    columns = list(data.columns)\n",
    "    columns.remove(\"genre\")\n",
    "    data[\"genre\"] = data[\"genre\"].astype(\"category\")\n",
    "    data[\"target\"] = data[\"genre\"].cat.codes\n",
    "    test_size = 0.2\n",
    "    mlflow.log_param(key=\"Test size\", value=test_size)\n",
    "    X_train, X_test, y_train, y_test = train_test_split(\n",
    "        data[columns], data[\"target\"], test_size=test_size\n",
    "    )\n",
    "    return X_train, X_test, y_train, y_test, data[\"genre\"]"
   ]
  },
  {
   "cell_type": "code",
   "execution_count": null,
   "id": "448fe0e898378b21",
   "metadata": {},
   "outputs": [],
   "source": [
    "class MlflowCallback(TrainingCallback):\n",
    "    def after_iteration(self, model, epoch, evals_log) -> bool:\n",
    "        for data, metric in evals_log.items():\n",
    "            for metric_name, log in metric.items():\n",
    "                metric_value = sum(log) / len(log)\n",
    "                mlflow.log_metric(\n",
    "                    key=metric_name, value=metric_value, step=epoch\n",
    "                )\n",
    "        return False"
   ]
  },
  {
   "cell_type": "code",
   "execution_count": null,
   "id": "a94ffbf040b736e5",
   "metadata": {},
   "outputs": [],
   "source": [
    "def train_classifier(\n",
    "    input_train: pd.DataFrame, target_train: pd.Series\n",
    ") -> XGBClassifier:\n",
    "    number_of_estimators: int = 100\n",
    "    learning_rate: float = 0.1\n",
    "    max_depth: int = 8\n",
    "    min_child_weight: float = 1.0\n",
    "    gamma: float = 0\n",
    "    number_of_jobs: int = 4\n",
    "\n",
    "    model = XGBClassifier(\n",
    "        learning_rate=learning_rate,\n",
    "        n_estimators=number_of_estimators,\n",
    "        max_depth=max_depth,\n",
    "        min_child_weight=min_child_weight,\n",
    "        gamma=gamma,\n",
    "        n_jobs=number_of_jobs,\n",
    "        callbacks=[MlflowCallback()],\n",
    "    )\n",
    "    model.fit(\n",
    "        input_train, target_train, eval_set=[(input_train, target_train)], verbose=False\n",
    "    )\n",
    "\n",
    "    return model"
   ]
  },
  {
   "cell_type": "code",
   "execution_count": null,
   "id": "e73efdbbc486422f",
   "metadata": {},
   "outputs": [],
   "source": [
    "def predict(classifier: XGBClassifier, input_test: pd.DataFrame) -> np.ndarray:\n",
    "    predictions = classifier.predict(input_test)\n",
    "    return predictions"
   ]
  },
  {
   "cell_type": "code",
   "execution_count": null,
   "id": "a347ab673ad63fec",
   "metadata": {},
   "outputs": [],
   "source": [
    "def analyze(\n",
    "    target_test: pd.Series,\n",
    "    predictions: np.ndarray,\n",
    "    target_names: pd.Series,\n",
    "):\n",
    "    category_labels = target_names.cat.categories\n",
    "    fig, ax = plt.subplots(figsize=(10, 10))\n",
    "    ConfusionMatrixDisplay.from_predictions(\n",
    "        target_test, predictions, ax=ax, display_labels=category_labels\n",
    "    )\n",
    "    ax.tick_params(axis=\"x\", labelrotation=70, labelbottom=True)\n",
    "    fig.savefig(\"./data/confusion_materix.png\", pad_inches=20)\n",
    "    report = classification_report(target_test, predictions, output_dict=True)\n",
    "    df_classification_report = pd.DataFrame(report).transpose()\n",
    "    df_classification_report.to_csv(\"./data/classification_report.csv\")\n",
    "    mlflow.log_artifact(\"./data/classification_report.csv\")\n",
    "    mlflow.log_artifact(\"./data/confusion_materix.png\")"
   ]
  },
  {
   "cell_type": "markdown",
   "id": "9b71a20ad6f501ce",
   "metadata": {},
   "source": [
    "## 1) - Start a new run and register model via Web UI\n",
    "After we have run the various functions for training our classifier again, we can now start a new run and create a classifier. \n",
    "\n",
    "Please execute the following cell to start a new run."
   ]
  },
  {
   "cell_type": "code",
   "execution_count": null,
   "id": "75ee719338fd726e",
   "metadata": {},
   "outputs": [],
   "source": [
    "with mlflow.start_run(experiment_id=exp_id):\n",
    "    data = pd.read_csv(\"./data/genres_standardized.csv\", sep=\";\")\n",
    "    dataset = mlflow.data.from_pandas(data, targets=\"genre\")\n",
    "    mlflow.log_input(dataset)\n",
    "    input_train, input_test, target_train, target_test, target_names = split_data()\n",
    "    classifier = train_classifier(input_train, target_train)\n",
    "    mlflow.xgboost.log_model(classifier, \"spotify_genre_classifier\")\n",
    "    predictions = predict(classifier=classifier, input_test=input_test)\n",
    "    analyze(target_test=target_test, predictions=predictions, target_names=target_names)"
   ]
  },
  {
   "cell_type": "markdown",
   "id": "7b8c8b7a3b521f70",
   "metadata": {},
   "source": [
    "Open the web UI of the [Mlflow Tracking Server](http://localhost:5001) and view the runs.\n",
    "\n",
    "Open the experiment with the name \"Spotify genre classification | Model Management” and look at the last successful run. It should look something like the following example. \n",
    "\n",
    "![](./data/mlflow/Assets/run_overview.png)\n",
    "\n",
    "As you can see, there is a logged model with the name `xgboost`.\n",
    "\n",
    "**Click on the logged model.**\n",
    "\n",
    "The following image shows how MLflow logs a model. The structure of an MLflow model is always similar. However, the model is saved differently depending on the model flavour. An MLflow model is therefore not the same as ONNX.\n",
    "\n",
    "![](./data/mlflow/Assets/artifact_view.png) \n",
    "\n",
    "**Please click on “Register model”, create a new model with the name “Spotify Classifier” and register the model.**\n",
    "\n",
    "**Then click on “Model” in the navigation bar and select the model you have just registered.**\n",
    "\n",
    "You will see that “Version 1” has been created there.\n",
    "\n",
    "![](./data/mlflow/Assets/model.png)"
   ]
  },
  {
   "cell_type": "markdown",
   "id": "b81ec3ec-c28f-460e-a48b-3f020db6f680",
   "metadata": {},
   "source": [
    "## 2) - Register a model using the Python API\n",
    "Now we want to enter a trained model in the registry. We want to create a new version of the “Spotify Classifier”. \n",
    "To do this, we create a signature (`infer_signature`) in the following example that describes which input data the model expects for a prediction and in which format the output of the model is created. \n",
    "\n",
    "Please add the necessary attribute in the following code example to enter the model in the registry under the name “Spotify Classifier”.\n"
   ]
  },
  {
   "cell_type": "code",
   "execution_count": null,
   "id": "81b21f86-8810-434f-a30f-f30bf1779a9f",
   "metadata": {},
   "outputs": [],
   "source": [
    "with mlflow.start_run(experiment_id=exp_id):\n",
    "    data = pd.read_csv(\"./data/genres_standardized.csv\", sep=\";\")\n",
    "    dataset = mlflow.data.from_pandas(data, targets=\"genre\")\n",
    "    mlflow.log_input(dataset)\n",
    "    input_train, input_test, target_train, target_test, target_names = split_data()\n",
    "    classifier = train_classifier(input_train, target_train)\n",
    "\n",
    "    predictions = predict(classifier=classifier, input_test=input_test)\n",
    "    signature = infer_signature(input_test, predictions)\n",
    "    mlflow.xgboost.log_model(\n",
    "        xgb_model=classifier,\n",
    "        artifact_path=\"spotify_genre_classifier\",\n",
    "        signature=signature,\n",
    "        registered_model_name=\"Spotify Classifier\",\n",
    "    )\n",
    "    analyze(target_test=target_test, predictions=predictions, target_names=target_names)"
   ]
  },
  {
   "cell_type": "markdown",
   "id": "9b5cb2c2-61b5-4e0f-afd9-3c219081d080",
   "metadata": {},
   "source": [
    "## 3) - Use of a registered model using an alias.\n",
    "Imagine that we have created a model that is so good that it can be used in production. The code we use in production should always use our current best released model. This can be solved via an alias. An alias is unique and can only be assigned to one model version.\n",
    "\n",
    "![](./data/mlflow/Assets/alias.png)\n",
    "**Please create an alias with the name `production` for the last registered model.**\n",
    "\n",
    "Once we have created the alias, we can use the alias to load the model reference from our registry. The model reference (`model_version`) has a source attribute that can be used to download the corresponding model.\n",
    "\n",
    "Load the model version via the alias. Then use the source attribute to download the model."
   ]
  },
  {
   "cell_type": "code",
   "execution_count": null,
   "id": "b1d95451-d21b-482a-8994-5adb4e342401",
   "metadata": {},
   "outputs": [],
   "source": [
    "from mlflow import MlflowClient\n",
    "\n",
    "client = MlflowClient()\n",
    "model_version = client.get_model_version_by_alias(\"Spotify Classifier\", \"production\")\n",
    "production_model = mlflow.xgboost.load_model(model_version.source)"
   ]
  },
  {
   "cell_type": "markdown",
   "id": "50f481f4-ceb8-464a-b483-047e5fcebe20",
   "metadata": {},
   "source": [
    "Finally, the model can be used to create predictions."
   ]
  },
  {
   "cell_type": "code",
   "execution_count": null,
   "id": "5030b36c-ef61-4832-bb87-96d36c7d0257",
   "metadata": {},
   "outputs": [],
   "source": [
    "predictions = production_model.predict(input_test)"
   ]
  }
 ],
 "metadata": {
  "kernelspec": {
   "display_name": "Python 3 (ipykernel)",
   "language": "python",
   "name": "python3"
  },
  "language_info": {
   "codemirror_mode": {
    "name": "ipython",
    "version": 3
   },
   "file_extension": ".py",
   "mimetype": "text/x-python",
   "name": "python",
   "nbconvert_exporter": "python",
   "pygments_lexer": "ipython3",
   "version": "3.11.9"
  }
 },
 "nbformat": 4,
 "nbformat_minor": 5
}
