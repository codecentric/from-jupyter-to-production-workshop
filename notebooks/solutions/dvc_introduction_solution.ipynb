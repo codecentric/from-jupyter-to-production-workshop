{
 "cells": [
  {
   "cell_type": "markdown",
   "metadata": {},
   "source": [
    "# Lightweight Development Pipelines with DVC\n",
    "\n",
    "In this notebook we will highlight important elements of DVC. You can find extensive information on\n",
    " their [website](https://dvc.org).\n",
    "\n",
    "As a showcase we will implement a simple regression pipeline to predict the quality of red wine.\n",
    "\n",
    "## 0 - Project Setup\n",
    "\n",
    "We will do the exercise using a dedicated `dvc` folder in the `workspace` directory.\n",
    "Therefore, we will copy all necessary files to the workspace and change our current working \n",
    "directory to the new directory."
   ]
  },
  {
   "cell_type": "code",
   "execution_count": null,
   "metadata": {},
   "outputs": [],
   "source": [
    "%%bash\n",
    "rm -rf /workshop/workspace/dvc\n",
    "mkdir -p /workshop/workspace/dvc\n",
    "cp /workshop/notebooks/dvc/{deployment_location,params.yaml} /workshop/workspace/dvc\n",
    "cp -r /workshop/notebooks/dvc/data /workshop/workspace/dvc\n",
    "cp -r /workshop/notebooks/dvc/pipeline_scripts /workshop/workspace/dvc"
   ]
  },
  {
   "cell_type": "code",
   "execution_count": null,
   "metadata": {},
   "outputs": [],
   "source": [
    "import os\n",
    "os.chdir(\"/workshop/workspace/dvc\")"
   ]
  },
  {
   "cell_type": "markdown",
   "metadata": {},
   "source": [
    "## 1 - Initialize Git & DVC\n",
    "\n",
    "### 1.1 - Initialize Git\n",
    "\n",
    "First initialize Git, as DVC works on top of it."
   ]
  },
  {
   "cell_type": "code",
   "execution_count": null,
   "metadata": {},
   "outputs": [],
   "source": [
    "!git init"
   ]
  },
  {
   "cell_type": "markdown",
   "metadata": {},
   "source": [
    "**Optional:** Set your git configuration."
   ]
  },
  {
   "cell_type": "code",
   "execution_count": null,
   "metadata": {},
   "outputs": [],
   "source": [
    "!git config --global user.email \"you@example.com\"\n",
    "!git config --global user.name \"Your Name\""
   ]
  },
  {
   "cell_type": "markdown",
   "metadata": {},
   "source": [
    "Add all copied files, except for the `data` folder, to your git repository, so we can \n",
    "see the dvc changes of the next steps. We don't want to add the `data` folder to git, because we \n",
    "want to track the data files inside via dvc. Files can not be tracked simultaniously by dvc and \n",
    "git."
   ]
  },
  {
   "cell_type": "code",
   "execution_count": null,
   "metadata": {},
   "outputs": [],
   "source": [
    "!git status"
   ]
  },
  {
   "cell_type": "code",
   "execution_count": null,
   "metadata": {},
   "outputs": [],
   "source": [
    "!git add --all -- ':!data/'\n",
    "!git commit -m 'initial commit'\n",
    "!echo \"----\"\n",
    "!git status"
   ]
  },
  {
   "cell_type": "markdown",
   "metadata": {},
   "source": [
    "### 1.2 - Initialize DVC\n",
    "\n",
    "Similar to initializing a git repository, we have to initialize a dvc repository first.\n",
    "The `-f` flag makes sure you have a fresh dvc repo. It overwrites any existing dvc repo in the\n",
    "given directory.\n",
    "\n",
    "**Optional:** If you want to know what dvc is doing, you can add the `-v` flag to the init command.\n",
    "This will run the command in `verbose` mode and shows what steps lay beneath it."
   ]
  },
  {
   "cell_type": "code",
   "execution_count": null,
   "metadata": {},
   "outputs": [],
   "source": [
    "!dvc init -f\n",
    "!echo \"----\"\n",
    "!dvc status -c"
   ]
  },
  {
   "cell_type": "code",
   "execution_count": null,
   "metadata": {},
   "outputs": [],
   "source": [
    "!git status"
   ]
  },
  {
   "cell_type": "markdown",
   "metadata": {},
   "source": [
    "dvc itself does not track any data or pipeline yet. But git recognized three new files, created and\n",
    "staged by dvc. Similar to git, dvc stores some meta information inside the `.dvc` folder. \n",
    "\n",
    "*Git-tracked dvc Files*\n",
    "\n",
    "- The `.dvc/.gitignore` file makes sure no unwanted files are added to the git repo.\n",
    "- The `.dvc/config` file can store configs of the dvc project (global or local). E.g. if you add a remote location, it will be noted in this file.\n",
    "- The `.dvcignore` file works similar to `.gitignore` files but for dvc file tracking."
   ]
  },
  {
   "cell_type": "code",
   "execution_count": null,
   "metadata": {},
   "outputs": [],
   "source": [
    "!git commit -m 'initialized dvc'"
   ]
  },
  {
   "cell_type": "markdown",
   "metadata": {},
   "source": [
    "## 2 - Add data to DVC remote data storage\n",
    "\n",
    "\n",
    "### 2.1 - Configure a remote storage\n",
    "\n",
    "We want to add a remote data storage, which we could use to share and back up copies of our data. \n",
    "This can be done via the `dvc add remote` command.\n",
    "We could add a new remote storage (could be S3, GCS, SSH, ...) or use a local storage.\n",
    "For now, a local storage is sufficient.\n",
    "\n",
    "- `-d` makes sure this will be our default remote storage\n",
    "- `-f` overwrites the existing remote storage\n",
    "- `local_storage` is the name of our new remote storage\n",
    "- `/tmp/dvc/` is the path to our new remote storage"
   ]
  },
  {
   "cell_type": "code",
   "execution_count": null,
   "metadata": {},
   "outputs": [],
   "source": [
    "!dvc remote add -d -f local_storage /tmp/dvc"
   ]
  },
  {
   "cell_type": "markdown",
   "metadata": {
    "collapsed": false
   },
   "source": [
    "Great! We now have set up our DVC project and remote storage. Let's track some files.\n",
    "\n",
    "### 2.2 - Add data to DVC manually\n",
    "\n",
    "Files can be added to our versioning system manually or implicitly in a pipeline.\n",
    "We will implement a pipeline later. For now, add the first files manually."
   ]
  },
  {
   "cell_type": "code",
   "execution_count": null,
   "metadata": {
    "collapsed": false
   },
   "outputs": [],
   "source": [
    "!dvc add data/image.jpg\n",
    "!dvc add data/text.txt"
   ]
  },
  {
   "cell_type": "markdown",
   "metadata": {
    "collapsed": false
   },
   "source": [
    "Let's check what has changed by adding all changed files to git, including the `data` folder."
   ]
  },
  {
   "cell_type": "code",
   "execution_count": null,
   "metadata": {},
   "outputs": [],
   "source": [
    "!git add .\n",
    "!git status"
   ]
  },
  {
   "cell_type": "code",
   "execution_count": null,
   "metadata": {},
   "outputs": [],
   "source": [
    "!cat data/image.jpg.dvc"
   ]
  },
  {
   "cell_type": "markdown",
   "metadata": {
    "collapsed": false
   },
   "source": [
    "With the `dvc add` command, DVC created hashes of your data files and adds them to its cache. The \n",
    "hash, as well as the size and path of the original file are stored in `.dvc` files. These are \n",
    "pointers to your data and its state. As they are lightweight, they can easily be tracked using git.\n",
    "The `.dvc` files keep all the information needed if you want to access the dvc-tracked state of the\n",
    " underlying files, e.g. if you want to access them on a different device.\n",
    "\n",
    "The original files are added to a `.gitignore` file automatically, as they should not be tracked by\n",
    " git.\n",
    "\n",
    "To save the current state of the files, commit the `.dvc` files to Git."
   ]
  },
  {
   "cell_type": "code",
   "execution_count": null,
   "metadata": {},
   "outputs": [],
   "source": [
    "!git commit -m \"added sample data to dvc\""
   ]
  },
  {
   "cell_type": "markdown",
   "metadata": {
    "collapsed": false
   },
   "source": [
    "### 2.3 - Push the recent changes to the dvc remote storage.\n",
    "\n",
    "Let's check the current status of our DVC tracked files compared to the status of the defined \n",
    "remote.\n"
   ]
  },
  {
   "cell_type": "code",
   "execution_count": null,
   "metadata": {},
   "outputs": [],
   "source": [
    "!dvc status -c"
   ]
  },
  {
   "cell_type": "markdown",
   "metadata": {},
   "source": [
    "You can see, that the two new files are not stored on the remote storage, yet.\n",
    "\n",
    "Performing `dvc push` will upload the tracked file including version information to your remote \n",
    "storage.\n",
    "\n",
    "**Optional: Under the hood**\n",
    "\n",
    "In contrast to Git, DVC does not have a stage ares or an option to explicitly commit changes. \n",
    "Instead, the local changes are registered by DVC via the `dvc add` command. The `.dvc` output files\n",
    " will then be directly compared to the remote state. So, if you want to update a file on your \n",
    " remote, you change the file, add it to dvc, and push the change to the remote storage."
   ]
  },
  {
   "cell_type": "code",
   "execution_count": null,
   "metadata": {},
   "outputs": [],
   "source": [
    "!dvc push"
   ]
  },
  {
   "cell_type": "code",
   "execution_count": null,
   "metadata": {},
   "outputs": [],
   "source": [
    "!dvc status -c"
   ]
  },
  {
   "cell_type": "markdown",
   "metadata": {
    "collapsed": false
   },
   "source": [
    "Now, local and remote storage should be in sync. Good work!"
   ]
  },
  {
   "cell_type": "markdown",
   "metadata": {
    "collapsed": false
   },
   "source": [
    "### 2.4 - Optional: Simulate a data update.\n",
    "\n",
    "- Make changes in the `workspace/dvc/data/text.txt` file.\n",
    "- Add the changes to dvc.\n",
    "- Push the changes to the dvc remote storage.\n",
    "- Add and commit the changes via Git.\n",
    "\n",
    "If you need help, have a look what you have done so far."
   ]
  },
  {
   "cell_type": "markdown",
   "metadata": {},
   "source": [
    "## 3 - Building a DVC Pipeline\n",
    "\n",
    "For the next excercise, you will build a simple dvc pipeline.\n",
    "\n",
    "The first stept of the pipeline will be the `dowload` step:\n",
    "- The pipeline should execute the function `download_data` in the `./pipeline_scripts/download_data.py` file.\n",
    "- This is the download url for the data: `http://archive.ics.uci.edu/ml/machine-learning-databases/wine-quality/winequality-red.csv`.\n",
    "- The output should be stored here: `data/winequality-red.csv`.\n",
    "\n",
    "The following `dvc stage` command will create a configuration for the data pipeline containing the\n",
    " `download` stage.\n",
    "\n",
    "- `-n` is the name of the pipeline step\n",
    "- `-d` defines a dependency of the step\n",
    "- `-o` defines the path to the output file\n",
    "- the last argument must be the command, which the pipeline should execute, e.g. a python command\n",
    "\n",
    "Defining dependencies and outputs is essential for DVC to track if the input has changed. If so, \n",
    "DVC will rerun the step, when asked to. If nothing changed, it will skip the step and contiune \n",
    "with the next. This can make a huge difference in overall execution time."
   ]
  },
  {
   "cell_type": "code",
   "execution_count": null,
   "metadata": {},
   "outputs": [],
   "source": [
    "%%sh\n",
    "dvc stage add -n download \\\n",
    " -d ./pipeline_scripts/download_data.py \\\n",
    " -d http://archive.ics.uci.edu/ml/machine-learning-databases/wine-quality/winequality-red.csv \\\n",
    " -o ./data/winequality-red.csv \\\n",
    "python ./pipeline_scripts/download_data.py http://archive.ics.uci.edu/ml/machine-learning-databases/wine-quality/winequality-red.csv ./data/winequality-red.csv"
   ]
  },
  {
   "cell_type": "markdown",
   "metadata": {},
   "source": [
    "Running `dvc stage add ...` will create a `dvc.yaml` file, which stores the definition of your pipeline. This way you can allways track your pipeline changes."
   ]
  },
  {
   "cell_type": "markdown",
   "metadata": {
    "collapsed": false
   },
   "source": [
    "### 3.1. - Define the stages\n",
    "\n",
    "#### Define the split stage\n",
    "\n",
    "Create the command to add the next stage on your own.\n",
    "\n",
    "- name: `split`\n",
    "- function: `split_data`\n",
    "- script file: `pipeline_scripts/split_data.py`\n",
    "- input data: `data/winequality-red.csv`\n",
    "- output data: `data/x_train.csv`, `data/y_train.csv`, `data/x_test.csv` and `data/y_test.csv`"
   ]
  },
  {
   "cell_type": "code",
   "execution_count": null,
   "metadata": {},
   "outputs": [],
   "source": [
    "%%sh \n",
    "dvc stage add -n split \\\n",
    "-d pipeline_scripts/split_data.py \\\n",
    "-d data/winequality-red.csv \\\n",
    "-o data/x_train.csv -o data/y_train.csv -o data/x_test.csv -o data/y_test.csv \\\n",
    "python pipeline_scripts/split_data.py data/winequality-red.csv"
   ]
  },
  {
   "cell_type": "markdown",
   "metadata": {
    "collapsed": false
   },
   "source": [
    "#### Define the train stage\n",
    "\n",
    "Create a third step for training.\n",
    "\n",
    "- This step should be named `train` and uses the `train_model` function in the `./pipeline_scripts/train_model` file. \n",
    "- It will track the two parameters.\n",
    "\n",
    "Hint: The parameters are input parameters for the training. DVC will search for its values in the\n",
    " `params.yaml` in the root folder by default.\n",
    "So, if you want to change them or add a parameter, you need to change the file. You don't need to \n",
    "include the file path in the configuration.\n",
    "\n",
    "- name: `train`\n",
    "- skript file: `train_model.py`\n",
    "- input data: `data/x_train.csv` and `data/y_train.csv`\n",
    "- output: `data/model`\n",
    "- parameters (-p): `alpha` and `l1_ratio`"
   ]
  },
  {
   "cell_type": "code",
   "execution_count": null,
   "metadata": {},
   "outputs": [],
   "source": [
    "%%sh \n",
    "dvc stage add -n train \\\n",
    "-d ./pipeline_scripts/train_model.py \\\n",
    "-d data/x_train.csv -d data/y_train.csv \\\n",
    "-o data/model \\\n",
    "-p alpha,l1_ratio \\\n",
    "python ./pipeline_scripts/train_model.py data/x_train.csv data/y_train.csv"
   ]
  },
  {
   "cell_type": "markdown",
   "metadata": {
    "collapsed": false
   },
   "source": [
    "#### Define the evaluation stage\n",
    "\n",
    "Create a fourth step for evaluation.\n",
    "\n",
    "- name: `evaluate`\n",
    "- function: `evaluate_model`\n",
    "- skript file: `./pipeline_scripts/evaluate_model.py`\n",
    "- input data: `data/model`, `data/x_test.csv` and `data/y_test.csv`\n",
    "- metric (-m): `data/result.json`"
   ]
  },
  {
   "cell_type": "code",
   "execution_count": null,
   "metadata": {},
   "outputs": [],
   "source": [
    "%%sh\n",
    "dvc stage add -n evaluate \\\n",
    "-d ./pipeline_scripts/evaluate_model.py \\\n",
    "-d data/model -d data/x_test.csv -d data/y_test.csv \\\n",
    "-m data/result.json \\\n",
    "python ./pipeline_scripts/evaluate_model.py data/model data/x_test.csv data/y_test.csv"
   ]
  },
  {
   "cell_type": "markdown",
   "metadata": {
    "collapsed": false
   },
   "source": [
    "### 3.2 - Start the Pipeline\n",
    "\n",
    "Let's start the pipeline!\n",
    "\n",
    "Hint: If something went wrong, you can redefine your stages using the `-f` flag."
   ]
  },
  {
   "cell_type": "code",
   "execution_count": null,
   "metadata": {},
   "outputs": [],
   "source": [
    "!dvc repro"
   ]
  },
  {
   "cell_type": "code",
   "execution_count": null,
   "metadata": {},
   "outputs": [],
   "source": [
    "!dvc metrics show"
   ]
  },
  {
   "cell_type": "markdown",
   "metadata": {
    "collapsed": false
   },
   "source": [
    "Great, you successfully ran your first DVC Pipeline! Congrats!\n",
    "\n",
    "### 3.3 - Track your pipeline and data in Git and DVC\n",
    "\n",
    "In addition to the `dvc.yaml` file, a new file called `dvc.lock` was created when the pipeline was\n",
    " executed.\n",
    "It stores information about the latest run of the pipeline, including data and script file hashes\n",
    " for versioning.\n",
    "\n",
    "Commit both files to your git, so you don't lose your pipeline state."
   ]
  },
  {
   "cell_type": "code",
   "execution_count": null,
   "metadata": {},
   "outputs": [],
   "source": [
    "!git add .\n",
    "!git commit -m \"Add pipeline\""
   ]
  },
  {
   "cell_type": "code",
   "execution_count": null,
   "metadata": {},
   "outputs": [],
   "source": [
    "!dvc status -c"
   ]
  },
  {
   "cell_type": "code",
   "execution_count": null,
   "metadata": {},
   "outputs": [],
   "source": [
    "!dvc push"
   ]
  },
  {
   "cell_type": "markdown",
   "metadata": {
    "collapsed": false
   },
   "source": [
    "**Optional:** Try re-executing the pipeline. You will see, that DVC checks if the pipeline steps or\n",
    " the underlying data changed.\n",
    "If you haven't changed anything, the pipeline step will not be executed again. "
   ]
  },
  {
   "cell_type": "markdown",
   "metadata": {},
   "source": [
    "## 4 - Optional: Inspecting and Modifying a Pipeline\n",
    "\n",
    "In this optional part of the exercise, you can have a look at what DVC also has to offer and how it behaves, if a pipeline is changed."
   ]
  },
  {
   "cell_type": "code",
   "execution_count": null,
   "metadata": {},
   "outputs": [],
   "source": [
    "!dvc dag"
   ]
  },
  {
   "cell_type": "markdown",
   "metadata": {},
   "source": [
    "Let's modify a file and reproduce our pipeline and see how DVC only executes the steps, from where\n",
    " the changes happened."
   ]
  },
  {
   "cell_type": "code",
   "execution_count": null,
   "metadata": {},
   "outputs": [],
   "source": [
    "!dvc status"
   ]
  },
  {
   "cell_type": "code",
   "execution_count": null,
   "metadata": {},
   "outputs": [],
   "source": [
    "!dvc repro"
   ]
  },
  {
   "cell_type": "markdown",
   "metadata": {},
   "source": [
    "### Additional: Compare Experiments"
   ]
  },
  {
   "cell_type": "markdown",
   "metadata": {},
   "source": [
    "Change alpha parameter and see how dvc tracks the change."
   ]
  },
  {
   "cell_type": "code",
   "execution_count": null,
   "metadata": {},
   "outputs": [],
   "source": [
    "!sed -i -e \"s/alpha:\\s0.5/alpha: 0.6/g\" params.yaml"
   ]
  },
  {
   "cell_type": "code",
   "execution_count": null,
   "metadata": {},
   "outputs": [],
   "source": [
    "!dvc params diff"
   ]
  },
  {
   "cell_type": "code",
   "execution_count": null,
   "metadata": {},
   "outputs": [],
   "source": [
    "!dvc repro"
   ]
  },
  {
   "cell_type": "markdown",
   "metadata": {},
   "source": [
    "Have a look at the main trainings metrics and compare the current state (`workspace`) to the state\n",
    " of `HEAD`."
   ]
  },
  {
   "cell_type": "code",
   "execution_count": null,
   "metadata": {},
   "outputs": [],
   "source": [
    "!dvc metrics show"
   ]
  },
  {
   "cell_type": "code",
   "execution_count": null,
   "metadata": {},
   "outputs": [],
   "source": [
    "!dvc metrics diff"
   ]
  },
  {
   "cell_type": "markdown",
   "metadata": {},
   "source": [
    "It is also possible to compare results from different branches."
   ]
  },
  {
   "cell_type": "code",
   "execution_count": null,
   "metadata": {},
   "outputs": [],
   "source": [
    "%%bash\n",
    "git checkout -b experiment_1\n",
    "git add .\n",
    "git commit -m \"changed parameter alpha\"\n",
    "\n",
    "dvc metrics diff master experiment_1"
   ]
  },
  {
   "cell_type": "markdown",
   "metadata": {},
   "source": [
    "## 5 - Optional: Download data from another DVC repository\n",
    "\n",
    "Get a file from another (external) git+DVC repository."
   ]
  },
  {
   "cell_type": "code",
   "execution_count": null,
   "metadata": {},
   "outputs": [],
   "source": [
    "!dvc get https://github.com/iterative/example-get-started model.pkl"
   ]
  },
  {
   "cell_type": "code",
   "execution_count": null,
   "metadata": {},
   "outputs": [],
   "source": [
    "!rm model.pkl"
   ]
  },
  {
   "cell_type": "markdown",
   "metadata": {},
   "source": [
    "Get a file *including* its .dvc file from another (external) git+DVC repository."
   ]
  },
  {
   "cell_type": "code",
   "execution_count": null,
   "metadata": {},
   "outputs": [],
   "source": [
    "!dvc import https://github.com/iterative/example-get-started model.pkl"
   ]
  },
  {
   "cell_type": "code",
   "execution_count": null,
   "metadata": {},
   "outputs": [],
   "source": [
    "!cat model.pkl.dvc"
   ]
  },
  {
   "cell_type": "markdown",
   "metadata": {},
   "source": [
    "## 6 - Clean-up"
   ]
  },
  {
   "cell_type": "code",
   "execution_count": null,
   "metadata": {},
   "outputs": [],
   "source": [
    "import os\n",
    "os.chdir(\"/workshop/notebooks/dvc\")"
   ]
  },
  {
   "cell_type": "code",
   "execution_count": null,
   "metadata": {},
   "outputs": [],
   "source": [
    "%%sh\n",
    "rm -rf /workshop/workspace/dvc\n",
    "rm -rf /tmp/dvc"
   ]
  },
  {
   "cell_type": "code",
   "execution_count": null,
   "metadata": {},
   "outputs": [],
   "source": []
  }
 ],
 "metadata": {
  "kernelspec": {
   "display_name": "Python 3 (ipykernel)",
   "language": "python",
   "name": "python3"
  },
  "language_info": {
   "codemirror_mode": {
    "name": "ipython",
    "version": 3
   },
   "file_extension": ".py",
   "mimetype": "text/x-python",
   "name": "python",
   "nbconvert_exporter": "python",
   "pygments_lexer": "ipython3",
   "version": "3.11.9"
  }
 },
 "nbformat": 4,
 "nbformat_minor": 4
}
