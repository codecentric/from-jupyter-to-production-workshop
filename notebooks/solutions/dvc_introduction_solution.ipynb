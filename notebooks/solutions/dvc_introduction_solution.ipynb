{
 "cells": [
  {
   "cell_type": "markdown",
   "metadata": {},
   "source": [
    "# Lightweight Development Pipelines with DVC\n",
    "\n",
    "In this notebook we will highlight important elements of DVC. You can find extensive information on their [website](https://dvc.org).\n",
    "\n",
    "As a showcase we will implement a simple regression pipeline.\n",
    "\n",
    "## Project Setup\n",
    "\n",
    "### Some Preparations\n",
    "Create a new directory 'workspace/dvc_intro', copy some files and change the cwd."
   ]
  },
  {
   "cell_type": "code",
   "execution_count": null,
   "metadata": {},
   "outputs": [],
   "source": [
    "%%bash\n",
    "rm -rf /workshop/workspace/dvc_intro\n",
    "mkdir -p /workshop/workspace/dvc_intro\n",
    "cp /workshop/notebooks/dvc/{dvc_exercise.py,deployment_location,dvc_introduction.py,params.yaml} /workshop/workspace/dvc_intro\n",
    "cp -r /workshop/notebooks/dvc/data /workshop/workspace/dvc_intro"
   ]
  },
  {
   "cell_type": "code",
   "execution_count": null,
   "metadata": {},
   "outputs": [],
   "source": [
    "import os\n",
    "os.chdir(\"/workshop/workspace/dvc_intro\")"
   ]
  },
  {
   "cell_type": "markdown",
   "metadata": {},
   "source": [
    "### Initialize Git\n",
    "\n",
    "First initialize Git, as DVC works on top of it."
   ]
  },
  {
   "cell_type": "code",
   "execution_count": null,
   "metadata": {},
   "outputs": [],
   "source": [
    "!git init"
   ]
  },
  {
   "cell_type": "markdown",
   "metadata": {},
   "source": [
    "Optional: Set your git configuration."
   ]
  },
  {
   "cell_type": "code",
   "execution_count": null,
   "metadata": {},
   "outputs": [],
   "source": [
    "!git config --global user.email \"you@example.com\"\n",
    "!git config --global user.name \"Your Name\""
   ]
  },
  {
   "cell_type": "markdown",
   "metadata": {},
   "source": [
    "### Initialize DVC"
   ]
  },
  {
   "cell_type": "code",
   "execution_count": null,
   "metadata": {},
   "outputs": [],
   "source": [
    "!dvc init -f"
   ]
  },
  {
   "cell_type": "markdown",
   "metadata": {},
   "source": [
    "We need to add a data storage via the `dvc add remote` command.\n",
    "We could add a new remote storage (could be S3, GCS, SSH, ...) or use a local storage.\n",
    "For now, a local storage is sufficient."
   ]
  },
  {
   "cell_type": "code",
   "execution_count": 1,
   "metadata": {
    "ExecuteTime": {
     "end_time": "2023-11-03T14:16:38.214341Z",
     "start_time": "2023-11-03T14:16:38.063054Z"
    }
   },
   "outputs": [
    {
     "name": "stdout",
     "output_type": "stream",
     "text": [
      "zsh:1: command not found: dvc\r\n"
     ]
    }
   ],
   "source": [
    "!dvc remote add -d -f local_storage /tmp/dvc_introduction"
   ]
  },
  {
   "cell_type": "markdown",
   "source": [
    "Files can be added to our versioning system manually or implicitly in a pipeline.\n",
    "For now, let's add them manually.\n",
    "This command tells DVC to start tracking the added file."
   ],
   "metadata": {
    "collapsed": false
   }
  },
  {
   "cell_type": "code",
   "execution_count": null,
   "outputs": [],
   "source": [
    "!dvc add data/image.jpg\n",
    "!dvc add data/text.txt"
   ],
   "metadata": {
    "collapsed": false
   }
  },
  {
   "cell_type": "markdown",
   "source": [
    "Let's check what has changed."
   ],
   "metadata": {
    "collapsed": false
   }
  },
  {
   "cell_type": "code",
   "execution_count": null,
   "metadata": {},
   "outputs": [],
   "source": [
    "!git status"
   ]
  },
  {
   "cell_type": "markdown",
   "source": [
    "Two new files called `image.jpg.dvc` and `text.txt.dvc` were created. To track the changes of the added files, we will commit their dvc files to Git."
   ],
   "metadata": {
    "collapsed": false
   }
  },
  {
   "cell_type": "code",
   "execution_count": null,
   "metadata": {},
   "outputs": [],
   "source": [
    "!git add ."
   ]
  },
  {
   "cell_type": "code",
   "execution_count": null,
   "metadata": {},
   "outputs": [],
   "source": [
    "!git commit -m \"initial commit\""
   ]
  },
  {
   "cell_type": "markdown",
   "metadata": {},
   "source": [
    "Let's check our current status compared to the status of the defined remote.\n",
    "Attention: DVC does not have a sophisticated git-like `stage area`, but a cache-directory, that is being synced with the remote."
   ]
  },
  {
   "cell_type": "code",
   "execution_count": null,
   "metadata": {},
   "outputs": [],
   "source": [
    "!dvc status -c"
   ]
  },
  {
   "cell_type": "markdown",
   "source": [
    "### Push the recent changes to the dvc remote storage."
   ],
   "metadata": {
    "collapsed": false
   }
  },
  {
   "cell_type": "code",
   "execution_count": null,
   "metadata": {},
   "outputs": [],
   "source": [
    "!dvc push"
   ]
  },
  {
   "cell_type": "markdown",
   "source": [
    "### Optional: Simulate a data update.\n",
    "\n",
    "Make changes in the `data/text.txt` file.\n",
    "Add the changes to dvc.\n",
    "Add and commit the changes via Git.\n",
    "\n",
    "If you need help, have a look what you have done so far.\n",
    "\n",
    "When you're ready, you can easily have a look at the history of your data files and switch between different versions."
   ],
   "metadata": {
    "collapsed": false
   }
  },
  {
   "cell_type": "code",
   "execution_count": null,
   "outputs": [],
   "source": [
    "!dvc log text.txt"
   ],
   "metadata": {
    "collapsed": false
   }
  },
  {
   "cell_type": "markdown",
   "metadata": {},
   "source": [
    "## Building a DVC Pipeline\n",
    "\n",
    "For the next excercise, you will build a simple dvc pipeline.\n",
    "\n",
    "The first stept of the pipeline will be the `dowload` step.\n",
    "The pipeline should execute the function `download_data` in the `dvc_introduction.py` file.\n",
    "The data to be used is stored here: `http://archive.ics.uci.edu/ml/machine-learning-databases/wine-quality/winequality-red.csv`.\n",
    "The output should be stored here: `data/winequality-red.csv`.\n",
    "\n",
    "The following command will create a configuration for the data pipeline containing the download stage. "
   ]
  },
  {
   "cell_type": "code",
   "execution_count": null,
   "metadata": {},
   "outputs": [],
   "source": [
    "%%sh\n",
    "dvc stage add -n download \\\n",
    " -d dvc_introduction.py \\\n",
    " -d http://archive.ics.uci.edu/ml/machine-learning-databases/wine-quality/winequality-red.csv \\\n",
    " -o data/winequality-red.csv \\\n",
    "python dvc_introduction.py download_data http://archive.ics.uci.edu/ml/machine-learning-databases/wine-quality/winequality-red.csv data/winequality-red.csv"
   ]
  },
  {
   "cell_type": "markdown",
   "source": [
    "Create the command to add the next stage on your own.\n",
    "\n",
    "The next step should be called `split`.\n",
    "It will execute the `split_data` function of the `dvc_introduction.py` file.\n",
    "The data to be used will be accessible here: `data/winequality-red.csv`.\n",
    "The function will generate four outputs, which should be stored as followed: `data/x_train.csv`, `data_ytrain.csv`, `data/x_test.csv` and `data/y_test.csv`."
   ],
   "metadata": {
    "collapsed": false
   }
  },
  {
   "cell_type": "code",
   "execution_count": null,
   "metadata": {},
   "outputs": [],
   "source": [
    "%%sh \n",
    "dvc stage add -n split \\\n",
    "-d dvc_introduction.py \\\n",
    "-d data/winequality-red.csv \\\n",
    "-o data/x_train.csv -o data/y_train.csv -o data/x_test.csv -o data/y_test.csv \\\n",
    "python dvc_introduction.py split_data data/winequality-red.csv"
   ]
  },
  {
   "cell_type": "markdown",
   "source": [
    "Create a third step for training. This step will use the two parameters defined in the `params.yaml`.\n",
    "Hint: The `params.yaml` in the root folder will be searched for the named parameters by default.\n",
    "You don't need to include its path in the configuration.\n",
    "\n",
    "name: `train`\n",
    "function: `train_model`\n",
    "skript file: `dvc_introduction.py`\n",
    "data: `data/x_train.csv` and `data/y_train.csv`\n",
    "output: `data/model`\n",
    "parameters (-p): `alpha`and `l1_ratio`"
   ],
   "metadata": {
    "collapsed": false
   }
  },
  {
   "cell_type": "code",
   "execution_count": null,
   "metadata": {},
   "outputs": [],
   "source": [
    "%%sh \n",
    "dvc stage add -n train \\\n",
    "-d dvc_introduction.py \\\n",
    "-d data/x_train.csv -d data/y_train.csv \\\n",
    "-o data/model \\\n",
    "-p alpha,l1_ratio \\\n",
    "python dvc_introduction.py train_model data/x_train.csv data/y_train.csv"
   ]
  },
  {
   "cell_type": "markdown",
   "source": [
    "Create a fourth step for evaluation. Here you will generate a metric file `data/result.json`.\n",
    "\n",
    "name: `evaluate`\n",
    "function: `evaluate_model`\n",
    "skript file: `dvc_introduction.py`\n",
    "data: `data/model`, `data/x_test.csv` and `data/y_test.csv`\n",
    "metric (-m): `data/result.json`"
   ],
   "metadata": {
    "collapsed": false
   }
  },
  {
   "cell_type": "code",
   "execution_count": null,
   "metadata": {},
   "outputs": [],
   "source": [
    "%%sh\n",
    "dvc stage add -n evaluate \\\n",
    "-d dvc_introduction.py \\\n",
    "-d data/model -d data/x_test.csv -d data/y_test.csv \\\n",
    "-m data/result.json \\\n",
    "python dvc_introduction.py evaluate_model data/model data/x_test.csv data/y_test.csv"
   ]
  },
  {
   "cell_type": "markdown",
   "source": [
    "Start the pipeline."
   ],
   "metadata": {
    "collapsed": false
   }
  },
  {
   "cell_type": "code",
   "execution_count": null,
   "metadata": {},
   "outputs": [],
   "source": [
    "!dvc repro"
   ]
  },
  {
   "cell_type": "markdown",
   "source": [
    "With the execution of the pipeline, a new file called `dvc.lock` was created.\n",
    "It stores information about the last run of the pipeline, including data and script file hashes.\n",
    "\n",
    "Commit the file to your git."
   ],
   "metadata": {
    "collapsed": false
   }
  },
  {
   "cell_type": "code",
   "execution_count": null,
   "metadata": {},
   "outputs": [],
   "source": [
    "!git add .\n",
    "!git commit -m \"Add pipeline\""
   ]
  },
  {
   "cell_type": "markdown",
   "source": [
    "Optional: Try re-executing the pipeline.\n",
    "You will see, that DVC checks if the pipeline steps or the underlying data changed.\n",
    "If you haven't changed anything, the pipeline step will not be executed again. "
   ],
   "metadata": {
    "collapsed": false
   }
  },
  {
   "cell_type": "markdown",
   "metadata": {},
   "source": [
    "### Additional: Inspecting and Modifying a Pipeline "
   ]
  },
  {
   "cell_type": "code",
   "execution_count": null,
   "metadata": {},
   "outputs": [],
   "source": [
    "!dvc dag"
   ]
  },
  {
   "cell_type": "code",
   "execution_count": null,
   "metadata": {},
   "outputs": [],
   "source": [
    "!dvc status -c"
   ]
  },
  {
   "cell_type": "code",
   "execution_count": null,
   "metadata": {},
   "outputs": [],
   "source": [
    "!dvc push"
   ]
  },
  {
   "cell_type": "code",
   "execution_count": null,
   "metadata": {},
   "outputs": [],
   "source": [
    "!dvc status -c"
   ]
  },
  {
   "cell_type": "markdown",
   "metadata": {},
   "source": [
    "Let's modify a file and reproduce our pipeline!"
   ]
  },
  {
   "cell_type": "code",
   "execution_count": null,
   "metadata": {},
   "outputs": [],
   "source": [
    "!dvc status"
   ]
  },
  {
   "cell_type": "code",
   "execution_count": null,
   "metadata": {},
   "outputs": [],
   "source": [
    "!dvc repro"
   ]
  },
  {
   "cell_type": "markdown",
   "metadata": {},
   "source": [
    "### Additional: Compare Experiments"
   ]
  },
  {
   "cell_type": "code",
   "execution_count": null,
   "metadata": {},
   "outputs": [],
   "source": [
    "!sed -i -e \"s/alpha:\\s0.5/alpha: 0.6/g\" params.yaml"
   ]
  },
  {
   "cell_type": "code",
   "execution_count": null,
   "metadata": {},
   "outputs": [],
   "source": [
    "!dvc params diff"
   ]
  },
  {
   "cell_type": "code",
   "execution_count": null,
   "metadata": {},
   "outputs": [],
   "source": [
    "!dvc repro"
   ]
  },
  {
   "cell_type": "code",
   "execution_count": null,
   "metadata": {},
   "outputs": [],
   "source": [
    "!dvc metrics show"
   ]
  },
  {
   "cell_type": "code",
   "execution_count": null,
   "metadata": {},
   "outputs": [],
   "source": [
    "!dvc metrics diff"
   ]
  },
  {
   "cell_type": "markdown",
   "metadata": {},
   "source": [
    "It is also possible to compare results from different branches."
   ]
  },
  {
   "cell_type": "code",
   "execution_count": null,
   "metadata": {},
   "outputs": [],
   "source": [
    "%%bash\n",
    "git checkout -b experiment_1\n",
    "git add .\n",
    "git commit -m \"changed parameter alpha\"\n",
    "\n",
    "dvc metrics diff master experiment_1"
   ]
  },
  {
   "cell_type": "markdown",
   "metadata": {},
   "source": [
    "### Additional: More Features\n",
    "\n",
    "Get a file from another (external) git+DVC repository."
   ]
  },
  {
   "cell_type": "code",
   "execution_count": null,
   "metadata": {},
   "outputs": [],
   "source": [
    "!dvc get https://github.com/iterative/example-get-started model.pkl"
   ]
  },
  {
   "cell_type": "code",
   "execution_count": null,
   "metadata": {},
   "outputs": [],
   "source": [
    "!rm model.pkl"
   ]
  },
  {
   "cell_type": "markdown",
   "metadata": {},
   "source": [
    "Get a file *including* its .dvc file from another (external) git+DVC repository."
   ]
  },
  {
   "cell_type": "code",
   "execution_count": null,
   "metadata": {},
   "outputs": [],
   "source": [
    "!dvc import https://github.com/iterative/example-get-started model.pkl"
   ]
  },
  {
   "cell_type": "code",
   "execution_count": null,
   "metadata": {},
   "outputs": [],
   "source": [
    "!cat model.pkl.dvc"
   ]
  },
  {
   "cell_type": "markdown",
   "metadata": {},
   "source": [
    "### Experiment Tracking\n",
    "\n",
    "New in dvc2: Experiment tracking, based on git: https://dvc.org/doc/start/experiments\n",
    "\n",
    "## Clean-up"
   ]
  },
  {
   "cell_type": "code",
   "execution_count": null,
   "metadata": {},
   "outputs": [],
   "source": [
    "import os\n",
    "os.chdir(\"/workshop/notebooks/dvc\")"
   ]
  },
  {
   "cell_type": "code",
   "execution_count": null,
   "metadata": {},
   "outputs": [],
   "source": [
    "%%sh\n",
    "rm -rf /workshop/workspace/dvc_intro\n",
    "rm -rf /tmp/dvc_introduction"
   ]
  }
 ],
 "metadata": {
  "kernelspec": {
   "display_name": "Python 3 (ipykernel)",
   "language": "python",
   "name": "python3"
  },
  "language_info": {
   "codemirror_mode": {
    "name": "ipython",
    "version": 3
   },
   "file_extension": ".py",
   "mimetype": "text/x-python",
   "name": "python",
   "nbconvert_exporter": "python",
   "pygments_lexer": "ipython3",
   "version": "3.7.9"
  }
 },
 "nbformat": 4,
 "nbformat_minor": 4
}
