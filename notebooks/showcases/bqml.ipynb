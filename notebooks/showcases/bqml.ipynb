{
 "cells": [
  {
   "cell_type": "code",
   "execution_count": null,
   "metadata": {
    "id": "ur8xi4C7S06n"
   },
   "outputs": [],
   "source": [
    "# Copyright 2020 Google LLC\n",
    "#\n",
    "# Licensed under the Apache License, Version 2.0 (the \"License\");\n",
    "# you may not use this file except in compliance with the License.\n",
    "# You may obtain a copy of the License at\n",
    "#\n",
    "#     https://www.apache.org/licenses/LICENSE-2.0\n",
    "#\n",
    "# Unless required by applicable law or agreed to in writing, software\n",
    "# distributed under the License is distributed on an \"AS IS\" BASIS,\n",
    "# WITHOUT WARRANTIES OR CONDITIONS OF ANY KIND, either express or implied.\n",
    "# See the License for the specific language governing permissions and\n",
    "# limitations under the License."
   ]
  },
  {
   "cell_type": "markdown",
   "metadata": {
    "id": "tvgnzT1CKxrO"
   },
   "source": [
    "# Aufbau eines Nachfrageprognosemodells mithilfe von BigQuery ML\n",
    "\n",
    "In diesem Notebook zeigen wir, wie mithilfe von BigQuery ML ein Zeitreihenmodell trainiert, ausgewertet und eingesetzt werden kann. Es bietet eine End-to-End-Lösung für die Vorhersage mehrerer Produkte. Unter Verwendung des öffentlichen Datensatzes [Iowa Liquor Sales](https://console.cloud.google.com/marketplace/details/obfuscated-ga360-data/obfuscated-ga360-data?filter=solution-type:dataset) erstellen wir mit wenigen SQL-Abfragen fünf Zeitreihenmodelle, wobei jedes Modell den Einzelhandelsumsatz eines einzelnen Spirituosenprodukts vorhersagt. \n",
    "\n",
    "Am Ende dieses Notebooks haben wir gelernt, wie man:\n",
    "* Zeitreihendaten in das richtige Format vorbereitet, das für die Erstellung des Modells erforderlich ist.\n",
    "* Ein Zeitreihenmodell in BigQuery ML trainiert.\n",
    "* Das Modell auswertet.\n",
    "* Vorhersagen über die zukünftige Nachfrage mithilfe des Modells trifft.\n"
   ]
  },
  {
   "cell_type": "markdown",
   "metadata": {
    "id": "EeWsN9G3ap9a",
    "tags": []
   },
   "source": [
    "## Setup"
   ]
  },
  {
   "cell_type": "markdown",
   "metadata": {
    "id": "XoEqT2Y4DJmf"
   },
   "source": [
    "### Notwendige Bibliotheken"
   ]
  },
  {
   "cell_type": "code",
   "execution_count": null,
   "metadata": {
    "id": "pRUOFELefqf1",
    "tags": []
   },
   "outputs": [],
   "source": [
    "from datetime import datetime, timedelta\n",
    "\n",
    "import matplotlib.pyplot as plt\n",
    "import pandas as pd\n",
    "from google.cloud import bigquery"
   ]
  },
  {
   "cell_type": "markdown",
   "metadata": {
    "id": "IKeTQnDdap9n"
   },
   "source": [
    "### Plotting-Skript (für später)"
   ]
  },
  {
   "cell_type": "code",
   "execution_count": null,
   "metadata": {
    "id": "T0rsmNE1ap9n",
    "tags": []
   },
   "outputs": [],
   "source": [
    "def plot_historical_and_forecast(input_timeseries, \n",
    "                                 timestamp_col_name, \n",
    "                                 data_col_name, \n",
    "                                 forecast_output=None, \n",
    "                                 actual=None, \n",
    "                                 title=None,\n",
    "                                 plotstartdate=None):\n",
    "\n",
    "    if plotstartdate:\n",
    "        input_timeseries[timestamp_col_name] = pd.to_datetime(input_timeseries[timestamp_col_name])\n",
    "        input_timeseries = input_timeseries[input_timeseries[timestamp_col_name] >= pd.to_datetime(plotstartdate)]\n",
    "        \n",
    "    input_timeseries = input_timeseries.sort_values(timestamp_col_name)    \n",
    "    \n",
    "    # Plot the input historical data\n",
    "    plt.figure(figsize=(20,6))\n",
    "    plt.plot(input_timeseries[timestamp_col_name], input_timeseries[data_col_name], label = 'Historical')\n",
    "    plt.xlabel(timestamp_col_name)\n",
    "    plt.ylabel(data_col_name)\n",
    "\n",
    "    if forecast_output is not None:\n",
    "        forecast_output = forecast_output.sort_values('forecast_timestamp')\n",
    "        forecast_output['forecast_timestamp'] = pd.to_datetime(forecast_output['forecast_timestamp'])\n",
    "        x_data = forecast_output['forecast_timestamp']\n",
    "        y_data = forecast_output['forecast_value']\n",
    "        confidence_level = forecast_output['confidence_level'].iloc[0] * 100\n",
    "        low_CI = forecast_output['confidence_interval_lower_bound']\n",
    "        upper_CI = forecast_output['confidence_interval_upper_bound']\n",
    "        # Plot the forecast data\n",
    "        plt.plot(x_data, y_data, alpha = 1, label = 'Forecast', linestyle='--')\n",
    "        # Shade the confidence interval\n",
    "        plt.fill_between(x_data, low_CI, upper_CI, color = '#539caf', alpha = 0.4, \n",
    "                         label = f'{confidence_level} confidence interval')\n",
    "\n",
    "    # Plot actual data\n",
    "    if actual is not None:\n",
    "        actual = actual.sort_values(timestamp_col_name)\n",
    "        plt.plot(actual[timestamp_col_name], actual[data_col_name], label = 'Actual', linestyle='--')   \n",
    "\n",
    "    # Display title, legend\n",
    "    plt.title(f'{title}', fontsize= 16)\n",
    "    plt.legend(loc = 'upper center', prop={'size': 16})"
   ]
  },
  {
   "cell_type": "markdown",
   "metadata": {
    "id": "znIaF2QGsDkr"
   },
   "source": [
    "### Ein BigQuery Dataset erstellen\n",
    "\n",
    "Wir müssen `US` als location angeben, um Daten aus dem public dataset in unser Dataset kopieren zu können, welches sich ebenfalls in US befindet."
   ]
  },
  {
   "cell_type": "code",
   "execution_count": null,
   "metadata": {
    "id": "pIBm-lrVsDks",
    "tags": []
   },
   "outputs": [],
   "source": [
    "%%bigquery\n",
    "CREATE SCHEMA IF NOT EXISTS\n",
    "bqmlforecast\n",
    "OPTIONS (\n",
    "    location=\"US\"\n",
    ")"
   ]
  },
  {
   "cell_type": "markdown",
   "metadata": {
    "id": "QB7wXYDpsDkv"
   },
   "source": [
    "## Trainingsdaten vorbereiten"
   ]
  },
  {
   "cell_type": "markdown",
   "metadata": {
    "id": "MsxSG7yfsDkv"
   },
   "source": [
    "Wir trainieren die Zeitreihenmodelle auf einem Datensatz mit Transaktionsdaten. Jede Zeile stellt eine Transaktion für ein einzelnes Produkt dar, das durch den Wert `item_description` identifiziert wird, und enthält Details wie die Anzahl der verkauften Flaschen und den Verkaufsbetrag in Dollar. In den folgenden Schritten verwenden wir den Wert für die Anzahl der verkauften Flaschen zur Prognose der Produktnachfrage."
   ]
  },
  {
   "cell_type": "code",
   "execution_count": null,
   "metadata": {
    "colab": {
     "base_uri": "https://localhost:8080/",
     "height": 197
    },
    "id": "cQlwqRKvap9u",
    "outputId": "9a97df3a-62c7-4e8e-8fef-01d4f8ff0d2f",
    "tags": []
   },
   "outputs": [],
   "source": [
    "%%bigquery\n",
    "\n",
    "SELECT \n",
    "    invoice_and_item_number,\n",
    "    date,\n",
    "    store_number,\n",
    "    item_description,\n",
    "    bottles_sold,\n",
    "    sale_dollars\n",
    "FROM\n",
    "  `bigquery-public-data.iowa_liquor_sales.sales` \n",
    "LIMIT \n",
    "  5"
   ]
  },
  {
   "cell_type": "markdown",
   "metadata": {
    "id": "PFq6aLFBap9z"
   },
   "source": [
    "### Start- und Enddatum für die Trainingsdaten festlegen"
   ]
  },
  {
   "cell_type": "markdown",
   "metadata": {
    "id": "pWbaGiY-ap90"
   },
   "source": [
    "Wir können die Parameter `TRAININGDATA_STARTDATE` und `TRAININGDATA_ENDDATE` anpassen, um das Start-/Enddatum der Trainingsdaten anzugeben:"
   ]
  },
  {
   "cell_type": "code",
   "execution_count": null,
   "metadata": {
    "colab": {
     "base_uri": "https://localhost:8080/"
    },
    "id": "M2cyW1P8ap90",
    "outputId": "7253e1fd-6164-438b-a30b-53c49e61d6b2",
    "tags": []
   },
   "outputs": [],
   "source": [
    "ARIMA_PARAMS = {\n",
    "    'TRAININGDATA_STARTDATE': '2020-01-01',\n",
    "    'TRAININGDATA_ENDDATE': '2022-01-01',\n",
    "}\n",
    "ARIMA_PARAMS"
   ]
  },
  {
   "cell_type": "markdown",
   "metadata": {
    "id": "zmz_Wh7yap93"
   },
   "source": [
    "### Trainingsdaten in einen Tabelle schreiben"
   ]
  },
  {
   "cell_type": "markdown",
   "metadata": {
    "id": "T1B5NDEfVL2C"
   },
   "source": [
    "Einige Tage in den Daten weisen keine Transaktionen für ein bestimmtes Produkt auf. BigQueryML kann automatisch einige typische Vorverarbeitungen durchführen:\n",
    "\n",
    "* Fehlende Werte: Die Werte werden mit lokaler linearer Interpolation imputed.\n",
    "* Duplizierte Zeitstempel: Die Werte werden über duplizierte Zeitstempel gemittelt.\n",
    "* Spike- und Dip-Anomalien: Die Werte werden anhand lokaler z-Scores standardisiert."
   ]
  },
  {
   "cell_type": "code",
   "execution_count": null,
   "metadata": {
    "colab": {
     "base_uri": "https://localhost:8080/",
     "height": 347
    },
    "id": "7-bBYO-Hap93",
    "outputId": "59fd1987-a01b-4e3a-9719-456f790bedf3",
    "tags": []
   },
   "outputs": [],
   "source": [
    "%%bigquery --params $ARIMA_PARAMS\n",
    "\n",
    "CREATE OR REPLACE TABLE bqmlforecast.training_data AS (\n",
    "    WITH topsellingitems AS(\n",
    "         SELECT \n",
    "            item_description,\n",
    "            count(item_description) cnt_transactions\n",
    "        FROM\n",
    "            `bigquery-public-data.iowa_liquor_sales.sales` \n",
    "        GROUP BY \n",
    "            item_description\n",
    "        ORDER BY cnt_transactions DESC\n",
    "        LIMIT 5\n",
    "    )\n",
    "    SELECT \n",
    "        date,\n",
    "        item_description AS item_name,\n",
    "        SUM(bottles_sold) AS total_amount_sold\n",
    "    FROM\n",
    "        `bigquery-public-data.iowa_liquor_sales.sales` \n",
    "    GROUP BY\n",
    "        date, item_name\n",
    "    HAVING \n",
    "        date BETWEEN @TRAININGDATA_STARTDATE AND @TRAININGDATA_ENDDATE\n",
    "        AND item_description IN (SELECT item_description FROM topsellingitems)\n",
    "    );\n",
    "\n",
    "SELECT \n",
    "    date,\n",
    "    item_name,\n",
    "    total_amount_sold\n",
    "FROM \n",
    "    bqmlforecast.training_data \n",
    "ORDER BY item_name, date\n",
    "LIMIT 10"
   ]
  },
  {
   "cell_type": "markdown",
   "metadata": {
    "id": "liuS8qCnap96"
   },
   "source": [
    "### Verkaufshistorie der Zielspirituosen"
   ]
  },
  {
   "cell_type": "markdown",
   "metadata": {
    "id": "tQxRDGLAap97"
   },
   "source": [
    "Wir speichern die Trainingsdaten im Pandas-Dataframe `pdfhistorical`:"
   ]
  },
  {
   "cell_type": "code",
   "execution_count": null,
   "metadata": {
    "id": "xwVPZP3fap97",
    "tags": []
   },
   "outputs": [],
   "source": [
    "%%bigquery dfhistorical\n",
    "\n",
    "SELECT * FROM bqmlforecast.training_data"
   ]
  },
  {
   "cell_type": "code",
   "execution_count": null,
   "metadata": {
    "colab": {
     "base_uri": "https://localhost:8080/",
     "height": 1000
    },
    "id": "hCvY292Xap9-",
    "outputId": "3b464686-cc5a-4ad7-f860-860ffd919f17",
    "tags": []
   },
   "outputs": [],
   "source": [
    "itemslist = list(dfhistorical.item_name.unique())\n",
    "\n",
    "for item in itemslist:\n",
    "    \n",
    "    datah = dfhistorical[dfhistorical.item_name==item]\n",
    "    plot_historical_and_forecast(input_timeseries = datah, \n",
    "                                 timestamp_col_name = \"date\",\n",
    "                                 data_col_name = \"total_amount_sold\", \n",
    "                                 forecast_output = None, \n",
    "                                 actual = None,\n",
    "                                 title = item)"
   ]
  },
  {
   "cell_type": "markdown",
   "metadata": {
    "id": "ft6ioX_kap-A"
   },
   "source": [
    "## Modelltraining"
   ]
  },
  {
   "cell_type": "markdown",
   "metadata": {
    "id": "BqGEpOzvW2pl"
   },
   "source": [
    "Da das Modell für mehrere Produkte in einem einzigen Modellerstellung-Statement trainiert wird, geben wir die Spalte `item_name` für den Parameter [TIME_SERIES_ID_COL](https://cloud.google.com/bigquery-ml/docs/reference/standard-sql/bigqueryml-syntax-create-time-series#time_series_id_col) an. Für einen einzelnen Zielartikel brauchen wir diese Angabe nicht.\n",
    "Weitere Informationen zum SQL-Statement zur Modellerstellung: [Dokumentation zur Erstellung von BigQuery ML-Zeitreihenmodellen](https://cloud.google.com/bigquery-ml/docs/reference/standard-sql/bigqueryml-syntax-create-time-series#create_model_syntax).\n",
    "\n",
    "Ein häufiges Problem bei Zeitreihendaten sind Feiertagseffekte und Saisonalitäten. BigQueryML kann das durch die Angabe der `HOLIDAY_REGION` berücksichtigen. Standardmäßig ist die Modellierung von Feiertagseffekten deaktiviert. Bei aktivierten Feiertagseffekten werden Ausreißer, die während der Feiertage auftreten, nicht mehr als Anomalien behandelt. Da wir hier Daten aus Iowa analysieren, setzen wir die `HOLIDAY_REGION` auf `US`. Es gibt aber auch Feiertagsdaten für andere Länder."
   ]
  },
  {
   "cell_type": "code",
   "execution_count": null,
   "metadata": {
    "colab": {
     "base_uri": "https://localhost:8080/",
     "height": 31
    },
    "id": "CibqJ8yVL6kS",
    "outputId": "6d8e6996-557a-4fd7-d8b1-22e8f3c9b075",
    "tags": []
   },
   "outputs": [],
   "source": [
    "%%bigquery\n",
    "\n",
    "CREATE OR REPLACE MODEL bqmlforecast.arima_model\n",
    "\n",
    "OPTIONS(\n",
    "  MODEL_TYPE='ARIMA',\n",
    "  TIME_SERIES_TIMESTAMP_COL='date', \n",
    "  TIME_SERIES_DATA_COL='total_amount_sold',\n",
    "  TIME_SERIES_ID_COL='item_name',\n",
    "  HOLIDAY_REGION='US'\n",
    ") AS\n",
    "\n",
    "SELECT \n",
    "    date,\n",
    "    item_name,\n",
    "    total_amount_sold\n",
    "FROM\n",
    "  bqmlforecast.training_data"
   ]
  },
  {
   "cell_type": "markdown",
   "metadata": {
    "id": "BUkZYuZH-rn2"
   },
   "source": [
    "### Modellevaluation"
   ]
  },
  {
   "cell_type": "markdown",
   "metadata": {
    "id": "7vEV-65m-0QJ"
   },
   "source": [
    "Wir können [ML.EVALUATE](https://cloud.google.com/bigquery-ml/docs/reference/standard-sql/bigqueryml-syntax-evaluate) verwenden, um die Qualitätsmetriken aller erstellten Modelle anzuzeigen. \n",
    "\n",
    "Die Spalten `non_seasonal_`{`p`,`d`,`q`} und `has_drift` definieren das Zeitreihenmodell. Die Spalten `log_likelihood`, `AIC` und `variance` sind für das Model Fitting relevant. Beim Model Fitting wird das beste Modell mit Hilfe des [auto.ARIMA-Algorithmus](https://cloud.google.com/bigquery-ml/docs/reference/standard-sql/bigqueryml-syntax-create-time-series#auto_arima) ermittelt, und zwar für jede Zeitreihe einzeln."
   ]
  },
  {
   "cell_type": "code",
   "execution_count": null,
   "metadata": {
    "colab": {
     "base_uri": "https://localhost:8080/",
     "height": 214
    },
    "id": "NAlyHOOjBxRV",
    "outputId": "c40ebf67-a621-46b0-c9db-e14e907b1cd5",
    "tags": []
   },
   "outputs": [],
   "source": [
    "%%bigquery\n",
    "SELECT * FROM ML.EVALUATE(MODEL bqmlforecast.arima_model)"
   ]
  },
  {
   "cell_type": "markdown",
   "metadata": {
    "id": "ZXY99nSmCnsB"
   },
   "source": [
    "Wir können sehen, dass fünf Modelle trainiert wurden, eines für jedes Produkt. Jedes Modell hat seine eigenen Hyperparameter, und die erkannte Saisonalität für diese fünf Modelle ist `WEEKLY` und teilweise `YEARLY`."
   ]
  },
  {
   "cell_type": "markdown",
   "metadata": {
    "id": "0mDSGlrDap-C"
   },
   "source": [
    "## Modellvorhersagen treffen"
   ]
  },
  {
   "cell_type": "markdown",
   "metadata": {
    "id": "QZrj49Nwap-D"
   },
   "source": [
    "Wir können mit [ML.FORECAST](https://cloud.google.com/bigquery-ml/docs/reference/standard-sql/bigqueryml-syntax-forecast) Vorhersagen treffen, die die nächsten _n_ Werte vorhersagen, wie im Parameter `horizon` angegeben. Wir können auch optional das `confidence_level` ändern, um den Prozentsatz der zukünftigen Werte zu ändern, die in das Vorhersageintervall fallen. Die Vorhersagedaten werden im DataFrame `dfforecast` gespeichert, damit sie in einem späteren Schritt dargestellt werden können.\n"
   ]
  },
  {
   "cell_type": "code",
   "execution_count": null,
   "metadata": {
    "id": "tTwgjaITYOx8",
    "tags": []
   },
   "outputs": [],
   "source": [
    "%%bigquery dfforecast\n",
    "\n",
    "DECLARE HORIZON STRING DEFAULT \"30\";\n",
    "DECLARE CONFIDENCE_LEVEL STRING DEFAULT \"0.90\";\n",
    "\n",
    "EXECUTE IMMEDIATE format(\"\"\"\n",
    "    SELECT\n",
    "      *\n",
    "    FROM \n",
    "      ML.FORECAST(MODEL bqmlforecast.arima_model, \n",
    "                  STRUCT(%s AS horizon, \n",
    "                         %s AS confidence_level)\n",
    "                 )\n",
    "    \"\"\",HORIZON,CONFIDENCE_LEVEL)"
   ]
  },
  {
   "cell_type": "code",
   "execution_count": null,
   "metadata": {
    "colab": {
     "base_uri": "https://localhost:8080/",
     "height": 301
    },
    "id": "YaHX0NWXap-G",
    "outputId": "5bd2bc73-4362-458d-c191-17b07c2dc912",
    "tags": []
   },
   "outputs": [],
   "source": [
    "dfforecast.head()"
   ]
  },
  {
   "cell_type": "markdown",
   "metadata": {
    "id": "N11NZ1d3ap-I"
   },
   "source": [
    "Da `horizon` auf 30 gesetzt ist, ist das Ergebnis 30 x (Anzahl der Produkte), mit einer Zeile pro vorhergesagtem Wert:"
   ]
  },
  {
   "cell_type": "code",
   "execution_count": null,
   "metadata": {
    "colab": {
     "base_uri": "https://localhost:8080/"
    },
    "id": "J5nKk-XQap-I",
    "outputId": "2246f362-c0a7-4bb8-b432-88e066276f7c",
    "tags": []
   },
   "outputs": [],
   "source": [
    "print(f\"Number of rows: {dfforecast.shape[0]}\")"
   ]
  },
  {
   "cell_type": "markdown",
   "metadata": {
    "id": "MPdfnofgap-K"
   },
   "source": [
    "#### Vorhersagen visualiseren\n",
    "\n",
    "Wir können die Vorhersagen an die Zeitreihen anhängen und so einen optischen Eindruck bekommen, ob die Vorhersagen plausibel sind:"
   ]
  },
  {
   "cell_type": "code",
   "execution_count": null,
   "metadata": {
    "colab": {
     "base_uri": "https://localhost:8080/",
     "height": 1000
    },
    "id": "PBKzdLi-ap-L",
    "outputId": "08b2165f-7f12-4144-87aa-c4c0363a020f",
    "tags": []
   },
   "outputs": [],
   "source": [
    "itemslist = list(dfhistorical.item_name.unique())\n",
    "\n",
    "for item in itemslist:\n",
    "    datah = dfhistorical[dfhistorical.item_name==item].copy()\n",
    "    dataf = dfforecast[dfforecast.item_name==item].copy()\n",
    "    \n",
    "    plot_historical_and_forecast(input_timeseries = datah, \n",
    "                                 timestamp_col_name = \"date\", \n",
    "                                 data_col_name = \"total_amount_sold\",\n",
    "                                 forecast_output = dataf, \n",
    "                                 actual = None,\n",
    "                                 title = item,\n",
    "                                 plotstartdate = \"2021-01-01\")"
   ]
  },
  {
   "cell_type": "markdown",
   "metadata": {
    "id": "_UEsngQXap-N"
   },
   "source": [
    "#### Mit den tatsächlichen Verkäufen vergleichen\n",
    "\n",
    "Wir extrahieren zunächst die tatsächlichen Verkäufe aus dem Vergleichszeitraum"
   ]
  },
  {
   "cell_type": "code",
   "execution_count": null,
   "metadata": {
    "id": "t-K52as0ap-O",
    "tags": []
   },
   "outputs": [],
   "source": [
    "%%bigquery dfactual --params $ARIMA_PARAMS\n",
    "\n",
    "DECLARE HORIZON STRING DEFAULT \"30\";\n",
    "\n",
    "SELECT \n",
    "    date,\n",
    "    item_description AS item_name,\n",
    "    SUM(bottles_sold) AS total_amount_sold\n",
    "FROM\n",
    "    `bigquery-public-data.iowa_liquor_sales.sales` \n",
    "GROUP BY\n",
    "    date, item_name\n",
    "HAVING \n",
    "    date BETWEEN DATE_ADD(@TRAININGDATA_ENDDATE, \n",
    "                              INTERVAL 1 DAY) \n",
    "            AND DATE_ADD(@TRAININGDATA_ENDDATE, \n",
    "                             INTERVAL 1+CAST(HORIZON AS INT64) DAY) \n",
    "ORDER BY\n",
    "    date;"
   ]
  },
  {
   "cell_type": "markdown",
   "metadata": {
    "id": "W8gcqtwiap-S"
   },
   "source": [
    "Wir fügen die tatsächlichen Verkäufe in die obige Visualisierung ein."
   ]
  },
  {
   "cell_type": "code",
   "execution_count": null,
   "metadata": {
    "colab": {
     "base_uri": "https://localhost:8080/",
     "height": 1000
    },
    "id": "5C9tXEvwap-S",
    "outputId": "bec48383-c501-4a12-ed34-fd9b12093bd8",
    "tags": []
   },
   "outputs": [],
   "source": [
    "itemslist = list(dfhistorical.item_name.unique())\n",
    "\n",
    "for item in itemslist:\n",
    "    datah = dfhistorical[dfhistorical.item_name==item].sort_values('date')\n",
    "    dataf = dfforecast[dfforecast.item_name==item].sort_values(['forecast_timestamp'])\n",
    "    dataa = dfactual[dfactual.item_name==item].sort_values('date')\n",
    "    plot_historical_and_forecast(input_timeseries = datah, \n",
    "                             timestamp_col_name = \"date\", \n",
    "                             data_col_name = \"total_amount_sold\", \n",
    "                             forecast_output = dataf, \n",
    "                             actual = dataa,\n",
    "                             title = item,\n",
    "                             plotstartdate = \"2021-06-01\")"
   ]
  }
 ],
 "metadata": {
  "colab": {
   "collapsed_sections": [],
   "name": "bqml_retail_demand_forecasting.ipynb",
   "provenance": [
    {
     "file_id": "1nqpuwpP8nDxhcty-JVYirH-zfz0iBm87",
     "timestamp": 1614717584256
    }
   ],
   "toc_visible": true
  },
  "environment": {
   "kernel": "conda-base-py",
   "name": "workbench-notebooks.m124",
   "type": "gcloud",
   "uri": "us-docker.pkg.dev/deeplearning-platform-release/gcr.io/workbench-notebooks:m124"
  },
  "kernelspec": {
   "display_name": "Python 3 (ipykernel)",
   "language": "python",
   "name": "python3"
  },
  "language_info": {
   "codemirror_mode": {
    "name": "ipython",
    "version": 3
   },
   "file_extension": ".py",
   "mimetype": "text/x-python",
   "name": "python",
   "nbconvert_exporter": "python",
   "pygments_lexer": "ipython3",
   "version": "3.11.9"
  }
 },
 "nbformat": 4,
 "nbformat_minor": 4
}
