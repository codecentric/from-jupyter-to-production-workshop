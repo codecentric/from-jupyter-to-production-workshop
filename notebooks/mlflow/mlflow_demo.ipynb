{
 "cells": [
  {
   "cell_type": "markdown",
   "id": "7262d11d0db6945c",
   "metadata": {
    "collapsed": false,
    "jupyter": {
     "outputs_hidden": false
    }
   },
   "source": [
    "# MLflow Übungsaufgaben\n",
    "> Übung zum Experimenttracking mit MLflow"
   ]
  },
  {
   "cell_type": "markdown",
   "id": "918f85af9e55a463",
   "metadata": {
    "collapsed": false,
    "jupyter": {
     "outputs_hidden": false
    }
   },
   "source": [
    "## Übung 1 - Logging von Metriken und Parametern mit MLflow\n",
    "> Ziel: In dieser Übung werden wir die Verwendung von MLflow zur Protokollierung von Metriken und Parametern in einem Machine Learning Workflow üben.\n",
    "\n",
    "Codekommentare, die mit einem Ausrufungszeichen beginnen `#!` stellen ein TODO dar. Der Tracking-Server ist über die URL `http://localhost:5001` erreichbar.\n",
    "**MLflow ist bereits als Package installiert.** "
   ]
  },
  {
   "cell_type": "markdown",
   "id": "9c65b4b0566b51d8",
   "metadata": {
    "collapsed": false,
    "jupyter": {
     "outputs_hidden": false
    }
   },
   "source": [
    "### Importiere die notwendigen Bibliotheken"
   ]
  },
  {
   "cell_type": "code",
   "execution_count": 1,
   "id": "12f8cd3a139d4d56",
   "metadata": {
    "collapsed": false,
    "is_executing": true,
    "jupyter": {
     "outputs_hidden": false
    }
   },
   "outputs": [
    {
     "name": "stderr",
     "output_type": "stream",
     "text": [
      "OpenBLAS WARNING - could not determine the L2 cache size on this system, assuming 256k\n",
      "OpenBLAS WARNING - could not determine the L2 cache size on this system, assuming 256k\n",
      "/opt/pysetup/.venv/lib/python3.11/site-packages/pydantic/_internal/_fields.py:128: UserWarning: Field \"model_server_url\" has conflict with protected namespace \"model_\".\n",
      "\n",
      "You may be able to resolve this warning by setting `model_config['protected_namespaces'] = ()`.\n",
      "  warnings.warn(\n",
      "/opt/pysetup/.venv/lib/python3.11/site-packages/pydantic/_internal/_config.py:317: UserWarning: Valid config keys have changed in V2:\n",
      "* 'schema_extra' has been renamed to 'json_schema_extra'\n",
      "  warnings.warn(message, UserWarning)\n"
     ]
    }
   ],
   "source": [
    "import mlflow\n",
    "import mlflow.sklearn\n",
    "import numpy as np\n",
    "from sklearn.model_selection import train_test_split\n",
    "from sklearn.ensemble import RandomForestClassifier"
   ]
  },
  {
   "cell_type": "markdown",
   "id": "bce286ea28cb4898",
   "metadata": {
    "collapsed": false,
    "jupyter": {
     "outputs_hidden": false
    }
   },
   "source": [
    "### Lade einen Beispieldatensatz\n",
    "In diesem Fall verwenden wir den Iris-Datensatz:"
   ]
  },
  {
   "cell_type": "code",
   "execution_count": 2,
   "id": "5dd9e6d161a1df6e",
   "metadata": {
    "collapsed": false,
    "jupyter": {
     "outputs_hidden": false
    }
   },
   "outputs": [],
   "source": [
    "from sklearn.datasets import load_iris\n",
    "data = load_iris()\n",
    "X, y = data.data, data.target\n"
   ]
  },
  {
   "cell_type": "markdown",
   "id": "d3a99639788b570f",
   "metadata": {
    "collapsed": false,
    "jupyter": {
     "outputs_hidden": false
    }
   },
   "source": [
    "### Teile den Datensatz in Trainings- und Testdaten auf"
   ]
  },
  {
   "cell_type": "code",
   "execution_count": 3,
   "id": "5e6b54c71c2e9515",
   "metadata": {
    "collapsed": false,
    "jupyter": {
     "outputs_hidden": false
    }
   },
   "outputs": [],
   "source": [
    "X_train, X_test, y_train, y_test = train_test_split(X, y, test_size=0.2, random_state=42)"
   ]
  },
  {
   "cell_type": "markdown",
   "id": "4e411c0f24217a4d",
   "metadata": {
    "collapsed": false,
    "jupyter": {
     "outputs_hidden": false
    }
   },
   "source": [
    "### Trainiere einen RandomForest-Klassifikator und logge von Hyperparamtern\n",
    "Anzahl der Bäume und die Genauigkeit des Modells"
   ]
  },
  {
   "cell_type": "code",
   "execution_count": null,
   "id": "48f62a6842a61ad6",
   "metadata": {
    "collapsed": false,
    "jupyter": {
     "outputs_hidden": false
    }
   },
   "outputs": [],
   "source": [
    "#! Setze die verwendete Tracking-URI auf `http://mlflow:5001`"
   ]
  },
  {
   "cell_type": "code",
   "execution_count": null,
   "id": "5d30d47a2c89d8b0",
   "metadata": {
    "collapsed": false,
    "jupyter": {
     "outputs_hidden": false
    }
   },
   "outputs": [],
   "source": [
    "try:\n",
    "    #! Erstelle ein Experiment mit dem Namen `MLflow Regression Demo`. Speichere die experiment_id in der Variable `exp_id`.\n",
    "except mlflow.exceptions.RestException:\n",
    "   exp_id =  mlflow.get_experiment_by_name(name=\"MLflow Regression Demo\").experiment_id"
   ]
  },
  {
   "cell_type": "code",
   "execution_count": null,
   "id": "f8289dafc7951ca7",
   "metadata": {
    "collapsed": false,
    "jupyter": {
     "outputs_hidden": false
    }
   },
   "outputs": [],
   "source": [
    "with mlflow.start_run(experiment_id=exp_id):\n",
    "\n",
    "    num_trees = 200\n",
    "    \n",
    "    #! Logge den Hyperparameter `num_trees` als Parameter\n",
    "\n",
    "    clf = RandomForestClassifier(n_estimators=num_trees)\n",
    "    clf.fit(X_train, y_train)\n",
    "\n",
    "    accuracy = clf.score(X_test, y_test)\n",
    "\n",
    "    #! Logge die Genauigkeit (`accuracy`) als Metrik\n"
   ]
  },
  {
   "cell_type": "markdown",
   "id": "88151557006ef909",
   "metadata": {
    "collapsed": false,
    "jupyter": {
     "outputs_hidden": false
    }
   },
   "source": [
    "### Weitere Aufgaben\n",
    "1. Setze die Anzahl an Bäumen `num_trees` in dem vorherigen Codeblock auf 200 und führe den Codeblock erneut aus. \n",
    "2. Rufe die URL `http://localhost:5001` in deinem Browser auf. Schaue dir beide Runs des Experimentes an.\n",
    "3. Auf der Übersichtsseite der Runs des Experimentes `MLflow Regression Demo` können beide Runs angehakt werden. Tue dies und vergleiche die Experimente mit einem Klick auf `Compare`\n",
    "4. Speichere vor dem Training die Datensätze `X` mit dem Context `input`"
   ]
  },
  {
   "cell_type": "markdown",
   "id": "7fc295dfd1e5881e",
   "metadata": {
    "collapsed": false,
    "jupyter": {
     "outputs_hidden": false
    }
   },
   "source": [
    "## Übung 2. - PyTorch Image Classifier mit MLflow\n",
    "> Ziel: In dieser Übung erstellen wir einen Bildklassifikator mit PyTorch und verwenden MLflow, um das trainierte Modell zu überwachen."
   ]
  },
  {
   "cell_type": "markdown",
   "id": "2c80d1f68c97f42",
   "metadata": {
    "collapsed": false,
    "jupyter": {
     "outputs_hidden": false
    }
   },
   "source": [
    "### Laden der notwendigen Bibliotheken "
   ]
  },
  {
   "cell_type": "code",
   "execution_count": null,
   "id": "a30d4cde2deb1716",
   "metadata": {
    "collapsed": false,
    "jupyter": {
     "outputs_hidden": false
    }
   },
   "outputs": [],
   "source": [
    "import mlflow\n",
    "import mlflow.pytorch\n",
    "import torch\n",
    "import torch.nn as nn\n",
    "import torch.nn.functional as F \n",
    "import torch.optim as optim\n",
    "import torchvision\n",
    "import torchvision.transforms as transforms\n",
    "from torchvision.datasets import CIFAR10\n",
    "from tqdm import tqdm\n",
    "from sklearn.metrics import confusion_matrix\n",
    "import seaborn as sn\n",
    "import pandas as pd\n",
    "import matplotlib.pyplot as plt\n",
    "import numpy as np"
   ]
  },
  {
   "cell_type": "markdown",
   "id": "bb018f7221d5c665",
   "metadata": {
    "collapsed": false,
    "jupyter": {
     "outputs_hidden": false
    }
   },
   "source": [
    "### Laden des Fashion MNIST-Datensatz und erforderliche Transformationen durchführen"
   ]
  },
  {
   "cell_type": "code",
   "execution_count": null,
   "id": "c181475a0efeff11",
   "metadata": {
    "collapsed": false,
    "jupyter": {
     "outputs_hidden": false
    }
   },
   "outputs": [],
   "source": [
    "# transforms\n",
    "transform = transforms.Compose(\n",
    "    [transforms.ToTensor(),\n",
    "    transforms.Normalize((0.5,), (0.5,))])\n",
    "\n",
    "# datasets\n",
    "trainset = torchvision.datasets.FashionMNIST('./data/FASHIONMNIST',\n",
    "    download=True,\n",
    "    train=True,\n",
    "    transform=transform)\n",
    "testset = torchvision.datasets.FashionMNIST('./data/FASHIONMNIST',\n",
    "    download=True,\n",
    "    train=False,\n",
    "    transform=transform)\n",
    "\n",
    "batch_size = 4\n",
    "\n",
    "# dataloaders\n",
    "trainloader = torch.utils.data.DataLoader(trainset, batch_size=batch_size,\n",
    "                                        shuffle=True, num_workers=2)\n",
    "\n",
    "\n",
    "testloader = torch.utils.data.DataLoader(testset, batch_size=batch_size,\n",
    "                                        shuffle=False, num_workers=2)\n",
    "\n",
    "# constant for classes\n",
    "classes = ('T-shirt/top', 'Trouser', 'Pullover', 'Dress', 'Coat',\n",
    "        'Sandal', 'Shirt', 'Sneaker', 'Bag', 'Ankle Boot')\n"
   ]
  },
  {
   "cell_type": "markdown",
   "id": "e481963b40b74c90",
   "metadata": {
    "collapsed": false,
    "jupyter": {
     "outputs_hidden": false
    }
   },
   "source": [
    "### Definieren eines einfachen CNN-Modells für die Bildklassifikation"
   ]
  },
  {
   "cell_type": "code",
   "execution_count": null,
   "id": "26bce857228c364c",
   "metadata": {
    "collapsed": false,
    "jupyter": {
     "outputs_hidden": false
    }
   },
   "outputs": [],
   "source": [
    "class Net(nn.Module):\n",
    "    def __init__(self):\n",
    "        super(Net, self).__init__()\n",
    "        self.conv1 = nn.Conv2d(1, 6, 5)\n",
    "        self.pool = nn.MaxPool2d(2, 2)\n",
    "        self.conv2 = nn.Conv2d(6, 16, 5)\n",
    "        self.fc1 = nn.Linear(16 * 4 * 4, 120)\n",
    "        self.fc2 = nn.Linear(120, 84)\n",
    "        self.fc3 = nn.Linear(84, 10)\n",
    "\n",
    "    def forward(self, x):\n",
    "        x = self.pool(F.relu(self.conv1(x)))\n",
    "        x = self.pool(F.relu(self.conv2(x)))\n",
    "        x = x.view(-1, 16 * 4 * 4)\n",
    "        x = F.relu(self.fc1(x))\n",
    "        x = F.relu(self.fc2(x))\n",
    "        x = self.fc3(x)\n",
    "        return x"
   ]
  },
  {
   "cell_type": "markdown",
   "id": "9eaa1a8cdb8b5e32",
   "metadata": {
    "collapsed": false,
    "jupyter": {
     "outputs_hidden": false
    }
   },
   "source": [
    "### Trainiere das Modells"
   ]
  },
  {
   "cell_type": "code",
   "execution_count": null,
   "id": "508b334395c54530",
   "metadata": {
    "collapsed": false,
    "jupyter": {
     "outputs_hidden": false
    }
   },
   "outputs": [],
   "source": [
    "try:\n",
    "    mlflow.set_tracking_uri(\"http://mlflow:5001\")\n",
    "    #! Erstelle ein Experiment mit dem Namen `MLflow Image Classifier Demo`. Speichere die experiment_id in der Variable `exp_id`.\n",
    "except mlflow.exceptions.RestException:\n",
    "   exp_id =  mlflow.get_experiment_by_name(name=\"MLflow Image Classifier Demo\").experiment_id"
   ]
  },
  {
   "cell_type": "code",
   "execution_count": null,
   "id": "10ecc029981fdc49",
   "metadata": {
    "collapsed": false,
    "jupyter": {
     "outputs_hidden": false
    }
   },
   "outputs": [],
   "source": [
    "with mlflow.start_run(experiment_id=exp_id):\n",
    "    learning_rate = 0.001\n",
    "    epochs = 2\n",
    "\n",
    "    #! Logge die Variable `batch_size`, `learning_rate` und `epochs` als Parameter\n",
    "\n",
    "    net = Net()\n",
    "    criterion = nn.CrossEntropyLoss()\n",
    "    optimizer = optim.SGD(net.parameters(), lr=learning_rate, momentum=0.9)\n",
    "\n",
    "    for epoch in tqdm(range(epochs)):  \n",
    "        running_loss = 0.0\n",
    "        for i, data in enumerate(trainloader, 0):\n",
    "            inputs, labels = data\n",
    "            optimizer.zero_grad()\n",
    "            outputs = net(inputs)\n",
    "            loss = criterion(outputs, labels)\n",
    "            loss.backward()\n",
    "            optimizer.step()\n",
    "            running_loss += loss.item()\n",
    "\n",
    "\n",
    "        loss = running_loss / len(trainloader)\n",
    "        #! Logge den Loss pro Epoche\n",
    "    \n",
    "    model_path = \"model.pth\"\n",
    "    torch.save(net.state_dict(), model_path)\n",
    "    \n",
    "    #! Logge das gespeicherte Modell als Artefakt "
   ]
  },
  {
   "cell_type": "markdown",
   "id": "985a5e10b631af96",
   "metadata": {
    "collapsed": false,
    "jupyter": {
     "outputs_hidden": false
    }
   },
   "source": [
    "### Weitere Aufgaben\n",
    "1. Logge das trainierte Modell über `mlflow.pytorch.log_model`\n",
    "2. Füge in den oberen Codeblock den Aufruf der nachfolgenden Funktion `create_confusion_matrix` ein. Zuvor muss die Zelle mit der Funktion ausgeführt werden. Die gespeicherte Confusion Matrix soll als Artefakt geloggt werden."
   ]
  },
  {
   "cell_type": "code",
   "execution_count": 25,
   "id": "1b282085-c5c4-4725-b205-ca457a9810ed",
   "metadata": {},
   "outputs": [],
   "source": [
    "def create_confusion_matrix(filename, net, testloader):\n",
    "    y_pred = []\n",
    "    y_true = []\n",
    "    \n",
    "    for inputs, labels in testloader:\n",
    "        output = net(inputs)\n",
    "\n",
    "        output = (torch.max(torch.exp(output), 1)[1]).data.cpu().numpy()\n",
    "        y_pred.extend(output)\n",
    "        \n",
    "        labels = labels.data.cpu().numpy()\n",
    "        y_true.extend(labels)\n",
    "\n",
    "    classes = ('T-shirt/top', 'Trouser', 'Pullover', 'Dress', 'Coat',\n",
    "        'Sandal', 'Shirt', 'Sneaker', 'Bag', 'Ankle Boot')\n",
    "\n",
    "    cf_matrix = confusion_matrix(y_true, y_pred)\n",
    "    df_cm = pd.DataFrame(cf_matrix / np.sum(cf_matrix, axis=1)[:, None], index = [i for i in classes],\n",
    "                         columns = [i for i in classes])\n",
    "    plt.figure(figsize = (12,7))\n",
    "    sn.heatmap(df_cm, annot=True)\n",
    "    plt.savefig(filename)"
   ]
  }
 ],
 "metadata": {
  "kernelspec": {
   "display_name": "Python 3 (ipykernel)",
   "language": "python",
   "name": "python3"
  },
  "language_info": {
   "codemirror_mode": {
    "name": "ipython",
    "version": 3
   },
   "file_extension": ".py",
   "mimetype": "text/x-python",
   "name": "python",
   "nbconvert_exporter": "python",
   "pygments_lexer": "ipython3",
   "version": "3.11.6"
  }
 },
 "nbformat": 4,
 "nbformat_minor": 5
}
