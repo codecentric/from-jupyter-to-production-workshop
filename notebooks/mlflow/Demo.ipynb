{
 "cells": [
  {
   "cell_type": "markdown",
   "id": "4494b513-b689-45ae-bff3-2917d43f7c35",
   "metadata": {},
   "source": [
    "# Logging experiments and managing models with mlflow"
   ]
  },
  {
   "cell_type": "markdown",
   "id": "e8809276-dc4a-4d34-8c3f-191c66a27f55",
   "metadata": {},
   "source": [
    "## First:\n",
    "- open a new terminal window.\n",
    "- run \n",
    "`conda activate workshop && mkdir mlflow-server && cd mlflow-server && mlflow server -h 0.0.0.0 --backend-store-uri sqlite:///mlflow.db  --default-artifact-root ./artifacts`"
   ]
  },
  {
   "cell_type": "code",
   "execution_count": 10,
   "id": "587a5d02-ab31-487b-a59a-03c8c1939485",
   "metadata": {},
   "outputs": [],
   "source": [
    "from training_code import download_data, split_data, evaluate_model\n",
    "import pandas as pd\n",
    "from sklearn.pipeline import Pipeline\n",
    "from sklearn.preprocessing import StandardScaler\n",
    "from sklearn.linear_model import ElasticNet\n",
    "\n",
    "import mlflow"
   ]
  },
  {
   "cell_type": "code",
   "execution_count": 18,
   "id": "0d5d1a8d-0f91-45d0-8e0a-af84b0e8ad7a",
   "metadata": {},
   "outputs": [
    {
     "name": "stdout",
     "output_type": "stream",
     "text": [
      "INFO: 'mlflow-demo' does not exist. Creating a new experiment\n"
     ]
    }
   ],
   "source": [
    "mlflow.set_tracking_uri(\"http://localhost:5000\")\n",
    "mlflow.set_experiment(\"mlflow-demo\")"
   ]
  },
  {
   "cell_type": "code",
   "execution_count": 12,
   "id": "62a0e01a-53e9-42c6-ada6-09e1ba6eb7ec",
   "metadata": {},
   "outputs": [],
   "source": [
    "download_data(\"http://archive.ics.uci.edu/ml/machine-learning-databases/wine-quality/winequality-red.csv\",\"data/winequality-red.csv\")"
   ]
  },
  {
   "cell_type": "code",
   "execution_count": 13,
   "id": "2bc7ba32-d9cf-44e8-a7da-a20bbdacc89e",
   "metadata": {},
   "outputs": [],
   "source": [
    "split_data(\"data/winequality-red.csv\")"
   ]
  },
  {
   "cell_type": "code",
   "execution_count": 27,
   "id": "9f395ce8-c24c-4c83-8330-12d081774ee4",
   "metadata": {},
   "outputs": [],
   "source": [
    "def train_model(x_train_path: str, y_train_path: str, params: dict):\n",
    "\n",
    "\n",
    "    x_train = pd.read_csv(x_train_path)\n",
    "    y_train = pd.read_csv(y_train_path)\n",
    "\n",
    "    pipe = Pipeline([('scaler', StandardScaler()),\n",
    "                     ('regressor', ElasticNet(alpha=params['alpha'],\n",
    "                                              l1_ratio=params['l1_ratio'],\n",
    "                                              random_state=42))])\n",
    "\n",
    "    return pipe.fit(x_train, y_train)"
   ]
  },
  {
   "cell_type": "code",
   "execution_count": 28,
   "id": "6ea4daf1-5551-4a3b-b56e-ee39f4ff3ad2",
   "metadata": {},
   "outputs": [],
   "source": [
    "params = {\n",
    "    \"alpha\": 0.5,\n",
    "    \"l1_ratio\": 0.5\n",
    "}"
   ]
  },
  {
   "cell_type": "code",
   "execution_count": 37,
   "id": "a4ca943f-7183-474e-92de-df00587eba9c",
   "metadata": {},
   "outputs": [],
   "source": [
    "with mlflow.start_run():\n",
    "    mlflow.sklearn.autolog()\n",
    "    model = train_model(\"data/x_train.csv\",\"data/y_train.csv\", params)"
   ]
  },
  {
   "cell_type": "markdown",
   "id": "b318e212-9a36-41f5-8c7a-1ce0f4c10a7d",
   "metadata": {},
   "source": [
    "## Register model in UI"
   ]
  },
  {
   "cell_type": "markdown",
   "id": "ea0f3c31-b330-4436-b7b7-c082eaa0cfaa",
   "metadata": {},
   "source": [
    "Open http://localhost:5000 and create a new model and model version based on the model of the experiment"
   ]
  },
  {
   "cell_type": "markdown",
   "id": "ca7256f3-6b0c-4e7a-bc1d-30b62c0c7cf0",
   "metadata": {},
   "source": [
    "## Use Model from model registry for prediction"
   ]
  },
  {
   "cell_type": "code",
   "execution_count": null,
   "id": "6ba8f14d-f065-47ce-89c0-be238db7751d",
   "metadata": {},
   "outputs": [],
   "source": []
  }
 ],
 "metadata": {
  "kernelspec": {
   "display_name": "Python 3",
   "language": "python",
   "name": "python3"
  },
  "language_info": {
   "codemirror_mode": {
    "name": "ipython",
    "version": 3
   },
   "file_extension": ".py",
   "mimetype": "text/x-python",
   "name": "python",
   "nbconvert_exporter": "python",
   "pygments_lexer": "ipython3",
   "version": "3.7.9"
  }
 },
 "nbformat": 4,
 "nbformat_minor": 5
}
