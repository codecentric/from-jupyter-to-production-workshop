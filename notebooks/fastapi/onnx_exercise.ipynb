{
 "cells": [
  {
   "cell_type": "markdown",
   "id": "3419d51b-1095-41df-92c7-07158924fecb",
   "metadata": {},
   "source": [
    "# ONNX Exercise: ONNX meets FastAPI\n",
    "\n",
    "Now that you've learned about ONNX and FastAPI, let's try to use them.\n",
    "\n",
    "Our goal: We need a REST API that predicts, whether an applicant should be granted a loan (or not). We have already trained a model for this (please run `onnx_introduction.ipynb` in before), which is available at `model/loan_model.onnx`. You are welcome to tweak the model quality, if you're keen to, but this is not subject of this exercise.\n",
    "\n",
    "We have already started this task in the following cell, that contains part of the required code. You will find spots marked with `...`. In these spots you need to add your code."
   ]
  },
  {
   "cell_type": "code",
   "execution_count": null,
   "id": "16bd8a1d-dffe-4039-9c48-75e35dff543a",
   "metadata": {},
   "outputs": [],
   "source": [
    "%%writefile onnx_exercise.py\n",
    "import numpy as np\n",
    "import onnxruntime as rt\n",
    "from fastapi import FastAPI\n",
    "from pydantic import BaseModel\n",
    "\n",
    "# create the fastapi application\n",
    "api = FastAPI()\n",
    "\n",
    "# load the onnx model. for our demo purposes, the model may live in the global context.\n",
    "# for more advanced apis, it may be reasonable to move the model into a dependency\n",
    "...\n",
    "\n",
    "\n",
    "# define the features that our request expects\n",
    "class LoanFeatures(BaseModel):\n",
    "    applicantincome: float\n",
    "    ...\n",
    "\n",
    "    @classmethod\n",
    "    def get_type_fields(cls, _type) -> set:\n",
    "        \"\"\"Utility function to get all features of this BaseModel of a certain type.\n",
    "\n",
    "        Example usage:\n",
    "        `all_int_fields = LoanFeatures.get_type_fields(int)`  # result: {}\n",
    "        \"\"\"\n",
    "        return {\n",
    "            field for field, fieldinfo in cls.model_fields.items()\n",
    "            if fieldinfo.annotation == _type\n",
    "        }\n",
    "\n",
    "\n",
    "# define the features that our response should send\n",
    "class Prediction(BaseModel):\n",
    "    ...\n",
    "\n",
    "\n",
    "# create a POST endpoint that retrieves prediction requests, performs the prediction and\n",
    "# returns the prediction result as its response\n",
    "@api.post(\"/predict\")\n",
    "def post_predict(loan_features: LoanFeatures) -> list[Prediction]:\n",
    "    # convert the request object into a dict of numpy arrays\n",
    "    # HINT: you can retrieve a dict with all features via loan_features.model_dump()\n",
    "    ...\n",
    "\n",
    "    # convert the feature dtypes into the same dtypes that the model expects\n",
    "    # NOTE that the input_value is expected to be two-dimensional, so we need to reshape it properly\n",
    "    ...\n",
    "\n",
    "    # run the prediction\n",
    "    ...\n",
    "\n",
    "    # create the response object\n",
    "    ...\n",
    "\n",
    "    # return the response\n",
    "    return predictions\n"
   ]
  },
  {
   "cell_type": "markdown",
   "id": "e2c7a8a4-ccc9-4344-b9a2-04e0f2a621ce",
   "metadata": {},
   "source": [
    "When you execute that cell, a file called `onnx_exercise.py` will be written. You can then serve the API with the following command:"
   ]
  },
  {
   "cell_type": "code",
   "execution_count": null,
   "id": "6cd1854f-db0b-41aa-bcdb-83a88a6241ff",
   "metadata": {},
   "outputs": [],
   "source": [
    "!fastapi dev onnx_exercise.py --port 7777 --host 0.0.0.0"
   ]
  },
  {
   "cell_type": "markdown",
   "id": "774c7437-9564-485c-a161-375ac8b3e68a",
   "metadata": {},
   "source": [
    "TODO: vielleicht für die Übung (oder Showcase?) noch mit MLFlow verknüpfen?\n",
    "TODO: get_available_providers?"
   ]
  }
 ],
 "metadata": {
  "kernelspec": {
   "display_name": "Python 3 (ipykernel)",
   "language": "python",
   "name": "python3"
  },
  "language_info": {
   "codemirror_mode": {
    "name": "ipython",
    "version": 3
   },
   "file_extension": ".py",
   "mimetype": "text/x-python",
   "name": "python",
   "nbconvert_exporter": "python",
   "pygments_lexer": "ipython3",
   "version": "3.11.10"
  }
 },
 "nbformat": 4,
 "nbformat_minor": 5
}
