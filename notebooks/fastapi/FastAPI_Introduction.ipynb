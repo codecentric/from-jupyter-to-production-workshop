{
 "cells": [
  {
   "cell_type": "markdown",
   "metadata": {},
   "source": [
    "# FastAPI - Building fast and scalable REST APIs with Python\n",
    "\n",
    "From the FastAPI docs: *FastAPI is a modern, fast (high-performance), web framework for building APIs with Python 3.8+ based on standard Python type hints.*\n",
    "\n",
    "As data scientists we usually build models that are trained on data and optimised on some metrics. At some point, a model needs to be integrated into existing processes, systems and applications. One way to do this is build a microservice that is running inference. FastAPI is a framework that will help us to build a quick REST API that can be integrated into the existing enterprise landscape. "
   ]
  },
  {
   "cell_type": "markdown",
   "metadata": {},
   "source": [
    "## What is a REST API?\n",
    "If REST APIs are new to you, feel free to read this article [API Guide for Data Scientists](https://www.enjoyalgorithms.com/blog/api-introduction-for-data-science-and-ml)."
   ]
  },
  {
   "cell_type": "markdown",
   "metadata": {},
   "source": [
    "## Why is FastAPI a great choice for inference?\n",
    "- High Performance: FastAPI sits on top of Starlette and Pydantic. Starlette is a very low level API framework. FastAPI provides a great abstraction around the Starlette Framework. Compared to other language like NodeJS and Go it provides a similar performance and is on one of the fastest Python frameworks that is available.\n",
    "- Huge productivity: It's very fast to code with FastAPI. In the docs they say the following: *Increase the speed to develop features by about 200% to 300%.*\n",
    "- Fewer bugs: Reduce about 40% of human (developer) induced errors.\n",
    "- Intuitive: Great editor support. Completion everywhere. Less time debugging.\n",
    "- Easy: Designed to be easy to use and learn. Less time reading docs.\n",
    "- Short: Minimize code duplication. Multiple features from each parameter declaration. Fewer bugs.\n",
    "- Robust: Get production-ready code. With automatic interactive documentation.\n",
    "- Standards-based: Based on (and fully compatible with) the open standards for APIs: OpenAPI (previously known as Swagger) and JSON Schema."
   ]
  },
  {
   "cell_type": "markdown",
   "metadata": {},
   "source": [
    "## Let's jump straight into the framework"
   ]
  },
  {
   "cell_type": "markdown",
   "metadata": {},
   "source": [
    "Exercise: run the cell below open the API in the browser (localhost:7777/docs) and execute a calculation"
   ]
  },
  {
   "cell_type": "code",
   "execution_count": null,
   "metadata": {},
   "outputs": [],
   "source": [
    "!uvicorn hello_world_app:app --port 7777 --host 0.0.0.0"
   ]
  },
  {
   "cell_type": "markdown",
   "metadata": {},
   "source": [
    "# Let's add inference"
   ]
  },
  {
   "cell_type": "code",
   "execution_count": null,
   "metadata": {},
   "outputs": [],
   "source": [
    "!uvicorn main:api --port 7777 --host 0.0.0.0"
   ]
  }
 ],
 "metadata": {
  "kernelspec": {
   "display_name": "Python 3 (ipykernel)",
   "language": "python",
   "name": "python3"
  },
  "language_info": {
   "codemirror_mode": {
    "name": "ipython",
    "version": 3
   },
   "file_extension": ".py",
   "mimetype": "text/x-python",
   "name": "python",
   "nbconvert_exporter": "python",
   "pygments_lexer": "ipython3",
   "version": "3.11.6"
  }
 },
 "nbformat": 4,
 "nbformat_minor": 4
}
