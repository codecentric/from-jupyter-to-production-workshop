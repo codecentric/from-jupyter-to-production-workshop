{
 "cells": [
  {
   "cell_type": "markdown",
   "metadata": {},
   "source": [
    "# FastAPI - Building fast and scalable REST APIs with Python\n",
    "\n",
    "From the FastAPI docs: *FastAPI is a modern, fast (high-performance), web framework for building APIs with Python 3.6+ based on standard Python type hints.*\n",
    "\n",
    "As data scientists we usually build models that are trained on data and optimised on some metrics. At some point, a model needs to be integrated into existing processes, systems and applications. One way to do this is build a microservice that is running inference. FastAPI is a framework that will help us to build a quick REST API that can be integrated into the existing enterprise landscape. "
   ]
  },
  {
   "cell_type": "markdown",
   "metadata": {},
   "source": [
    "## What is a REST API?\n",
    "If REST APIs are new to you, feel free to read this article [API Guide for Data Scientists](https://towardsdatascience.com/api-guide-for-data-scientists-e373f997ed61)."
   ]
  },
  {
   "cell_type": "markdown",
   "metadata": {},
   "source": [
    "## Why is FastAPI a great choice for inference?\n",
    "- High Performance: FastAPI sits on top of Starlette and Pydantic. Starlette is a very low level API framework. FastAPI provides a great abstraction around the Startlette Framework. Compared to other language like NodeJS and Go it provides a similar performance and is on one of the fastest Python frameworks that is available.\n",
    "- Huge productivity: It's very fast to code with FastAPI. In the docs they say the following: *Increase the speed to develop features by about 200% to 300%.*\n",
    "- Fewer bugs: Reduce about 40% of human (developer) induced errors. *\n",
    "- Intuitive: Great editor support. Completion everywhere. Less time debugging.\n",
    "- Easy: Designed to be easy to use and learn. Less time reading docs.\n",
    "- Short: Minimize code duplication. Multiple features from each parameter declaration. Fewer bugs.\n",
    "- Robust: Get production-ready code. With automatic interactive documentation.\n",
    "- Standards-based: Based on (and fully compatible with) the open standards for APIs: OpenAPI (previously known as Swagger) and JSON Schema."
   ]
  },
  {
   "cell_type": "markdown",
   "metadata": {},
   "source": [
    "## Let's jump straight into the framework"
   ]
  },
  {
   "cell_type": "code",
   "execution_count": 2,
   "metadata": {},
   "outputs": [
    {
     "name": "stdout",
     "output_type": "stream",
     "text": [
      "Collecting fastapi\n",
      "  Downloading fastapi-0.61.1-py3-none-any.whl (48 kB)\n",
      "\u001b[K     |████████████████████████████████| 48 kB 772 kB/s eta 0:00:01\n",
      "\u001b[?25hCollecting uvicorn\n",
      "  Downloading uvicorn-0.12.1-py3-none-any.whl (44 kB)\n",
      "\u001b[K     |████████████████████████████████| 44 kB 2.7 MB/s  eta 0:00:01\n",
      "\u001b[?25hCollecting pydantic<2.0.0,>=1.0.0\n",
      "  Downloading pydantic-1.6.1-cp37-cp37m-manylinux2014_x86_64.whl (8.6 MB)\n",
      "\u001b[K     |████████████████████████████████| 8.6 MB 5.9 MB/s eta 0:00:01     |█████▏                          | 1.4 MB 2.3 MB/s eta 0:00:04     |████████▋                       | 2.3 MB 2.3 MB/s eta 0:00:03     |██████████████████████████████▊ | 8.3 MB 5.9 MB/s eta 0:00:01\n",
      "\u001b[?25hCollecting starlette==0.13.6\n",
      "  Downloading starlette-0.13.6-py3-none-any.whl (59 kB)\n",
      "\u001b[K     |████████████████████████████████| 59 kB 4.3 MB/s eta 0:00:011\n",
      "\u001b[?25hRequirement already satisfied: typing-extensions; python_version < \"3.8\" in /usr/local/envs/workshop/lib/python3.7/site-packages (from uvicorn) (3.7.4.2)\n",
      "Requirement already satisfied: click==7.* in /usr/local/envs/workshop/lib/python3.7/site-packages (from uvicorn) (7.1.2)\n",
      "Collecting h11>=0.8\n",
      "  Downloading h11-0.11.0-py2.py3-none-any.whl (54 kB)\n",
      "\u001b[K     |████████████████████████████████| 54 kB 3.2 MB/s eta 0:00:011\n",
      "\u001b[?25hInstalling collected packages: pydantic, starlette, fastapi, h11, uvicorn\n",
      "Successfully installed fastapi-0.61.1 h11-0.11.0 pydantic-1.6.1 starlette-0.13.6 uvicorn-0.12.1\n"
     ]
    }
   ],
   "source": [
    "# Installing fastapi and uvicorn to the run the application\n",
    "!pip install fastapi uvicorn"
   ]
  },
  {
   "cell_type": "markdown",
   "metadata": {},
   "source": [
    "Exercise: run the cell below open the API in the browser (localhost:7777/docs) and execute a calculation"
   ]
  },
  {
   "cell_type": "code",
   "execution_count": 5,
   "metadata": {},
   "outputs": [
    {
     "name": "stdout",
     "output_type": "stream",
     "text": [
      "\u001b[32mINFO\u001b[0m:     Started server process [\u001b[36m83\u001b[0m]\n",
      "\u001b[32mINFO\u001b[0m:     Waiting for application startup.\n",
      "\u001b[32mINFO\u001b[0m:     Application startup complete.\n",
      "\u001b[32mINFO\u001b[0m:     Uvicorn running on \u001b[1mhttp://0.0.0.0:7777\u001b[0m (Press CTRL+C to quit)\n",
      "\u001b[32mINFO\u001b[0m:     172.28.0.1:47174 - \"\u001b[1mGET / HTTP/1.1\u001b[0m\" \u001b[32m200 OK\u001b[0m\n",
      "\u001b[32mINFO\u001b[0m:     172.28.0.1:47174 - \"\u001b[1mGET /docs HTTP/1.1\u001b[0m\" \u001b[32m200 OK\u001b[0m\n",
      "\u001b[32mINFO\u001b[0m:     172.28.0.1:47174 - \"\u001b[1mGET /openapi.json HTTP/1.1\u001b[0m\" \u001b[32m200 OK\u001b[0m\n",
      "\u001b[32mINFO\u001b[0m:     172.28.0.1:47176 - \"\u001b[1mPOST /add HTTP/1.1\u001b[0m\" \u001b[32m200 OK\u001b[0m\n",
      "^C\n",
      "\u001b[32mINFO\u001b[0m:     Shutting down\n",
      "\u001b[32mINFO\u001b[0m:     Waiting for application shutdown.\n",
      "\u001b[32mINFO\u001b[0m:     Application shutdown complete.\n",
      "\u001b[32mINFO\u001b[0m:     Finished server process [\u001b[36m83\u001b[0m]\n"
     ]
    }
   ],
   "source": [
    "!uvicorn hello_world_app:app --port 7777 --host 0.0.0.0"
   ]
  },
  {
   "cell_type": "markdown",
   "metadata": {},
   "source": [
    "# Let's add inference"
   ]
  },
  {
   "cell_type": "code",
   "execution_count": null,
   "metadata": {},
   "outputs": [
    {
     "name": "stdout",
     "output_type": "stream",
     "text": [
      "\u001b[32mINFO\u001b[0m:     Started server process [\u001b[36m137\u001b[0m]\n",
      "\u001b[32mINFO\u001b[0m:     Waiting for application startup.\n",
      "\u001b[32mINFO\u001b[0m:     Application startup complete.\n",
      "\u001b[32mINFO\u001b[0m:     Uvicorn running on \u001b[1mhttp://0.0.0.0:7777\u001b[0m (Press CTRL+C to quit)\n",
      "\u001b[32mINFO\u001b[0m:     172.28.0.1:45522 - \"\u001b[1mGET / HTTP/1.1\u001b[0m\" \u001b[31m404 Not Found\u001b[0m\n",
      "\u001b[32mINFO\u001b[0m:     172.28.0.1:45522 - \"\u001b[1mGET /docs HTTP/1.1\u001b[0m\" \u001b[32m200 OK\u001b[0m\n",
      "\u001b[32mINFO\u001b[0m:     172.28.0.1:45522 - \"\u001b[1mGET /openapi.json HTTP/1.1\u001b[0m\" \u001b[32m200 OK\u001b[0m\n",
      "\u001b[32mINFO\u001b[0m:     172.28.0.1:45520 - \"\u001b[1mPOST /predict HTTP/1.1\u001b[0m\" \u001b[32m200 OK\u001b[0m\n"
     ]
    }
   ],
   "source": [
    "!uvicorn main:app --port 7777 --host 0.0.0.0"
   ]
  }
 ],
 "metadata": {
  "kernelspec": {
   "display_name": "Python 3",
   "language": "python",
   "name": "python3"
  },
  "language_info": {
   "codemirror_mode": {
    "name": "ipython",
    "version": 3
   },
   "file_extension": ".py",
   "mimetype": "text/x-python",
   "name": "python",
   "nbconvert_exporter": "python",
   "pygments_lexer": "ipython3",
   "version": "3.7.9"
  }
 },
 "nbformat": 4,
 "nbformat_minor": 4
}
